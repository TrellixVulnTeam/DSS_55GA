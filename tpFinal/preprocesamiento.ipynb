{
 "cells": [
  {
   "cell_type": "code",
   "execution_count": null,
   "metadata": {
    "collapsed": true
   },
   "outputs": [],
   "source": [
    "from sklearn.metrics import classification_report, confusion_matrix\n",
    "from utils import mnist_reader\n",
    "from timeit import default_timer as timer\n",
    "\n",
    "from sklearn.preprocessing import MinMaxScaler\n",
    "from sklearn.preprocessing import StandardScaler\n",
    "from sklearn.preprocessing import Normalizer\n",
    "from sklearn.decomposition import PCA\n",
    "from ast import literal_eval\n",
    "\n",
    "import scikitplot as skplt\n",
    "\n",
    "import matplotlib.pyplot as plt\n",
    "import numpy as np\n",
    "import pandas as pd\n",
    "import itertools\n",
    "\n",
    "\n",
    "X_train, y_train = mnist_reader.load_mnist('data/fashion', kind='train')\n",
    "X_test, y_test = mnist_reader.load_mnist('data/fashion', kind='t10k')\n",
    "\n",
    "class_names = np.unique(y_test)\n",
    "\n",
    "### visualizacion de datos de entrenamiento\n",
    "\n",
    "# defined labels\n",
    "labels = ['T-shirt/top', 'Trouser', 'Pullover', 'Dress', 'Coat', 'Sandal',\n",
    "         'Shirt', 'Sneaker', 'Bag', 'Ankle boot']\n",
    "\n",
    "# defined colors, i love this one\n",
    "colors = ['rgb(0,31,63)', 'rgb(255,133,27)', 'rgb(255,65,54)', 'rgb(0,116,217)', 'rgb(133,20,75)', 'rgb(57,204,204)',\n",
    "'rgb(240,18,190)', 'rgb(46,204,64)', 'rgb(1,255,112)', 'rgb(255,220,0)',\n",
    "'rgb(76,114,176)', 'rgb(85,168,104)', 'rgb(129,114,178)', 'rgb(100,181,205)']\n",
    "\n",
    "    \n",
    "df_copy_images_ = StandardScaler().fit_transform(X_train)\n",
    "df_copy_images_ = Normalizer().fit_transform(df_copy_images_)\n",
    "df_copy_images_component = PCA(n_components = 2).fit_transform(df_copy_images_)\n",
    "\n",
    "# esclamos los valores ente 0 y 1\n",
    "df_copy_images_component = MinMaxScaler().fit_transform(df_copy_images_component)\n",
    "\n",
    "plt.rcParams[\"figure.figsize\"] = [21, 18]\n",
    "\n",
    "for k, i in enumerate(class_names):\n",
    "    plt.scatter(df_copy_images_component[y_train == i, 0],\n",
    "               df_copy_images_component[y_train == i, 1],\n",
    "               color = '#%02x%02x%02x' % literal_eval(colors[k][3:]),label = labels[k])\n",
    "plt.legend()\n",
    "plt.show()\n"
   ]
  }
 ],
 "metadata": {
  "kernelspec": {
   "display_name": "Python 2",
   "language": "python",
   "name": "python2"
  },
  "language_info": {
   "codemirror_mode": {
    "name": "ipython",
    "version": 2
   },
   "file_extension": ".py",
   "mimetype": "text/x-python",
   "name": "python",
   "nbconvert_exporter": "python",
   "pygments_lexer": "ipython2",
   "version": "2.7.12"
  }
 },
 "nbformat": 4,
 "nbformat_minor": 2
}
