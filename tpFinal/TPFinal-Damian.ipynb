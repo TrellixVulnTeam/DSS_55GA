{
 "cells": [
  {
   "cell_type": "code",
   "execution_count": 1,
   "metadata": {},
   "outputs": [],
   "source": [
    "from sklearn.metrics import classification_report, confusion_matrix\n",
    "from utils import mnist_reader\n",
    "\n",
    "import matplotlib.pyplot as plt\n",
    "import numpy as np\n",
    "import pandas as pd\n",
    "import itertools\n"
   ]
  },
  {
   "cell_type": "code",
   "execution_count": 2,
   "metadata": {},
   "outputs": [],
   "source": [
    "\n",
    "def show_image(pixels, label, color =\"gray\"):\n",
    "    pixels = pixels.reshape((28,28))\n",
    "    plt.imshow(pixels, cmap=color)\n",
    "    plt.show()\n",
    "    \n",
    "\n",
    "def plot_confusion_matrix(cm, classes, normalize=False, title='Confusion matrix', cmap=plt.cm.Blues):\n",
    "    \"\"\"\n",
    "    This function prints and plots the confusion matrix.\n",
    "    Normalization can be applied by setting `normalize=True`.\n",
    "    \"\"\"\n",
    "    if normalize:\n",
    "        cm = cm.astype('float') / cm.sum(axis=1)[:, np.newaxis]\n",
    "        print(\"Normalized confusion matrix\")\n",
    "    else:\n",
    "        print('Confusion matrix, without normalization')\n",
    "\n",
    "    print(cm)\n",
    "\n",
    "    plt.imshow(cm, interpolation='nearest', cmap=cmap)\n",
    "    plt.title(title)\n",
    "    plt.colorbar()\n",
    "    tick_marks = np.arange(len(classes))\n",
    "    plt.xticks(tick_marks, classes, rotation=45)\n",
    "    plt.yticks(tick_marks, classes)\n",
    "\n",
    "    fmt = '.2f' if normalize else 'd'\n",
    "    thresh = cm.max() / 2.\n",
    "    for i, j in itertools.product(range(cm.shape[0]), range(cm.shape[1])):\n",
    "        plt.text(j, i, format(cm[i, j], fmt),\n",
    "                 horizontalalignment=\"center\",\n",
    "                 color=\"white\" if cm[i, j] > thresh else \"black\")\n",
    "\n",
    "    plt.tight_layout()\n",
    "    plt.ylabel('True label')\n",
    "    plt.xlabel('Predicted label')\n",
    "    "
   ]
  },
  {
   "cell_type": "code",
   "execution_count": 3,
   "metadata": {},
   "outputs": [],
   "source": [
    "\n",
    "X_train, y_train = mnist_reader.load_mnist('data/fashion', kind='train')\n",
    "X_test, y_test = mnist_reader.load_mnist('data/fashion', kind='t10k')\n",
    "\n",
    "class_names = np.unique(y_test)\n"
   ]
  },
  {
   "cell_type": "code",
   "execution_count": 4,
   "metadata": {},
   "outputs": [
    {
     "name": "stdout",
     "output_type": "stream",
     "text": [
      "X_train = 60000 \n",
      " y_train = 60000\n",
      "X_test = 10000 \n",
      " y_test = 10000\n"
     ]
    }
   ],
   "source": [
    "print \"X_train = %d \\n y_train = %d\"%(len(X_train), len(y_train))\n",
    "print \"X_test = %d \\n y_test = %d\"%(len(X_test), len(y_test))"
   ]
  },
  {
   "cell_type": "code",
   "execution_count": 5,
   "metadata": {},
   "outputs": [
    {
     "data": {
      "text/plain": [
       "(60000L, 784L)"
      ]
     },
     "execution_count": 5,
     "metadata": {},
     "output_type": "execute_result"
    }
   ],
   "source": [
    "X_train.shape"
   ]
  },
  {
   "cell_type": "code",
   "execution_count": 6,
   "metadata": {},
   "outputs": [
    {
     "data": {
      "image/png": "[encoded data removed]",
      "text/plain": [
       "<matplotlib.figure.Figure at 0xc690cc0>"
      ]
     },
     "metadata": {},
     "output_type": "display_data"
    }
   ],
   "source": [
    "show_image(X_train[0], y_test[0])"
   ]
  },
  {
   "cell_type": "code",
   "execution_count": 7,
   "metadata": {},
   "outputs": [
    {
     "data": {
      "text/plain": [
       "0.10000000000000001"
      ]
     },
     "execution_count": 7,
     "metadata": {},
     "output_type": "execute_result"
    }
   ],
   "source": [
    "from sklearn.dummy import DummyClassifier\n",
    "from sklearn.svm import SVC\n",
    "\n",
    "clf = DummyClassifier(strategy='prior',random_state=0)\n",
    "clf.fit(X_train, y_train)\n",
    "clf.score(X_test, y_test)\n"
   ]
  },
  {
   "cell_type": "markdown",
   "metadata": {},
   "source": [
    "## Greatshearch ##\n",
    "El siguiente link tiene un ejemplo de greatshearch para svc. Se definen distintos parametros y se printea cual de las combinaciones de ellos es la mas optima. Es un procesos costoso que habria que hacer algun dia D:\n",
    "\n",
    "http://scikit-learn.org/0.18/auto_examples/model_selection/grid_search_digits.html"
   ]
  },
  {
   "cell_type": "code",
   "execution_count": 13,
   "metadata": {},
   "outputs": [
    {
     "data": {
      "text/plain": [
       "SVC(C=1.0, cache_size=200, class_weight=None, coef0=0.0,\n",
       "  decision_function_shape='ovr', degree=2, gamma='auto', kernel='poly',\n",
       "  max_iter=-1, probability=False, random_state=None, shrinking=True,\n",
       "  tol=0.001, verbose=False)"
      ]
     },
     "execution_count": 13,
     "metadata": {},
     "output_type": "execute_result"
    }
   ],
   "source": [
    "### Entrenamos la maquina SVM ###\n",
    "from sklearn import svm\n",
    "\n",
    "svc = svm.SVC(kernel='poly', degree=2, C=1.0)\n",
    "svc.fit(X_train, y_train)  \n"
   ]
  },
  {
   "cell_type": "code",
   "execution_count": 14,
   "metadata": {},
   "outputs": [
    {
     "name": "stdout",
     "output_type": "stream",
     "text": [
      "Confusion matrix, without normalization\n",
      "[[844   1  19  19   6   2 102   0   7   0]\n",
      " [  2 981   5   8   3   0   1   0   0   0]\n",
      " [ 32   3 826  12  68   0  58   0   1   0]\n",
      " [ 42   8  23 865  26   0  30   0   6   0]\n",
      " [  3   1  99  40 804   0  48   0   5   0]\n",
      " [  1   0   0   1   0 965   0  16   2  15]\n",
      " [144   1  90  26  69   0 663   0   7   0]\n",
      " [  0   0   0   0   0  20   0 954   0  26]\n",
      " [  7   0   9   4   3   3  10   2 962   0]\n",
      " [  0   1   0   0   0  11   1  25   1 961]]\n"
     ]
    },
    {
     "data": {
      "image/png": "[encoded data removed]",
      "text/plain": [
       "<matplotlib.figure.Figure at 0x148af6d8>"
      ]
     },
     "metadata": {},
     "output_type": "display_data"
    },
    {
     "name": "stdout",
     "output_type": "stream",
     "text": [
      "             precision    recall  f1-score   support\n",
      "\n",
      "          0       0.79      0.84      0.81      1000\n",
      "          1       0.98      0.98      0.98      1000\n",
      "          2       0.77      0.83      0.80      1000\n",
      "          3       0.89      0.86      0.88      1000\n",
      "          4       0.82      0.80      0.81      1000\n",
      "          5       0.96      0.96      0.96      1000\n",
      "          6       0.73      0.66      0.69      1000\n",
      "          7       0.96      0.95      0.96      1000\n",
      "          8       0.97      0.96      0.97      1000\n",
      "          9       0.96      0.96      0.96      1000\n",
      "\n",
      "avg / total       0.88      0.88      0.88     10000\n",
      "\n"
     ]
    }
   ],
   "source": [
    "### Clasificamos SVM ###\n",
    "y_predict = svc.predict(X_test)\n",
    "cnf_matrix = confusion_matrix(y_test, y_predict)\n",
    "\n",
    "plt.figure()\n",
    "plot_confusion_matrix(cnf_matrix, classes=class_names,title='Confusion matrix, without normalization')\n",
    "plt.show()\n",
    "\n",
    "print(classification_report(y_test, y_predict))"
   ]
  },
  {
   "cell_type": "code",
   "execution_count": 15,
   "metadata": {},
   "outputs": [
    {
     "data": {
      "text/plain": [
       "RandomForestClassifier(bootstrap=True, class_weight=None, criterion='gini',\n",
       "            max_depth=None, max_features='auto', max_leaf_nodes=None,\n",
       "            min_impurity_decrease=0.0, min_impurity_split=None,\n",
       "            min_samples_leaf=1, min_samples_split=2,\n",
       "            min_weight_fraction_leaf=0.0, n_estimators=10, n_jobs=1,\n",
       "            oob_score=False, random_state=None, verbose=0,\n",
       "            warm_start=False)"
      ]
     },
     "execution_count": 15,
     "metadata": {},
     "output_type": "execute_result"
    }
   ],
   "source": [
    "### Entrenamos la maquina RandomForest ###\n",
    "from sklearn.ensemble import RandomForestClassifier\n",
    "\n",
    "rf = RandomForestClassifier() # Creando el modelo\n",
    "rf.fit(X_train, y_train) # Ajustando el modelo\n"
   ]
  },
  {
   "cell_type": "code",
   "execution_count": 16,
   "metadata": {},
   "outputs": [
    {
     "name": "stdout",
     "output_type": "stream",
     "text": [
      "Confusion matrix, without normalization\n",
      "[[844   0  18  34   8   1  86   0   9   0]\n",
      " [  7 959   6  22   4   0   1   0   1   0]\n",
      " [ 21   0 790   9 114   0  62   0   4   0]\n",
      " [ 27   8  10 887  39   0  27   0   2   0]\n",
      " [  2   2 143  37 766   0  45   0   5   0]\n",
      " [  0   0   0   1   0 954   0  30   3  12]\n",
      " [188   1 141  31 100   0 520   0  19   0]\n",
      " [  0   0   0   0   0  19   0 945   1  35]\n",
      " [  5   2   4   5   6   2  12   5 957   2]\n",
      " [  0   0   0   0   0  20   0  43   2 935]]\n"
     ]
    },
    {
     "data": {
      "image/png": "[encoded data removed]",
      "text/plain": [
       "<matplotlib.figure.Figure at 0xcf15c18>"
      ]
     },
     "metadata": {},
     "output_type": "display_data"
    },
    {
     "name": "stdout",
     "output_type": "stream",
     "text": [
      "             precision    recall  f1-score   support\n",
      "\n",
      "          0       0.77      0.84      0.81      1000\n",
      "          1       0.99      0.96      0.97      1000\n",
      "          2       0.71      0.79      0.75      1000\n",
      "          3       0.86      0.89      0.88      1000\n",
      "          4       0.74      0.77      0.75      1000\n",
      "          5       0.96      0.95      0.96      1000\n",
      "          6       0.69      0.52      0.59      1000\n",
      "          7       0.92      0.94      0.93      1000\n",
      "          8       0.95      0.96      0.96      1000\n",
      "          9       0.95      0.94      0.94      1000\n",
      "\n",
      "avg / total       0.85      0.86      0.85     10000\n",
      "\n"
     ]
    }
   ],
   "source": [
    "### Clasificamos RandomForest ###\n",
    "predict = rf.predict(X_test)\n",
    "cnf_matrix = confusion_matrix(y_test, predict)\n",
    "\n",
    "plt.figure()\n",
    "plot_confusion_matrix(cnf_matrix, classes=class_names,title='Confusion matrix, without normalization')\n",
    "plt.show()\n",
    "\n",
    "print(classification_report(y_test, predict, class_names))"
   ]
  },
  {
   "cell_type": "code",
   "execution_count": 17,
   "metadata": {},
   "outputs": [
    {
     "data": {
      "text/plain": [
       "array([ 0.81349398,  0.98296593,  0.79768228,  0.87594937,  0.81253158,\n",
       "        0.96451774,  0.69315212,  0.95543315,  0.96634857,  0.96003996])"
      ]
     },
     "execution_count": 17,
     "metadata": {},
     "output_type": "execute_result"
    }
   ],
   "source": [
    "# MEDIMOS PREDICCION DE SVC\n",
    "from sklearn.metrics import f1_score\n",
    "\n",
    "f1_score(y_test, y_predict, average='macro')  \n",
    "f1_score(y_test, y_predict, average='micro')  \n",
    "f1_score(y_test, y_predict, average='weighted')  \n",
    "f1_score(y_test, y_predict, average=None)"
   ]
  },
  {
   "cell_type": "code",
   "execution_count": null,
   "metadata": {},
   "outputs": [],
   "source": []
  },
  {
   "cell_type": "markdown",
   "metadata": {
    "collapsed": true
   },
   "source": [
    "from sklearn.neural_network import MLPClassifier\n",
    "from timeit import default_timer as timer\n",
    "redNeuronal = MLPClassifier(max_iter=1000, hidden_layer_sizes=(100,250,500,1000))\n",
    "#La cantidad de iteraciones = 1000\n",
    "#Capas ocultas = [10,25,50,100]"
   ]
  },
  {
   "cell_type": "markdown",
   "metadata": {
    "collapsed": true
   },
   "source": [
    "comienzo = timer()\n",
    "redNeuronal.fit(X_train, y_train)\n",
    "fin = timer() - comienzo\n",
    "print(\"Tiempo red neuronal:\",fin, \" segundos\")"
   ]
  },
  {
   "cell_type": "markdown",
   "metadata": {
    "collapsed": true
   },
   "source": [
    "indicador = redNeuronal.score(X_test, y_test)\n",
    "if indicador > 0.5 and indicador < 1:\n",
    "    print(\"Entrenado\")\n",
    "else:\n",
    "    if indicador == 1.0:\n",
    "        print(\"Sobreentrenado\")\n",
    "    else:\n",
    "        print(\"Falta entrenamiento\")\n",
    "print (indicador)"
   ]
  },
  {
   "cell_type": "markdown",
   "metadata": {
    "collapsed": true
   },
   "source": [
    "predict = redNeuronal.predict(X_test)\n",
    "cnf_matrix = confusion_matrix(y_test, predict)\n",
    "\n",
    "plt.figure()\n",
    "plot_confusion_matrix(cnf_matrix, classes=class_names,title='Confusion matrix red neuronal, sin normalization')\n",
    "plt.show()\n",
    "\n",
    "print(classification_report(y_test, predict, class_names))"
   ]
  },
  {
   "cell_type": "markdown",
   "metadata": {
    "scrolled": true
   },
   "source": [
    "from timeit import default_timer as timer\n",
    "from lasagne.layers import InputLayer, Conv2DLayer, DropoutLayer, MaxPool2DLayer, DenseLayer\n",
    "from lasagne.nonlinearities import rectify"
   ]
  },
  {
   "cell_type": "markdown",
   "metadata": {},
   "source": [
    "import theano\n",
    "import lasagne\n",
    "from lasagne.updates import nesterov_momentum\n",
    "from nolearn.lasagne import NeuralNet\n",
    "from lasagne.layers import InputLayer, Conv2DLayer, DropoutLayer,MaxPool2DLayer, DenseLayer\n",
    "from lasagne.objectives import categorical_crossentropy\n",
    "from nolearn.lasagne import BatchIterator"
   ]
  },
  {
   "cell_type": "markdown",
   "metadata": {},
   "source": [
    "arquitectura1 = [\n",
    "                (InputLayer, {'shape': (None, 1, 28, 28)}), #cantidad, canal(monocromatico),col,filas\n",
    "               (Conv2DLayer, {'num_filters':5, 'filter_size': 10, 'W': lasagne.init.GlorotUniform()}),\n",
    "                (MaxPool2DLayer, {'pool_size': 2}),\n",
    "             (Conv2DLayer, {'num_filters':5, 'filter_size': 5, 'W': lasagne.init.GlorotUniform()}),\n",
    "                (MaxPool2DLayer, {'pool_size': 2}),\n",
    "                (DenseLayer, {'num_units': 10}),\n",
    "                (DropoutLayer, {'p': 0.5}),\n",
    "                (DenseLayer, {'num_units': 10}),\n",
    "                (DenseLayer, {'num_units': 10, 'nonlinearity': lasagne.nonlinearities.softmax}),\n",
    "        ]#parametros 1565 score=0.02\n",
    "\n",
    "arquitectura2 = [\n",
    "                (InputLayer, {'shape': (None, 1, 28, 28)}), #cantidad, canal(monocromatico),col,filas\n",
    "               (Conv2DLayer, {'num_filters':1, 'filter_size': 10, 'W': lasagne.init.GlorotUniform()}),\n",
    "                (MaxPool2DLayer, {'pool_size': 2}),\n",
    "             (Conv2DLayer, {'num_filters':1, 'filter_size': 5, 'W': lasagne.init.GlorotUniform()}),\n",
    "                (MaxPool2DLayer, {'pool_size': 2}),\n",
    "                (DenseLayer, {'num_units': 10}),\n",
    "                (DropoutLayer, {'p': 0.5}),\n",
    "                (DenseLayer, {'num_units': 10, 'nonlinearity': lasagne.nonlinearities.softmax}),\n",
    "        ]#287 parametros score = 0.02\n",
    "arquitectura3 = [\n",
    "                (InputLayer, {'shape': (None, 1, 28, 28)}), #cantidad, canal(monocromatico),col,filas\n",
    "                (Conv2DLayer, {'num_filters':5, 'filter_size': 3, 'W': lasagne.init.GlorotUniform()}),\n",
    "                (Conv2DLayer, {'num_filters':5, 'filter_size': 2, 'W': lasagne.init.GlorotUniform()}),\n",
    "                (Conv2DLayer, {'num_filters':5, 'filter_size': 1, 'W': lasagne.init.GlorotUniform()}),\n",
    "                (MaxPool2DLayer, {'pool_size': 2}),\n",
    "                (DenseLayer, {'num_units': 10}),\n",
    "                (DropoutLayer, {'p': 0.5}),\n",
    "                (DenseLayer, {'num_units': 10, 'nonlinearity': lasagne.nonlinearities.softmax}),\n",
    "        ]## Neural Network with 7505 learnable parameters, score 0.02\n",
    "arquitectura4 = [\n",
    "                (InputLayer, {'shape': (None, 1, 28, 28)}), #cantidad, canal(monocromatico),col,filas\n",
    "                (Conv2DLayer, {'num_filters':10, 'filter_size': 10, 'W': lasagne.init.GlorotUniform()}),\n",
    "                (Conv2DLayer, {'num_filters':10, 'filter_size': 5, 'W': lasagne.init.GlorotUniform()}),\n",
    "                (Conv2DLayer, {'num_filters':10, 'filter_size': 2, 'W': lasagne.init.GlorotUniform()}),\n",
    "                (MaxPool2DLayer, {'pool_size': 2}),\n",
    "                (Conv2DLayer, {'num_filters':10, 'filter_size': 5, 'W': lasagne.init.GlorotUniform()}),\n",
    "                (DenseLayer, {'num_units': 100}),\n",
    "                (DropoutLayer, {'p': 0.5}),\n",
    "                (DenseLayer, {'num_units': 10, 'nonlinearity': lasagne.nonlinearities.softmax}),\n",
    "        ]#Network with 16550 learnable parameters, score=0.1, tiempo\n",
    "arquitectura5 = [\n",
    "                (InputLayer, {'shape': (None, 1, 28, 28)}), #cantidad, canal(monocromatico),col,filas\n",
    "                (Conv2DLayer, {'num_filters':100, 'filter_size': 3, 'W': lasagne.init.GlorotUniform()}),\n",
    "                (MaxPool2DLayer, {'pool_size': 2}),\n",
    "                (DropoutLayer, {'p': 0.5}),\n",
    "                (DenseLayer, {'num_units': 10, 'nonlinearity': lasagne.nonlinearities.softmax}),\n",
    "        ]#0.32 score, tiempo 871.16 sg, parametros 170 mil\n",
    "\n",
    "arquitectura6 = [\n",
    "                (InputLayer, {'shape': (None, 1, 28, 28)}), #cantidad, canal(monocromatico),col,filas\n",
    "                (Conv2DLayer, {'num_filters':100, 'filter_size': 10, 'W': lasagne.init.GlorotUniform()}),\n",
    "                (Conv2DLayer, {'num_filters':10, 'filter_size': 5, 'W': lasagne.init.GlorotUniform()}),\n",
    "                (MaxPool2DLayer, {'pool_size': 2}),\n",
    "                (Conv2DLayer, {'num_filters':10, 'filter_size': 2, 'W': lasagne.init.GlorotUniform()}),\n",
    "                (DropoutLayer, {'p': 0.5}),\n",
    "                (DenseLayer, {'num_units': 10, 'nonlinearity': lasagne.nonlinearities.softmax}),\n",
    "        ]#0.1 score, tiempo cortado, parametros 39130 \n",
    "\n",
    "arquitectura7 = [\n",
    "                (InputLayer, {'shape': (None, 1, 28, 28)}), #cantidad, canal(monocromatico),col,filas\n",
    "                (Conv2DLayer, {'num_filters':100, 'filter_size': (3,3), 'W': lasagne.init.GlorotUniform()}),\n",
    "                (MaxPool2DLayer, {'pool_size': 2}),\n",
    "                (DropoutLayer, {'p': 0.25}),\n",
    "                (DenseLayer, {'num_units': 10, 'nonlinearity': lasagne.nonlinearities.softmax}),\n",
    "        ]# empezo con score 0.28, tiempo sg, parametros \n",
    "arquitectura8 = [\n",
    "                (InputLayer, {'shape': (None, 1, 28, 28)}), #cantidad, canal(monocromatico),col,filas\n",
    "                (Conv2DLayer, {'num_filters':100, 'filter_size': (3,3), 'W': lasagne.init.GlorotUniform()}),\n",
    "                (Conv2DLayer, {'num_filters':100, 'filter_size': (2,2), 'W': lasagne.init.GlorotUniform()}),\n",
    "                (MaxPool2DLayer, {'pool_size': 2}),\n",
    "                (DropoutLayer, {'p': 0.25}),\n",
    "                (DenseLayer, {'num_units': 10, 'nonlinearity': lasagne.nonlinearities.softmax}),\n",
    "        ]# score: 0.10, tiempo sg, parametros 185110\n",
    "arquitectura9 = [\n",
    "                (InputLayer, {'shape': (None, 1, 28, 28)}), #cantidad, canal(monocromatico),col,filas\n",
    "                (Conv2DLayer, {'num_filters':100, 'filter_size': (3,3), 'W': lasagne.init.GlorotUniform()}),\n",
    "                (Conv2DLayer, {'num_filters':100, 'filter_size': (4,4), 'W': lasagne.init.GlorotUniform()}),\n",
    "                (MaxPool2DLayer, {'pool_size': 2}),\n",
    "                (Conv2DLayer, {'num_filters':100, 'filter_size': (5,5), 'W': lasagne.init.GlorotUniform()}),\n",
    "                (DropoutLayer, {'p': 0.25}),\n",
    "                (DenseLayer, {'num_units': 10, 'nonlinearity': lasagne.nonlinearities.softmax}),\n",
    "        ]# score 0.1, tiempo sg 11992, parametros 460210  \n",
    "arquitectura10 = [\n",
    "                (InputLayer, {'shape': (None, 1, 28, 28)}), #cantidad, canal(monocromatico),col,filas\n",
    "                (Conv2DLayer, {'num_filters':1000, 'filter_size': (3,3), 'W': lasagne.init.GlorotUniform()}),\n",
    "                (MaxPool2DLayer, {'pool_size': 2}),\n",
    "                (DropoutLayer, {'p': 0.25}),\n",
    "                (DenseLayer, {'num_units': 10, 'nonlinearity': lasagne.nonlinearities.softmax}),\n",
    "]#Score 0.57     tiempo 14000sg  parametros 1700010\n",
    "arquitectura11 = [\n",
    "                (InputLayer, {'shape': (None, 1, 28, 28)}), #cantidad, canal(monocromatico),col,filas\n",
    "                (Conv2DLayer, {'num_filters':100, 'filter_size': (3,3), 'W': lasagne.init.GlorotUniform()}),\n",
    "                 (Conv2DLayer, {'num_filters':100, 'filter_size': (2,2), 'W': lasagne.init.GlorotUniform()}),\n",
    "                    (Conv2DLayer, {'num_filters':100, 'filter_size': (5,5), 'W': lasagne.init.GlorotUniform()}),\n",
    "                (MaxPool2DLayer, {'pool_size': 2}),\n",
    "                (DropoutLayer, {'p': 0.25}),\n",
    "                (DenseLayer, {'num_units': 10, 'nonlinearity': lasagne.nonlinearities.softmax}),\n",
    "]#Score  0.1    tiempo mucho  parametros 391210 \n",
    "\n",
    "arquitecturaLeandro = [\n",
    "    (InputLayer, {'shape': (None, 1, 28, 28)}), #cantidad, canal(monocromatico),col,filas\n",
    "               \n",
    "               (Conv2DLayer, {'num_filters':32, 'filter_size': 3, 'W': lasagne.init.GlorotUniform(), \n",
    "                             'nonlinearity': lasagne.nonlinearities.rectify}),\n",
    "               (MaxPool2DLayer, {'pool_size': 2}),\n",
    "               (DropoutLayer, {'p': 0.25}),\n",
    "               \n",
    "               (Conv2DLayer, {'num_filters':64, 'filter_size': 3, 'W': lasagne.init.GlorotUniform(),\n",
    "                             'nonlinearity': lasagne.nonlinearities.rectify}),\n",
    "               (MaxPool2DLayer, {'pool_size': 2}),\n",
    "               (DropoutLayer, {'p': 0.25}),\n",
    "               \n",
    "               (Conv2DLayer, {'num_filters':128, 'filter_size': 3, 'W': lasagne.init.GlorotUniform(),\n",
    "                             'nonlinearity': lasagne.nonlinearities.rectify}),\n",
    "               (MaxPool2DLayer, {'pool_size': 2}),\n",
    "               (DropoutLayer, {'p': 0.4}),\n",
    "               \n",
    "               #(FlattenLayer,{}),\n",
    "               (DenseLayer, {'num_units': 128, 'nonlinearity': lasagne.nonlinearities.rectify}),\n",
    "               (DropoutLayer, {'p': 0.3}),\n",
    "               (DenseLayer, {'num_units': 128, 'nonlinearity': lasagne.nonlinearities.rectify}),\n",
    "               \n",
    "               (DenseLayer, {'num_units': 10, 'nonlinearity': lasagne.nonlinearities.softmax})]"
   ]
  },
  {
   "cell_type": "markdown",
   "metadata": {},
   "source": [
    "class AdjustVariable(object):\n",
    "\n",
    "    def __init__(self, name, start=0.03, stop=0.001):\n",
    "        self.name = name\n",
    "        self.start, self.stop = start, stop\n",
    "        self.ls = None\n",
    "    \n",
    "    def __call__(self, nn, train_history):\n",
    "        if self.ls is None:\n",
    "            self.ls = np.linspace(self.start, self.stop, nn.max_epochs)\n",
    "        epoch = train_history[-1]['epoch']\n",
    "        new_value = np.float32(self.ls[epoch - 1])\n",
    "        getattr(nn, self.name).set_value(new_value)"
   ]
  },
  {
   "cell_type": "markdown",
   "metadata": {
    "collapsed": true
   },
   "source": [
    "def create_net(max_epochs):\n",
    "    return NeuralNet(\n",
    "        layers= arquitecturaLeandro,\n",
    "        update=nesterov_momentum,\n",
    "        update_learning_rate=0.01,\n",
    "        update_momentum=0.9,\n",
    "        regression=False,\n",
    "        objective_loss_function=categorical_crossentropy,\n",
    "        batch_iterator_train=BatchIterator(batch_size=128),\n",
    "        on_epoch_finished=[\n",
    "            AdjustVariable('update_learning_rate', start=0.03, stop=0.001),\n",
    "            AdjustVariable('update_momentum', start=0.9, stop=0.9999)  # ,\n",
    "        ],\n",
    "        max_epochs=max_epochs,\n",
    "        verbose=1)"
   ]
  },
  {
   "cell_type": "markdown",
   "metadata": {},
   "source": [
    "\n",
    "from sklearn.cross_validation import train_test_split\n",
    "\n",
    "\n",
    "print (X_train.shape)\n",
    "print (y_train.shape)\n",
    "x = X_train.reshape(60000, 1, 28, 28)\n",
    "print(x.shape)\n",
    "print(x[0,0].shape)\n",
    "show_image(x[0,0],'hola')"
   ]
  },
  {
   "cell_type": "markdown",
   "metadata": {},
   "source": [
    "# RED NEURONAL CONVULCIONADA"
   ]
  },
  {
   "cell_type": "markdown",
   "metadata": {
    "scrolled": true
   },
   "source": [
    "net = None\n",
    "epoch = 5\n",
    "net = create_net(epoch)\n",
    "comienzo = timer()\n",
    "net.fit(x, y_train)\n",
    "fin = timer() - comienzo\n",
    "print(\"Tiempo red neuronal convulcionada:\",fin, \" segundos con epoch:\",epoch)\n",
    "\n"
   ]
  },
  {
   "cell_type": "markdown",
   "metadata": {
    "collapsed": true
   },
   "source": [
    "from sklearn.metrics import classification_report\n",
    "from sklearn.metrics import confusion_matrix\n",
    "from nolearn.lasagne import visualize"
   ]
  },
  {
   "cell_type": "markdown",
   "metadata": {},
   "source": [
    "X_test.shape\n",
    "XTEST = X_test.reshape(10000,1,28,28)\n",
    "XTEST.shape\n",
    "print(y_test.shape)"
   ]
  },
  {
   "cell_type": "markdown",
   "metadata": {
    "collapsed": true
   },
   "source": [
    "print (classification_report(y_test, net.predict(XTEST)))\n"
   ]
  },
  {
   "cell_type": "markdown",
   "metadata": {
    "collapsed": true
   },
   "source": [
    "import matplotlib\n",
    "import matplotlib.pyplot as plt\n",
    "import matplotlib.cm as cm"
   ]
  },
  {
   "cell_type": "markdown",
   "metadata": {
    "collapsed": true
   },
   "source": [
    "%matplotlib inline\n",
    "visualize.plot_loss(net)"
   ]
  },
  {
   "cell_type": "code",
   "execution_count": 18,
   "metadata": {},
   "outputs": [],
   "source": [
    "import pickle\n",
    "with open('SVM.pickle', 'wb') as f:\n",
    "        pickle.dump(svc, f, -1)\n",
    "        \n",
    "with open('SVM.pickle', 'wb') as f3:\n",
    "        pickle.dump(clf, f3, -1)\n",
    "        \n",
    "with open('Randomforest.pickle', 'wb') as f2:\n",
    "        pickle.dump(rf, f2, -1)"
   ]
  },
  {
   "cell_type": "markdown",
   "metadata": {
    "collapsed": true
   },
   "source": [
    "net2 = None\n",
    "with open('clasificadorNET.pickle', 'rb') as f:\n",
    "       net2 = pickle.load(f)"
   ]
  },
  {
   "cell_type": "markdown",
   "metadata": {
    "collapsed": true
   },
   "source": [
    "print(y_test[0])\n",
    "print (y_test[1])\n",
    "print (y_test[2])"
   ]
  },
  {
   "cell_type": "markdown",
   "metadata": {
    "collapsed": true
   },
   "source": [
    "net2.predict(x)"
   ]
  }
 ],
 "metadata": {
  "kernelspec": {
   "display_name": "Python 2",
   "language": "python",
   "name": "python2"
  },
  "language_info": {
   "codemirror_mode": {
    "name": "ipython",
    "version": 2
   },
   "file_extension": ".py",
   "mimetype": "text/x-python",
   "name": "python",
   "nbconvert_exporter": "python",
   "pygments_lexer": "ipython2",
   "version": "2.7.14"
  }
 },
 "nbformat": 4,
 "nbformat_minor": 2
}
