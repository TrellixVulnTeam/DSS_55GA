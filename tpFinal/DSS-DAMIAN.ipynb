{
 "cells": [
  {
   "cell_type": "code",
   "execution_count": 1,
   "metadata": {},
   "outputs": [
    {
     "name": "stderr",
     "output_type": "stream",
     "text": [
      "ERROR (theano.sandbox.gpuarray): Could not initialize pygpu, support disabled\n",
      "Traceback (most recent call last):\n",
      "  File \"C:\\Users\\fdman\\Anaconda3\\envs\\py27\\lib\\site-packages\\theano\\sandbox\\gpuarray\\__init__.py\", line 95, in <module>\n",
      "    init_dev(config.device)\n",
      "  File \"C:\\Users\\fdman\\Anaconda3\\envs\\py27\\lib\\site-packages\\theano\\sandbox\\gpuarray\\__init__.py\", line 46, in init_dev\n",
      "    \"Make sure Theano and libgpuarray/pygpu \"\n",
      "RuntimeError: ('Wrong major API version for gpuarray:', 1, 'Make sure Theano and libgpuarray/pygpu are in sync.')\n",
      "C:\\Users\\fdman\\Anaconda3\\envs\\py27\\lib\\site-packages\\sklearn\\cross_validation.py:41: DeprecationWarning: This module was deprecated in version 0.18 in favor of the model_selection module into which all the refactored classes and functions are moved. Also note that the interface of the new CV iterators are different from that of this module. This module will be removed in 0.20.\n",
      "  \"This module will be removed in 0.20.\", DeprecationWarning)\n"
     ]
    }
   ],
   "source": [
    "import numpy as np\n",
    "import matplotlib.pyplot as plt\n",
    "from nolearn.lasagne import visualize\n",
    "%matplotlib inline"
   ]
  },
  {
   "cell_type": "code",
   "execution_count": 2,
   "metadata": {
    "collapsed": true
   },
   "outputs": [],
   "source": [
    "def load_mnist(path, kind='train'):\n",
    "    import os\n",
    "    import gzip\n",
    "    import numpy as np\n",
    "\n",
    "    \"\"\"Load MNIST data from `path`\"\"\"\n",
    "    labels_path = os.path.join(path,\n",
    "                               '%s-labels-idx1-ubyte.gz'\n",
    "                               % kind)\n",
    "    images_path = os.path.join(path,\n",
    "                               '%s-images-idx3-ubyte.gz'\n",
    "                               % kind)\n",
    "\n",
    "    with gzip.open(labels_path, 'rb') as lbpath:\n",
    "        labels = np.frombuffer(lbpath.read(), dtype=np.uint8,\n",
    "                               offset=8)\n",
    "\n",
    "    with gzip.open(images_path, 'rb') as imgpath:\n",
    "        images = np.frombuffer(imgpath.read(), dtype=np.uint8,\n",
    "                               offset=16).reshape(len(labels), 784)\n",
    "\n",
    "    return images, labels\n",
    "\n",
    "################################################################################\n",
    "def plot_image(pixels, label, color=\"gray\"):\n",
    "    \"\"\"\n",
    "        Plot a image in 28x28pixels\n",
    "    \"\"\"\n",
    "    pixels = pixels.reshape((28, 28))\n",
    "    \n",
    "    # Plot\n",
    "    plt.title('Label is {label}'.format(label=label))\n",
    "    plt.imshow(pixels, cmap=color, interpolation=None)\n",
    "    plt.show()\n",
    "    \n",
    "################################################################################\n",
    "from sklearn.metrics import confusion_matrix, classification_report\n",
    "import itertools\n",
    "\n",
    "def plot_matrix(clf, X_test, y_test):\n",
    "    plt.clf()\n",
    "    cm = confusion_matrix(y_test,clf.predict(X_test))\n",
    "\n",
    "    cm_normalized = cm.astype('float') / cm.sum(axis=1)[:, np.newaxis]\n",
    "    print('Normalized confusion matrix')\n",
    "    cm_normalized[np.isnan(cm_normalized)] = 0.0\n",
    "    #print(cm_normalized)\n",
    "    plt.tick_params(labelsize=10)\n",
    "\n",
    "    plt.imshow(cm_normalized, interpolation='nearest', cmap=plt.cm.Blues)\n",
    "    for i, j in itertools.product(range(cm.shape[0]), range(cm.shape[1])):\n",
    "        plt.text(j, i, round(cm_normalized[i, j],2),horizontalalignment=\"center\")    \n",
    "    plt.colorbar()\n",
    "    plt.xlabel(\"Predicted label\")\n",
    "    plt.ylabel(\"True label\")\n",
    "    plt.show()"
   ]
  },
  {
   "cell_type": "markdown",
   "metadata": {
    "collapsed": true
   },
   "source": [
    "### Split Data"
   ]
  },
  {
   "cell_type": "code",
   "execution_count": 3,
   "metadata": {
    "collapsed": true
   },
   "outputs": [],
   "source": [
    "X_train, labels = load_mnist('data/fashion', kind='train')\n",
    "#X_test, y_test = load_mnist('/home/l34n/Downloads/fashion', kind='t10k')"
   ]
  },
  {
   "cell_type": "markdown",
   "metadata": {},
   "source": [
    "### Plot an example - Without pre-processing"
   ]
  },
  {
   "cell_type": "code",
   "execution_count": 4,
   "metadata": {
    "collapsed": true
   },
   "outputs": [],
   "source": [
    "label = labels[0]\n",
    "pixels = X_train[0]"
   ]
  },
  {
   "cell_type": "code",
   "execution_count": 5,
   "metadata": {},
   "outputs": [
    {
     "data": {
      "image/png": "[encoded data removed]",
      "text/plain": [
       "<matplotlib.figure.Figure at 0xb22e278>"
      ]
     },
     "metadata": {},
     "output_type": "display_data"
    }
   ],
   "source": [
    "plot_image(pixels, label)"
   ]
  },
  {
   "cell_type": "markdown",
   "metadata": {},
   "source": [
    "### Plot an example -  With pre-processing"
   ]
  },
  {
   "cell_type": "code",
   "execution_count": 6,
   "metadata": {
    "collapsed": true
   },
   "outputs": [],
   "source": [
    "from sklearn.preprocessing import Normalizer, MinMaxScaler"
   ]
  },
  {
   "cell_type": "code",
   "execution_count": 7,
   "metadata": {},
   "outputs": [
    {
     "name": "stderr",
     "output_type": "stream",
     "text": [
      "C:\\Users\\fdman\\Anaconda3\\envs\\py27\\lib\\site-packages\\sklearn\\utils\\validation.py:475: DataConversionWarning: Data with input dtype uint8 was converted to float64 by MinMaxScaler.\n",
      "  warnings.warn(msg, DataConversionWarning)\n"
     ]
    }
   ],
   "source": [
    "xs = MinMaxScaler([0, 1]).fit_transform(X_train)\n",
    "#xs = Normalizer().fit_transform(X_train)"
   ]
  },
  {
   "cell_type": "code",
   "execution_count": 8,
   "metadata": {
    "collapsed": true
   },
   "outputs": [],
   "source": [
    "label = labels[0]\n",
    "pixels = xs[0]"
   ]
  },
  {
   "cell_type": "code",
   "execution_count": 9,
   "metadata": {},
   "outputs": [
    {
     "data": {
      "image/png": "[encoded data removed]",
      "text/plain": [
       "<matplotlib.figure.Figure at 0xb22e940>"
      ]
     },
     "metadata": {},
     "output_type": "display_data"
    }
   ],
   "source": [
    "plot_image(pixels, label)"
   ]
  },
  {
   "cell_type": "code",
   "execution_count": 10,
   "metadata": {
    "collapsed": true
   },
   "outputs": [],
   "source": [
    "import lasagne"
   ]
  },
  {
   "cell_type": "code",
   "execution_count": 11,
   "metadata": {
    "collapsed": true
   },
   "outputs": [],
   "source": [
    "import theano\n",
    "from lasagne.updates import nesterov_momentum\n",
    "from nolearn.lasagne import BatchIterator\n",
    "from nolearn.lasagne import NeuralNet\n",
    "from lasagne.layers import InputLayer, Conv2DLayer, DropoutLayer,\\\n",
    "    MaxPool2DLayer, DenseLayer, FlattenLayer\n",
    "from lasagne.nonlinearities import softmax"
   ]
  },
  {
   "cell_type": "markdown",
   "metadata": {},
   "source": [
    "### Definición de RED"
   ]
  },
  {
   "cell_type": "code",
   "execution_count": 12,
   "metadata": {
    "collapsed": true
   },
   "outputs": [],
   "source": [
    "## The minimal architecture ... ~0.74\n",
    "layers_1 = [\n",
    "            (InputLayer, {'shape': (None, 784)}),\n",
    "            (DenseLayer, {'num_units': 1024}),\n",
    "            (DropoutLayer, {'p': 0.5}),\n",
    "            #(DenseLayer, {'num_units': 1024}),\n",
    "            #(DenseLayer, {'num_units': 1024}),\n",
    "            (DenseLayer, {'num_units': 2014}),\n",
    "            (DropoutLayer, {'p': 0.5}),\n",
    "            # Se suponen que son los valores del label a predecir.\n",
    "            (DenseLayer, {'num_units': 10, 'nonlinearity': softmax}),\n",
    "    ]"
   ]
  },
  {
   "cell_type": "code",
   "execution_count": 13,
   "metadata": {
    "collapsed": true
   },
   "outputs": [],
   "source": [
    "layers_2 = [\n",
    "            (InputLayer, {'shape': (None, 1, 28, 28)}),\n",
    "            (Conv2DLayer, {'num_filters': 8, 'filter_size': 3, 'W': lasagne.init.GlorotUniform()}),\n",
    "            (MaxPool2DLayer, {'pool_size': 2}),\n",
    "            # (DropoutLayer, {'p': 0.5}),\n",
    "            (Conv2DLayer, {'num_filters': 8, 'filter_size': 3, 'W': lasagne.init.GlorotUniform()}),\n",
    "            (MaxPool2DLayer, {'pool_size': 2}),\n",
    "            (DenseLayer, {'num_units': 100, 'nonlinearity': lasagne.nonlinearities.rectify}),\n",
    "            (DropoutLayer, {'p': 0.5}),\n",
    "            # Se suponen que son los valores del label a predecir.\n",
    "            (DenseLayer, {'num_units': 10, 'nonlinearity': softmax}),\n",
    "    ]"
   ]
  },
  {
   "cell_type": "code",
   "execution_count": 14,
   "metadata": {
    "collapsed": true
   },
   "outputs": [],
   "source": [
    "layers_3 = [\n",
    "                (InputLayer, {'shape': (None, 1, 28, 28)}), #cantidad, canal(monocromatico),col,filas\n",
    "                (Conv2DLayer, {'num_filters':10, 'filter_size': 3, 'W': lasagne.init.GlorotUniform()}),\n",
    "                (MaxPool2DLayer, {'pool_size': 2}),\n",
    "                (Conv2DLayer, {'num_filters':5, 'filter_size': 2, 'W': lasagne.init.GlorotUniform()}),\n",
    "                (MaxPool2DLayer, {'pool_size': 2}),\n",
    "                (DenseLayer, {'num_units': 1000, 'nonlinearity': lasagne.nonlinearities.rectify}),\n",
    "                (DropoutLayer, {'p': 0.5}),\n",
    "                (DenseLayer, {'num_units': 10, 'nonlinearity': lasagne.nonlinearities.softmax}),\n",
    "]"
   ]
  },
  {
   "cell_type": "code",
   "execution_count": 15,
   "metadata": {
    "collapsed": true
   },
   "outputs": [],
   "source": [
    "### Arquitectura de Damian\n",
    "layer_d = [(InputLayer, {'shape': (None, 1, 28, 28)}), #cantidad, canal(monocromatico),col,filas\n",
    "                (Conv2DLayer, {'num_filters':10, 'filter_size': 5, 'W': lasagne.init.GlorotUniform()}),\n",
    "                (MaxPool2DLayer, {'pool_size': 2}),\n",
    "                (Conv2DLayer, {'num_filters':5, 'filter_size': 3, 'W': lasagne.init.GlorotUniform()}),\n",
    "                (MaxPool2DLayer, {'pool_size': 2}),\n",
    "                (Conv2DLayer, {'num_filters':5, 'filter_size': 2, 'W': lasagne.init.GlorotUniform()}),\n",
    "                (MaxPool2DLayer, {'pool_size': 2}),\n",
    "                (DenseLayer, {'num_units': 100, 'nonlinearity': lasagne.nonlinearities.rectify}),\n",
    "                (DropoutLayer, {'p': 0.5}),\n",
    "                (DenseLayer, {'num_units': 10, 'nonlinearity': lasagne.nonlinearities.softmax}),\n",
    "          ]"
   ]
  },
  {
   "cell_type": "code",
   "execution_count": 16,
   "metadata": {
    "collapsed": true
   },
   "outputs": [],
   "source": [
    "## The MNIS architecture ... ~0.85\n",
    "layers_4 = [\n",
    "                (InputLayer, {'shape': (None, 1, 28, 28)}), #cantidad, canal(monocromatico),col,filas\n",
    "                (Conv2DLayer, {'num_filters':6, 'filter_size': 5, 'W': lasagne.init.GlorotUniform()}),\n",
    "                (MaxPool2DLayer, {'pool_size': 2}),\n",
    "                (Conv2DLayer, {'num_filters':10, 'filter_size': 5, 'W': lasagne.init.GlorotUniform()}),\n",
    "                (MaxPool2DLayer, {'pool_size': 2}),\n",
    "                (DenseLayer, {'num_units': 100, 'nonlinearity': lasagne.nonlinearities.rectify}),\n",
    "                (DropoutLayer, {'p': 0.5}),\n",
    "                (DenseLayer, {'num_units': 10, 'nonlinearity': lasagne.nonlinearities.softmax}),\n",
    "]"
   ]
  },
  {
   "cell_type": "code",
   "execution_count": 17,
   "metadata": {
    "collapsed": true
   },
   "outputs": [],
   "source": [
    "layers_0 = [\n",
    "                (InputLayer, {'shape': (None, 1, 28, 28)}), #cantidad, canal(monocromatico),col,filas\n",
    "                \n",
    "                (Conv2DLayer, {'num_filters':32, 'filter_size': 3, 'W': lasagne.init.GlorotUniform(), \n",
    "                              'nonlinearity': lasagne.nonlinearities.rectify}),\n",
    "                (MaxPool2DLayer, {'pool_size': 2}),\n",
    "                (DropoutLayer, {'p': 0.25}),\n",
    "                \n",
    "                (Conv2DLayer, {'num_filters':64, 'filter_size': 3, 'W': lasagne.init.GlorotUniform(),\n",
    "                              'nonlinearity': lasagne.nonlinearities.rectify}),\n",
    "                (MaxPool2DLayer, {'pool_size': 2}),\n",
    "                (DropoutLayer, {'p': 0.25}),\n",
    "                \n",
    "                (Conv2DLayer, {'num_filters':128, 'filter_size': 3, 'W': lasagne.init.GlorotUniform(),\n",
    "                              'nonlinearity': lasagne.nonlinearities.rectify}),\n",
    "                (MaxPool2DLayer, {'pool_size': 2}),\n",
    "                (DropoutLayer, {'p': 0.4}),\n",
    "                \n",
    "                #(FlattenLayer,{}),\n",
    "                (DenseLayer, {'num_units': 128, 'nonlinearity': lasagne.nonlinearities.rectify}),\n",
    "                (DropoutLayer, {'p': 0.3}),\n",
    "                (DenseLayer, {'num_units': 128, 'nonlinearity': lasagne.nonlinearities.rectify}),\n",
    "                \n",
    "                (DenseLayer, {'num_units': 10, 'nonlinearity': lasagne.nonlinearities.softmax}),\n",
    "]"
   ]
  },
  {
   "cell_type": "code",
   "execution_count": 18,
   "metadata": {
    "collapsed": true
   },
   "outputs": [],
   "source": [
    "##Celia's architecture\n",
    "layers_5 = [\n",
    "                (InputLayer, {'shape': (None, 1, 28, 28)}), #cantidad, canal(monocromatico),col,filas\n",
    "                \n",
    "                (Conv2DLayer, {'num_filters':30, 'filter_size': 5, 'W': lasagne.init.GlorotUniform()}),\n",
    "                (MaxPool2DLayer, {'pool_size': 2}), #tenia 20 filtros\n",
    "                \n",
    "                (Conv2DLayer, {'num_filters':10, 'filter_size': 4, 'W': lasagne.init.GlorotUniform()}),\n",
    "                (MaxPool2DLayer, {'pool_size': 2}), #tenia 8 filtros\n",
    "                \n",
    "                #(Conv2DLayer, {'num_filters':3, 'filter_size': 3, 'W': lasagne.init.GlorotUniform()}),\n",
    "                #(MaxPool2DLayer, {'pool_size': 2}),\n",
    "    \n",
    "                #(Conv2DLayer, {'num_filters':10, 'filter_size': 2, 'W': lasagne.init.GlorotUniform()}),\n",
    "                #(MaxPool2DLayer, {'pool_size': 2}),\n",
    "    \n",
    "                (DenseLayer, {'num_units': 50}),\n",
    "                (DropoutLayer, {'p':0.25}),\n",
    "                (DenseLayer, {'num_units': 10}),\n",
    "                \n",
    "                (DenseLayer, {'num_units': 10, 'nonlinearity': lasagne.nonlinearities.softmax}),\n",
    "]"
   ]
  },
  {
   "cell_type": "code",
   "execution_count": 19,
   "metadata": {
    "collapsed": true
   },
   "outputs": [],
   "source": [
    "class AdjustVariable(object):\n",
    "    \"\"\"\n",
    "    Used to decreases linearly the learning rate with the number of epochs,\n",
    "    while we the momentum increase.\n",
    "    \"\"\"\n",
    "    def __init__(self, name, start=0.01, stop=0.001):\n",
    "        self.name = name\n",
    "        self.start, self.stop = start, stop\n",
    "        self.ls = None\n",
    "\n",
    "    def __call__(self, nn, train_history):\n",
    "        if self.ls is None:\n",
    "            self.ls = np.linspace(self.start, self.stop, nn.max_epochs)\n",
    "\n",
    "        epoch = train_history[-1]['epoch']\n",
    "        new_value = np.float32(self.ls[epoch - 1])\n",
    "        getattr(nn, self.name).set_value(new_value)"
   ]
  },
  {
   "cell_type": "code",
   "execution_count": 20,
   "metadata": {
    "collapsed": true
   },
   "outputs": [],
   "source": [
    "def create_network(npochs=5, batch_s=10000):\n",
    "    return NeuralNet(\n",
    "        layers=layers_5,\n",
    "        update=nesterov_momentum,\n",
    "        update_learning_rate=theano.shared(np.float32(0.01)),\n",
    "        update_momentum=theano.shared(np.float32(0.9)),\n",
    "\n",
    "        regression=False,\n",
    "        batch_iterator_train=BatchIterator(batch_size=batch_s),\n",
    "        on_epoch_finished=[\n",
    "            AdjustVariable('update_learning_rate', start=0.1, stop=0.01),\n",
    "            AdjustVariable('update_momentum', start=0.9, stop=0.9999)\n",
    "        ],\n",
    "        max_epochs=npochs,\n",
    "        verbose=1)"
   ]
  },
  {
   "cell_type": "code",
   "execution_count": 21,
   "metadata": {
    "collapsed": true
   },
   "outputs": [],
   "source": [
    "from sklearn.model_selection import train_test_split\n",
    "\n",
    "net0 = create_network(1000,2500) #npochs, batch_size\n",
    "\n",
    "xs = xs.reshape(-1, 1, 28, 28)\n",
    "\n",
    "X_train, X_test, y_train, y_test = train_test_split(xs, labels, random_state=42)\n",
    "\n",
    "X_train = X_train.astype(np.float32)\n",
    "y_train = y_train.astype(np.int32)"
   ]
  },
  {
   "cell_type": "code",
   "execution_count": 22,
   "metadata": {
    "collapsed": true
   },
   "outputs": [],
   "source": [
    "from timeit import default_timer as timer\n",
    "comienzo = timer()\n"
   ]
  },
  {
   "cell_type": "code",
   "execution_count": 23,
   "metadata": {},
   "outputs": [
    {
     "name": "stdout",
     "output_type": "stream",
     "text": [
      "# Neural Network with 14260 learnable parameters\n",
      "\n",
      "## Layer information\n",
      "\n",
      "  #  name        size\n",
      "---  ----------  --------\n",
      "  0  input0      1x28x28\n",
      "  1  conv2d1     30x24x24\n",
      "  2  maxpool2d2  30x12x12\n",
      "  3  conv2d3     10x9x9\n",
      "  4  maxpool2d4  10x4x4\n",
      "  5  dense5      50\n",
      "  6  dropout6    50\n",
      "  7  dense7      10\n",
      "  8  dense8      10\n",
      "\n",
      "  epoch    trn loss    val loss    trn/val    valid acc  dur\n",
      "-------  ----------  ----------  ---------  -----------  ------\n",
      "      1     \u001b[36m2.29244\u001b[0m     \u001b[32m2.27545\u001b[0m    1.00746      0.19527  40.44s\n",
      "      2     \u001b[36m2.15140\u001b[0m     \u001b[32m1.61238\u001b[0m    1.33430      0.43008  40.35s\n",
      "      3     \u001b[36m1.69256\u001b[0m     \u001b[32m0.99883\u001b[0m    1.69454      0.60324  40.55s\n",
      "      4     \u001b[36m0.98241\u001b[0m     \u001b[32m0.71336\u001b[0m    1.37715      0.71909  40.54s\n",
      "      5     \u001b[36m0.76169\u001b[0m     \u001b[32m0.62152\u001b[0m    1.22552      0.75508  40.51s\n",
      "      6     \u001b[36m0.68107\u001b[0m     \u001b[32m0.57871\u001b[0m    1.17687      0.77296  40.55s\n",
      "      7     \u001b[36m0.63780\u001b[0m     \u001b[32m0.54982\u001b[0m    1.16002      0.78596  40.88s\n",
      "      8     \u001b[36m0.60733\u001b[0m     \u001b[32m0.52727\u001b[0m    1.15184      0.79729  40.52s\n",
      "      9     \u001b[36m0.58095\u001b[0m     \u001b[32m0.52417\u001b[0m    1.10832      0.79185  40.47s\n",
      "     10     \u001b[36m0.56483\u001b[0m     \u001b[32m0.48718\u001b[0m    1.15940      0.81362  41.05s\n",
      "     11     \u001b[36m0.53740\u001b[0m     \u001b[32m0.47478\u001b[0m    1.13187      0.81962  40.43s\n",
      "     12     \u001b[36m0.52390\u001b[0m     \u001b[32m0.45756\u001b[0m    1.14497      0.82983  40.52s\n",
      "     13     \u001b[36m0.50846\u001b[0m     \u001b[32m0.44338\u001b[0m    1.14678      0.83972  40.45s\n",
      "     14     \u001b[36m0.49439\u001b[0m     0.44389    1.11378      0.83550  41.38s\n",
      "     15     \u001b[36m0.48084\u001b[0m     \u001b[32m0.41306\u001b[0m    1.16410      0.84716  41.24s\n",
      "     16     \u001b[36m0.47349\u001b[0m     \u001b[32m0.40539\u001b[0m    1.16798      0.85116  40.31s\n",
      "     17     \u001b[36m0.46549\u001b[0m     \u001b[32m0.40094\u001b[0m    1.16101      0.85205  40.46s\n",
      "     18     \u001b[36m0.45628\u001b[0m     0.40196    1.13513      0.84938  40.84s\n",
      "     19     \u001b[36m0.44825\u001b[0m     \u001b[32m0.38565\u001b[0m    1.16231      0.85683  40.43s\n",
      "     20     \u001b[36m0.43623\u001b[0m     \u001b[32m0.37972\u001b[0m    1.14883      0.86182  40.46s\n",
      "     21     \u001b[36m0.42550\u001b[0m     0.39955    1.06493      0.84872  40.47s\n",
      "     22     \u001b[36m0.42062\u001b[0m     \u001b[32m0.36836\u001b[0m    1.14186      0.86649  40.38s\n",
      "     23     \u001b[36m0.41953\u001b[0m     0.39270    1.06834      0.85816  40.28s\n",
      "     24     \u001b[36m0.41054\u001b[0m     \u001b[32m0.35897\u001b[0m    1.14364      0.87115  40.46s\n",
      "     25     0.41083     \u001b[32m0.35792\u001b[0m    1.14782      0.87049  40.70s\n",
      "     26     \u001b[36m0.39587\u001b[0m     \u001b[32m0.35596\u001b[0m    1.11214      0.87138  40.65s\n",
      "     27     \u001b[36m0.38938\u001b[0m     \u001b[32m0.35109\u001b[0m    1.10908      0.87326  40.80s\n",
      "     28     \u001b[36m0.38277\u001b[0m     0.35232    1.08644      0.87349  40.46s\n",
      "     29     \u001b[36m0.38210\u001b[0m     0.35535    1.07525      0.86960  41.36s\n",
      "     30     0.38507     \u001b[32m0.33841\u001b[0m    1.13786      0.87771  40.76s\n",
      "     31     \u001b[36m0.36658\u001b[0m     \u001b[32m0.33300\u001b[0m    1.10084      0.88271  40.57s\n",
      "     32     0.36763     0.33737    1.08967      0.87815  40.83s\n",
      "     33     0.37033     0.33450    1.10709      0.87860  40.64s\n",
      "     34     \u001b[36m0.35969\u001b[0m     0.34914    1.03021      0.87349  40.51s\n",
      "     35     0.36074     \u001b[32m0.32571\u001b[0m    1.10754      0.88204  40.69s\n",
      "     36     \u001b[36m0.35457\u001b[0m     0.33446    1.06014      0.87971  40.39s\n",
      "     37     \u001b[36m0.35105\u001b[0m     0.33191    1.05768      0.88215  40.82s\n",
      "     38     0.35456     \u001b[32m0.32370\u001b[0m    1.09533      0.88171  40.64s\n",
      "     39     \u001b[36m0.34199\u001b[0m     0.32593    1.04926      0.88248  40.70s\n",
      "     40     0.34252     \u001b[32m0.31593\u001b[0m    1.08417      0.88604  40.54s\n",
      "     41     \u001b[36m0.33514\u001b[0m     0.31945    1.04912      0.88404  40.57s\n",
      "     42     0.34203     \u001b[32m0.31222\u001b[0m    1.09548      0.88881  40.78s\n",
      "     43     \u001b[36m0.32968\u001b[0m     0.34636    0.95183      0.87549  40.70s\n",
      "     44     0.33653     0.31666    1.06275      0.88848  41.11s\n",
      "     45     \u001b[36m0.32575\u001b[0m     0.31651    1.02918      0.88559  40.87s\n",
      "     46     0.32868     0.31631    1.03912      0.88826  40.43s\n",
      "     47     0.32871     0.31430    1.04584      0.88948  40.84s\n",
      "     48     0.32856     \u001b[32m0.30756\u001b[0m    1.06826      0.89126  40.81s\n",
      "     49     \u001b[36m0.32003\u001b[0m     0.31401    1.01918      0.89004  40.52s\n",
      "     50     \u001b[36m0.31452\u001b[0m     0.32004    0.98277      0.88626  40.57s\n",
      "     51     0.31839     \u001b[32m0.30441\u001b[0m    1.04593      0.89248  40.71s\n",
      "     52     0.31494     0.30821    1.02184      0.88770  40.58s\n",
      "     53     0.31612     0.30606    1.03287      0.89159  40.78s\n",
      "     54     \u001b[36m0.31391\u001b[0m     0.30865    1.01704      0.89137  40.85s\n",
      "     55     \u001b[36m0.31053\u001b[0m     0.30928    1.00403      0.89037  40.54s\n",
      "     56     \u001b[36m0.30148\u001b[0m     0.30602    0.98519      0.89004  40.61s\n",
      "     57     0.30935     \u001b[32m0.30189\u001b[0m    1.02472      0.89326  40.61s\n",
      "     58     0.30701     0.32789    0.93630      0.88559  40.68s\n",
      "     59     \u001b[36m0.29986\u001b[0m     0.32207    0.93106      0.88804  40.74s\n",
      "     60     0.31578     0.31312    1.00850      0.89026  40.84s\n",
      "     61     \u001b[36m0.29692\u001b[0m     0.30983    0.95833      0.89048  40.54s\n",
      "     62     0.29703     0.30554    0.97216      0.89281  41.22s\n",
      "     63     \u001b[36m0.29500\u001b[0m     0.31470    0.93739      0.89059  40.88s\n",
      "     64     0.29652     \u001b[32m0.30133\u001b[0m    0.98405      0.89326  40.66s\n",
      "     65     \u001b[36m0.29021\u001b[0m     0.30175    0.96177      0.89404  40.61s\n",
      "     66     0.29115     \u001b[32m0.29874\u001b[0m    0.97459      0.89559  40.82s\n",
      "     67     \u001b[36m0.28617\u001b[0m     0.31247    0.91583      0.89270  40.62s\n",
      "     68     0.29585     0.31058    0.95258      0.88970  40.67s\n",
      "     69     \u001b[36m0.28144\u001b[0m     0.30122    0.93432      0.89315  40.82s\n",
      "     70     0.28368     \u001b[32m0.29802\u001b[0m    0.95188      0.89370  40.64s\n",
      "     71     0.28648     0.30232    0.94760      0.89526  40.78s\n",
      "     72     0.28445     0.30130    0.94407      0.89104  40.80s\n",
      "     73     \u001b[36m0.28032\u001b[0m     0.32678    0.85782      0.88493  40.67s\n",
      "     74     0.28130     0.31702    0.88732      0.89004  40.90s\n",
      "     75     \u001b[36m0.27782\u001b[0m     0.31215    0.89004      0.89381  40.93s\n",
      "     76     0.28222     0.32044    0.88071      0.88859  40.60s\n",
      "     77     \u001b[36m0.27700\u001b[0m     0.31244    0.88657      0.89093  40.97s\n",
      "     78     \u001b[36m0.27665\u001b[0m     0.29846    0.92694      0.89737  40.72s\n",
      "     79     \u001b[36m0.27387\u001b[0m     0.30068    0.91085      0.89281  40.65s\n",
      "     80     0.27546     0.31346    0.87876      0.89126  40.98s\n",
      "     81     \u001b[36m0.27352\u001b[0m     0.31407    0.87089      0.89215  40.58s\n",
      "     82     \u001b[36m0.26953\u001b[0m     0.30767    0.87604      0.89337  40.65s\n",
      "     83     0.27018     0.31885    0.84734      0.88993  40.78s\n",
      "     84     0.27306     0.30314    0.90077      0.89259  40.77s\n",
      "     85     \u001b[36m0.26420\u001b[0m     0.32554    0.81158      0.88648  40.49s\n",
      "     86     0.27253     0.30445    0.89514      0.89559  40.65s\n",
      "     87     0.26490     0.30324    0.87356      0.89637  40.63s\n",
      "     88     0.26798     0.30608    0.87555      0.89037  40.74s\n",
      "     89     \u001b[36m0.26302\u001b[0m     0.33509    0.78492      0.88537  40.62s\n",
      "     90     0.27282     0.31218    0.87391      0.89148  40.71s\n",
      "     91     \u001b[36m0.25773\u001b[0m     0.31878    0.80849      0.89004  40.65s\n",
      "     92     0.26088     0.31226    0.83547      0.89159  40.75s\n",
      "     93     0.26180     0.31352    0.83503      0.89081  40.83s\n",
      "     94     0.25820     0.30315    0.85172      0.89626  40.72s\n",
      "     95     \u001b[36m0.25387\u001b[0m     0.31127    0.81559      0.89281  40.62s\n",
      "     96     0.25796     0.31371    0.82228      0.89204  41.32s\n",
      "     97     0.25546     0.32120    0.79535      0.88893  40.84s\n",
      "     98     \u001b[36m0.25309\u001b[0m     0.31721    0.79787      0.89181  40.63s\n",
      "     99     0.25386     0.30494    0.83249      0.89726  40.59s\n",
      "    100     0.25831     0.31282    0.82574      0.89359  40.52s\n",
      "    101     \u001b[36m0.24890\u001b[0m     0.32041    0.77682      0.88926  40.89s\n",
      "    102     0.26632     0.31365    0.84909      0.88970  40.79s\n",
      "    103     \u001b[36m0.24818\u001b[0m     0.31188    0.79577      0.89515  40.79s\n",
      "    104     \u001b[36m0.24708\u001b[0m     0.32440    0.76165      0.88770  40.99s\n",
      "    105     0.24999     0.32210    0.77614      0.89204  40.59s\n",
      "    106     0.25217     0.30695    0.82152      0.89592  40.83s\n",
      "    107     \u001b[36m0.24661\u001b[0m     0.32965    0.74808      0.88682  40.77s\n",
      "    108     \u001b[36m0.24592\u001b[0m     0.31136    0.78982      0.89270  40.65s\n"
     ]
    },
    {
     "name": "stdout",
     "output_type": "stream",
     "text": [
      "    109     \u001b[36m0.24315\u001b[0m     0.31966    0.76063      0.89192  40.61s\n",
      "    110     0.24623     0.31155    0.79034      0.89270  40.90s\n",
      "    111     \u001b[36m0.24116\u001b[0m     0.32982    0.73117      0.89126  40.58s\n",
      "    112     0.24709     0.31371    0.78764      0.89304  40.78s\n",
      "    113     0.24869     0.31134    0.79877      0.89481  40.58s\n",
      "    114     \u001b[36m0.23995\u001b[0m     0.31506    0.76159      0.89237  40.67s\n",
      "    115     \u001b[36m0.23622\u001b[0m     0.31613    0.74722      0.89392  40.83s\n",
      "    116     0.25243     0.32274    0.78213      0.89204  40.57s\n",
      "    117     0.23698     0.33078    0.71643      0.89181  40.75s\n",
      "    118     0.23782     0.32874    0.72344      0.88981  40.94s\n",
      "    119     0.23686     0.32684    0.72471      0.88715  40.68s\n",
      "    120     0.23796     0.32846    0.72447      0.89037  40.72s\n",
      "    121     0.23797     0.32958    0.72203      0.89492  40.52s\n",
      "    122     0.23866     0.31844    0.74946      0.89559  40.55s\n",
      "    123     0.23667     0.32898    0.71941      0.89348  40.51s\n",
      "    124     0.23963     0.32328    0.74124      0.89204  40.65s\n",
      "    125     0.23850     0.33287    0.71651      0.89048  40.96s\n",
      "    126     \u001b[36m0.23392\u001b[0m     0.32258    0.72517      0.89370  40.94s\n",
      "    127     \u001b[36m0.23261\u001b[0m     0.35191    0.66101      0.88493  40.33s\n",
      "    128     \u001b[36m0.22983\u001b[0m     0.32997    0.69650      0.89159  40.55s\n",
      "    129     0.23496     0.32865    0.71493      0.89281  40.79s\n",
      "    130     \u001b[36m0.22808\u001b[0m     0.32763    0.69614      0.89392  40.44s\n",
      "    131     0.22938     0.32869    0.69787      0.89381  40.85s\n",
      "    132     0.23202     0.34999    0.66292      0.88559  40.92s\n",
      "    133     \u001b[36m0.22656\u001b[0m     0.32579    0.69542      0.89392  40.75s\n",
      "    134     0.23014     0.32959    0.69827      0.89181  40.72s\n",
      "    135     \u001b[36m0.22480\u001b[0m     0.32526    0.69112      0.89170  40.80s\n",
      "    136     \u001b[36m0.22216\u001b[0m     0.35093    0.63305      0.88504  40.95s\n",
      "    137     0.23335     0.33525    0.69604      0.89148  40.72s\n",
      "    138     0.22522     0.33696    0.66838      0.89281  40.84s\n",
      "    139     0.22263     0.33624    0.66210      0.89093  40.80s\n",
      "    140     0.22258     0.33149    0.67146      0.89037  40.76s\n",
      "    141     0.22728     0.33799    0.67244      0.89181  40.95s\n",
      "    142     \u001b[36m0.21841\u001b[0m     0.34180    0.63899      0.88970  40.82s\n",
      "    143     0.22526     0.33699    0.66845      0.88970  40.78s\n",
      "    144     0.22046     0.33034    0.66736      0.89481  40.88s\n",
      "    145     0.22234     0.33439    0.66491      0.89359  40.68s\n",
      "    146     0.22756     0.34571    0.65826      0.89015  40.77s\n",
      "    147     \u001b[36m0.21667\u001b[0m     0.33399    0.64873      0.89559  41.02s\n",
      "    148     \u001b[36m0.21044\u001b[0m     0.33345    0.63110      0.89526  40.78s\n",
      "    149     0.23298     0.33516    0.69514      0.89215  40.81s\n",
      "    150     0.21962     0.34090    0.64425      0.89337  41.00s\n",
      "    151     0.21682     0.35722    0.60697      0.88348  40.64s\n",
      "    152     0.21954     0.34163    0.64262      0.89148  40.80s\n",
      "    153     0.21060     0.34201    0.61578      0.89337  40.64s\n",
      "    154     0.21324     0.36046    0.59157      0.88670  40.76s\n",
      "    155     0.21977     0.33855    0.64916      0.89415  40.78s\n",
      "    156     \u001b[36m0.20988\u001b[0m     0.35118    0.59766      0.88859  40.89s\n",
      "    157     0.21519     0.35314    0.60937      0.89137  40.84s\n",
      "    158     0.21890     0.33783    0.64797      0.89204  40.72s\n",
      "    159     \u001b[36m0.20983\u001b[0m     0.33942    0.61819      0.89470  40.96s\n",
      "    160     0.21524     0.34342    0.62676      0.89381  40.49s\n",
      "    161     0.21185     0.34219    0.61909      0.89592  40.96s\n",
      "    162     \u001b[36m0.20934\u001b[0m     0.34578    0.60542      0.89281  41.38s\n",
      "    163     0.21033     0.34744    0.60537      0.89259  40.74s\n",
      "    164     \u001b[36m0.20931\u001b[0m     0.34650    0.60406      0.89259  40.79s\n",
      "    165     \u001b[36m0.20426\u001b[0m     0.35702    0.57212      0.88859  40.84s\n",
      "    166     0.22331     0.35424    0.63039      0.89093  40.74s\n",
      "    167     0.20770     0.35264    0.58900      0.88993  40.75s\n",
      "    168     0.20439     0.35983    0.56803      0.88737  40.88s\n",
      "    169     0.21217     0.35111    0.60429      0.89037  40.48s\n",
      "    170     0.20472     0.34393    0.59524      0.89192  40.95s\n",
      "    171     0.20800     0.34488    0.60310      0.89059  40.77s\n",
      "    172     0.21186     0.36626    0.57846      0.88637  40.65s\n",
      "    173     0.21249     0.35457    0.59927      0.88815  40.47s\n",
      "    174     0.21230     0.34163    0.62144      0.89292  40.90s\n",
      "    175     \u001b[36m0.20262\u001b[0m     0.37050    0.54688      0.88737  40.89s\n",
      "    176     0.20514     0.35158    0.58346      0.89248  40.74s\n",
      "    177     \u001b[36m0.20233\u001b[0m     0.36054    0.56118      0.89170  41.35s\n",
      "    178     0.20620     0.34957    0.58988      0.89270  41.20s\n",
      "    179     0.20691     0.35174    0.58823      0.89070  40.63s\n",
      "    180     0.20241     0.35754    0.56611      0.88993  41.11s\n",
      "    181     \u001b[36m0.19731\u001b[0m     0.35640    0.55360      0.88937  40.68s\n",
      "    182     0.20258     0.35327    0.57345      0.89270  41.29s\n",
      "    183     0.20464     0.35761    0.57225      0.89170  40.81s\n",
      "    184     0.20745     0.36286    0.57171      0.88926  41.47s\n",
      "    185     0.20206     0.36131    0.55924      0.88948  40.61s\n",
      "    186     0.20209     0.35472    0.56971      0.89326  40.90s\n",
      "    187     0.19769     0.35508    0.55675      0.89537  40.88s\n",
      "    188     \u001b[36m0.19438\u001b[0m     0.35624    0.54565      0.89226  40.93s\n",
      "    189     0.20930     0.35979    0.58173      0.88715  41.08s\n",
      "    190     0.20133     0.36693    0.54869      0.89159  40.86s\n",
      "    191     0.19832     0.35670    0.55599      0.89348  41.00s\n",
      "    192     \u001b[36m0.18969\u001b[0m     0.35826    0.52948      0.89270  40.82s\n",
      "    193     0.19980     0.36007    0.55489      0.89259  40.92s\n",
      "    194     0.19579     0.35534    0.55100      0.89470  40.75s\n",
      "    195     0.19766     0.35932    0.55009      0.88937  41.08s\n",
      "    196     0.20259     0.36114    0.56098      0.89104  40.43s\n",
      "    197     0.19901     0.35937    0.55377      0.89059  40.82s\n",
      "    198     0.19149     0.36584    0.52343      0.89204  40.90s\n",
      "    199     0.20670     0.37147    0.55644      0.88893  40.89s\n",
      "    200     0.19236     0.36374    0.52884      0.89226  40.84s\n",
      "    201     \u001b[36m0.18923\u001b[0m     0.36535    0.51794      0.89270  40.79s\n",
      "    202     0.19148     0.36576    0.52351      0.89148  40.48s\n",
      "    203     0.19390     0.37756    0.51355      0.89059  40.92s\n",
      "    204     0.19562     0.37896    0.51620      0.89081  41.15s\n",
      "    205     0.19341     0.36835    0.52508      0.89170  40.80s\n",
      "    206     \u001b[36m0.18824\u001b[0m     0.36754    0.51215      0.89204  41.28s\n",
      "    207     \u001b[36m0.18773\u001b[0m     0.37931    0.49493      0.89081  40.75s\n",
      "    208     0.19930     0.36995    0.53872      0.89292  40.99s\n",
      "    209     0.19155     0.37145    0.51569      0.89326  40.78s\n",
      "    210     0.18959     0.37303    0.50825      0.89259  40.74s\n",
      "    211     0.18851     0.37523    0.50240      0.89004  40.64s\n",
      "    212     \u001b[36m0.18665\u001b[0m     0.37372    0.49943      0.89115  40.98s\n",
      "    213     0.19107     0.37471    0.50991      0.89292  40.77s\n",
      "    214     0.18846     0.37344    0.50465      0.89315  40.79s\n",
      "    215     \u001b[36m0.18658\u001b[0m     0.37430    0.49849      0.89148  40.79s\n",
      "    216     0.19537     0.38926    0.50189      0.89093  40.77s\n",
      "    217     0.18891     0.38456    0.49123      0.89104  40.78s\n",
      "    218     0.18833     0.39188    0.48057      0.88937  40.73s\n",
      "    219     0.19244     0.38315    0.50227      0.89126  40.77s\n",
      "    220     \u001b[36m0.18553\u001b[0m     0.37859    0.49007      0.88893  41.10s\n",
      "    221     0.18645     0.38276    0.48712      0.88904  40.96s\n",
      "    222     0.18898     0.38118    0.49579      0.88948  40.81s\n",
      "    223     \u001b[36m0.18242\u001b[0m     0.39621    0.46043      0.88537  40.77s\n",
      "    224     0.18561     0.39469    0.47027      0.89137  41.07s\n",
      "    225     0.18660     0.38374    0.48626      0.88915  40.79s\n",
      "    226     0.18919     0.37173    0.50895      0.89059  41.08s\n",
      "    227     \u001b[36m0.17969\u001b[0m     0.38636    0.46508      0.88937  40.92s\n",
      "    228     0.18908     0.38624    0.48953      0.89126  40.89s\n",
      "    229     \u001b[36m0.17708\u001b[0m     0.39120    0.45266      0.89093  40.89s\n",
      "    230     0.18857     0.38752    0.48660      0.89081  40.93s\n",
      "    231     0.18466     0.38849    0.47532      0.88859  40.89s\n",
      "    232     0.18549     0.38318    0.48407      0.89015  40.85s\n"
     ]
    },
    {
     "name": "stdout",
     "output_type": "stream",
     "text": [
      "    233     0.18406     0.39107    0.47065      0.88859  40.90s\n",
      "    234     0.17826     0.41514    0.42940      0.88815  40.82s\n",
      "    235     0.19406     0.38451    0.50470      0.89037  41.10s\n",
      "    236     0.18319     0.38732    0.47296      0.89048  41.39s\n",
      "    237     0.18267     0.38844    0.47026      0.88915  40.93s\n",
      "    238     0.18242     0.39374    0.46331      0.88870  40.91s\n",
      "    239     0.17829     0.38861    0.45878      0.88837  41.09s\n",
      "    240     0.17810     0.40451    0.44028      0.88770  40.62s\n",
      "    241     0.18496     0.39361    0.46990      0.89148  40.80s\n",
      "    242     0.18281     0.39520    0.46256      0.89192  41.04s\n",
      "    243     0.18067     0.40639    0.44458      0.88659  40.88s\n",
      "    244     0.18494     0.39857    0.46402      0.88770  40.87s\n",
      "    245     0.18144     0.39761    0.45633      0.88904  40.86s\n",
      "    246     0.17964     0.39613    0.45349      0.88715  40.75s\n",
      "    247     0.17939     0.39557    0.45349      0.88515  40.85s\n",
      "    248     \u001b[36m0.17507\u001b[0m     0.43156    0.40566      0.88226  40.82s\n",
      "    249     0.19008     0.40628    0.46785      0.88826  40.96s\n",
      "    250     0.18013     0.40106    0.44914      0.88881  41.25s\n",
      "    251     \u001b[36m0.17449\u001b[0m     0.40746    0.42823      0.88759  40.75s\n",
      "    252     0.17914     0.40439    0.44300      0.88859  40.82s\n",
      "    253     0.17611     0.41141    0.42807      0.88815  41.00s\n",
      "    254     0.17877     0.39006    0.45832      0.88904  41.19s\n",
      "    255     \u001b[36m0.17227\u001b[0m     0.41045    0.41970      0.88570  40.59s\n",
      "    256     0.17993     0.41517    0.43340      0.89081  40.85s\n",
      "    257     0.18356     0.42107    0.43594      0.88659  40.95s\n",
      "    258     0.17365     0.41451    0.41892      0.88715  40.78s\n",
      "    259     0.17556     0.41437    0.42367      0.88993  40.81s\n",
      "    260     0.17254     0.40905    0.42181      0.88915  40.75s\n",
      "    261     \u001b[36m0.16893\u001b[0m     0.40759    0.41447      0.89048  40.50s\n",
      "    262     0.17033     0.42631    0.39955      0.88570  40.94s\n",
      "    263     0.18301     0.41490    0.44110      0.88770  41.12s\n",
      "    264     0.17151     0.41003    0.41829      0.88915  40.86s\n",
      "    265     0.17578     0.41428    0.42430      0.88848  41.24s\n",
      "    266     0.17378     0.41806    0.41569      0.88893  40.78s\n",
      "    267     0.17361     0.42248    0.41093      0.88848  40.70s\n",
      "    268     0.17904     0.41276    0.43377      0.89059  41.03s\n",
      "    269     0.17062     0.42205    0.40426      0.88604  40.94s\n",
      "    270     0.17207     0.41609    0.41353      0.88915  40.60s\n",
      "    271     0.17813     0.41583    0.42836      0.88981  40.90s\n",
      "    272     0.18034     0.42003    0.42936      0.88837  41.40s\n",
      "    273     0.16973     0.41929    0.40482      0.88848  40.88s\n",
      "    274     0.17399     0.41768    0.41657      0.89004  40.93s\n",
      "    275     0.17200     0.43125    0.39885      0.88904  41.10s\n",
      "    276     \u001b[36m0.16882\u001b[0m     0.42255    0.39954      0.88793  40.95s\n",
      "    277     0.16974     0.43202    0.39291      0.88826  40.78s\n",
      "    278     0.17643     0.43363    0.40687      0.88715  42.00s\n",
      "    279     0.17545     0.42761    0.41030      0.88904  40.75s\n",
      "    280     \u001b[36m0.16729\u001b[0m     0.42517    0.39346      0.88826  41.28s\n",
      "    281     0.17201     0.43596    0.39455      0.88648  40.98s\n",
      "    282     0.17731     0.42025    0.42190      0.88881  40.67s\n",
      "    283     0.17292     0.42793    0.40409      0.88937  40.65s\n",
      "    284     0.16957     0.41832    0.40537      0.88615  40.98s\n",
      "    285     0.17271     0.46066    0.37492      0.88115  40.83s\n",
      "    286     0.18068     0.42059    0.42959      0.88993  40.72s\n",
      "    287     0.17067     0.42823    0.39855      0.88948  41.04s\n",
      "    288     0.17608     0.41751    0.42175      0.88926  40.98s\n",
      "    289     0.16825     0.41871    0.40183      0.89015  40.94s\n",
      "    290     0.17101     0.42861    0.39899      0.88937  40.94s\n",
      "    291     0.17519     0.43144    0.40605      0.89015  40.72s\n",
      "    292     0.16996     0.43603    0.38980      0.88948  40.82s\n",
      "    293     0.16771     0.43294    0.38738      0.89137  40.90s\n",
      "    294     0.16751     0.43574    0.38442      0.89304  41.33s\n",
      "    295     \u001b[36m0.16157\u001b[0m     0.43158    0.37437      0.89093  40.63s\n",
      "    296     0.17426     0.43098    0.40433      0.89226  40.85s\n",
      "    297     0.17506     0.42481    0.41210      0.88670  41.02s\n",
      "    298     0.17314     0.42623    0.40621      0.88515  40.78s\n",
      "    299     0.17354     0.42032    0.41288      0.88837  41.22s\n",
      "    300     0.16615     0.44005    0.37757      0.88826  41.01s\n",
      "    301     0.16681     0.43645    0.38220      0.88926  40.70s\n",
      "    302     0.16969     0.43160    0.39317      0.88626  40.94s\n",
      "    303     0.17134     0.42181    0.40622      0.88815  40.92s\n",
      "    304     0.17148     0.42951    0.39924      0.88859  40.76s\n",
      "    305     0.17375     0.43066    0.40346      0.89137  40.91s\n",
      "    306     0.16951     0.44207    0.38343      0.88926  40.82s\n",
      "    307     0.16415     0.43372    0.37848      0.88893  40.76s\n",
      "    308     0.16310     0.43606    0.37403      0.89070  41.04s\n",
      "    309     0.16638     0.44134    0.37698      0.88559  41.04s\n",
      "    310     0.16856     0.44199    0.38138      0.88837  41.01s\n",
      "    311     0.17154     0.43843    0.39126      0.88993  41.01s\n",
      "    312     0.16821     0.43984    0.38243      0.88726  41.08s\n",
      "    313     0.17096     0.43849    0.38988      0.89148  40.72s\n",
      "    314     0.17222     0.44531    0.38674      0.88893  40.94s\n",
      "    315     0.16389     0.43966    0.37276      0.88748  40.78s\n",
      "    316     0.17602     0.43923    0.40074      0.88593  40.89s\n",
      "    317     0.16963     0.45354    0.37401      0.88793  41.89s\n",
      "    318     0.16983     0.43263    0.39257      0.88770  41.03s\n",
      "    319     0.16836     0.44405    0.37915      0.88959  41.05s\n",
      "    320     0.16908     0.43029    0.39294      0.89104  40.99s\n",
      "    321     0.16443     0.45120    0.36444      0.88993  41.14s\n",
      "    322     0.16738     0.43768    0.38244      0.88815  40.82s\n",
      "    323     0.16987     0.44791    0.37926      0.88759  40.98s\n",
      "    324     0.16441     0.45198    0.36376      0.88959  41.52s\n",
      "    325     0.16203     0.45005    0.36003      0.88726  40.77s\n",
      "    326     0.16913     0.43540    0.38845      0.88548  40.92s\n",
      "    327     0.16265     0.45110    0.36057      0.89070  40.98s\n",
      "    328     0.17113     0.44122    0.38786      0.88537  40.66s\n",
      "    329     0.16565     0.45116    0.36716      0.88670  40.88s\n",
      "    330     \u001b[36m0.16088\u001b[0m     0.42769    0.37615      0.88748  41.12s\n",
      "    331     \u001b[36m0.15835\u001b[0m     0.44628    0.35483      0.88893  40.78s\n",
      "    332     0.16257     0.44325    0.36676      0.88904  40.81s\n",
      "    333     0.16651     0.44221    0.37653      0.88448  41.01s\n",
      "    334     \u001b[36m0.15763\u001b[0m     0.45640    0.34539      0.88859  41.01s\n",
      "    335     0.16130     0.44091    0.36583      0.88915  40.79s\n",
      "    336     0.16040     0.43118    0.37199      0.88637  40.87s\n",
      "    337     0.15840     0.46039    0.34406      0.88726  40.95s\n",
      "    338     0.16274     0.45114    0.36074      0.88226  40.72s\n",
      "    339     0.15829     0.43984    0.35989      0.88604  40.53s\n",
      "    340     0.15901     0.44737    0.35543      0.88582  40.94s\n",
      "    341     \u001b[36m0.15761\u001b[0m     0.45631    0.34540      0.88537  41.12s\n",
      "    342     0.16313     0.44900    0.36331      0.88504  41.14s\n",
      "    343     \u001b[36m0.15619\u001b[0m     0.46435    0.33635      0.88693  41.25s\n",
      "    344     0.16249     0.44666    0.36380      0.88626  41.03s\n",
      "    345     0.15695     0.44290    0.35438      0.88637  40.76s\n",
      "    346     0.15659     0.44567    0.35136      0.88682  41.07s\n",
      "    347     \u001b[36m0.15369\u001b[0m     0.45399    0.33854      0.88726  40.99s\n",
      "    348     0.16260     0.46345    0.35085      0.88759  40.89s\n",
      "    349     \u001b[36m0.15333\u001b[0m     0.46010    0.33325      0.88404  41.03s\n",
      "    350     0.15787     0.44032    0.35853      0.88748  41.19s\n",
      "    351     \u001b[36m0.15236\u001b[0m     0.45247    0.33674      0.88859  40.92s\n",
      "    352     0.15398     0.45442    0.33884      0.88659  41.14s\n",
      "    353     0.15759     0.45920    0.34317      0.88848  41.23s\n",
      "    354     0.15306     0.44473    0.34417      0.88604  41.08s\n",
      "    355     0.15994     0.45593    0.35080      0.88770  40.74s\n",
      "    356     0.16047     0.45184    0.35515      0.88848  41.07s\n",
      "    357     0.15809     0.45485    0.34756      0.88848  41.22s\n",
      "    358     \u001b[36m0.15172\u001b[0m     0.45272    0.33512      0.88770  41.12s\n"
     ]
    },
    {
     "name": "stdout",
     "output_type": "stream",
     "text": [
      "    359     0.15711     0.45096    0.34838      0.88593  41.29s\n",
      "    360     0.15879     0.43961    0.36120      0.88904  41.75s\n",
      "    361     0.15297     0.45876    0.33344      0.88870  41.08s\n",
      "    362     0.15421     0.46088    0.33460      0.88904  41.28s\n",
      "    363     \u001b[36m0.15159\u001b[0m     0.46321    0.32727      0.88604  41.28s\n",
      "    364     \u001b[36m0.14805\u001b[0m     0.45204    0.32751      0.88659  41.06s\n",
      "    365     0.15426     0.47129    0.32731      0.88804  40.88s\n",
      "    366     0.15170     0.46528    0.32604      0.88804  41.13s\n",
      "    367     \u001b[36m0.14546\u001b[0m     0.45239    0.32154      0.88959  40.68s\n",
      "    368     0.14603     0.45418    0.32153      0.88637  41.16s\n",
      "    369     0.15540     0.44972    0.34555      0.88837  41.17s\n",
      "    370     0.14864     0.46176    0.32190      0.88637  40.91s\n",
      "    371     0.14742     0.46038    0.32021      0.88993  40.96s\n",
      "    372     0.15270     0.45583    0.33499      0.88693  40.76s\n",
      "    373     0.14631     0.47489    0.30808      0.88770  41.06s\n",
      "    374     0.15214     0.46199    0.32932      0.88693  41.18s\n",
      "    375     0.14978     0.45732    0.32752      0.88704  40.82s\n",
      "    376     0.15085     0.47049    0.32063      0.88337  41.51s\n",
      "    377     0.14980     0.46617    0.32134      0.88648  41.14s\n",
      "    378     0.14765     0.45141    0.32709      0.88637  40.93s\n",
      "    379     0.14676     0.47356    0.30992      0.88770  41.04s\n",
      "    380     0.14803     0.45663    0.32419      0.88726  40.94s\n",
      "    381     \u001b[36m0.14375\u001b[0m     0.46571    0.30866      0.88759  40.83s\n",
      "    382     0.14730     0.47822    0.30802      0.88504  41.38s\n",
      "    383     0.14645     0.47082    0.31105      0.88859  41.08s\n",
      "    384     0.15150     0.47356    0.31993      0.88371  40.74s\n",
      "    385     0.14585     0.47271    0.30855      0.88715  41.23s\n",
      "    386     0.14841     0.46082    0.32205      0.88848  41.44s\n",
      "    387     0.14864     0.46960    0.31652      0.88926  41.15s\n",
      "    388     0.14836     0.46696    0.31770      0.88526  41.08s\n",
      "    389     0.14426     0.45874    0.31447      0.88815  41.16s\n",
      "    390     0.14687     0.46259    0.31748      0.88770  40.99s\n",
      "    391     0.14610     0.45755    0.31930      0.88515  41.11s\n",
      "    392     \u001b[36m0.14353\u001b[0m     0.46621    0.30788      0.89048  41.05s\n",
      "    393     0.15136     0.44933    0.33687      0.88682  40.79s\n",
      "    394     0.14584     0.47243    0.30871      0.88859  41.11s\n",
      "    395     0.14516     0.46844    0.30989      0.88626  41.24s\n",
      "    396     0.14531     0.47454    0.30621      0.88804  40.99s\n",
      "    397     0.14399     0.47454    0.30342      0.88259  41.34s\n",
      "    398     \u001b[36m0.14262\u001b[0m     0.49262    0.28951      0.88471  41.21s\n",
      "    399     0.14918     0.47922    0.31129      0.88793  41.06s\n",
      "    400     0.14501     0.48249    0.30055      0.88459  41.11s\n",
      "    401     0.14313     0.48455    0.29538      0.88526  41.00s\n",
      "    402     0.15152     0.46517    0.32573      0.88471  41.05s\n",
      "    403     \u001b[36m0.14231\u001b[0m     0.49518    0.28738      0.88526  41.25s\n",
      "    404     \u001b[36m0.14113\u001b[0m     0.48444    0.29133      0.88726  41.20s\n",
      "    405     0.14325     0.48370    0.29617      0.88282  41.22s\n",
      "    406     0.14973     0.46898    0.31927      0.88826  41.17s\n",
      "    407     \u001b[36m0.13891\u001b[0m     0.48238    0.28797      0.88626  41.32s\n",
      "    408     0.14522     0.48376    0.30019      0.88659  41.31s\n",
      "    409     0.14147     0.46876    0.30179      0.88271  41.33s\n",
      "    410     0.14877     0.48538    0.30650      0.88715  41.09s\n",
      "    411     0.13978     0.48754    0.28670      0.88526  41.18s\n",
      "    412     0.14415     0.48475    0.29737      0.88548  41.39s\n",
      "    413     0.14515     0.48217    0.30103      0.88604  41.20s\n",
      "    414     \u001b[36m0.13876\u001b[0m     0.51070    0.27171      0.88693  41.41s\n",
      "    415     0.14233     0.50147    0.28382      0.88682  40.89s\n",
      "    416     0.14336     0.49467    0.28981      0.88248  41.22s\n",
      "    417     0.14170     0.49318    0.28732      0.88437  41.10s\n",
      "    418     0.14127     0.49905    0.28308      0.88426  41.04s\n",
      "    419     0.14143     0.49576    0.28527      0.88359  41.09s\n",
      "    420     0.14434     0.50432    0.28620      0.88382  41.27s\n",
      "    421     0.14277     0.50524    0.28257      0.88770  41.01s\n",
      "    422     0.14077     0.49021    0.28716      0.88670  40.96s\n",
      "    423     0.13945     0.49318    0.28276      0.88459  40.96s\n",
      "    424     0.14676     0.49274    0.29785      0.88537  40.81s\n",
      "    425     0.14371     0.50937    0.28213      0.88515  41.13s\n",
      "    426     0.13950     0.50218    0.27779      0.88448  41.52s\n",
      "    427     \u001b[36m0.13811\u001b[0m     0.50681    0.27250      0.88304  41.07s\n",
      "    428     0.14184     0.50096    0.28314      0.88548  41.12s\n",
      "    429     0.14206     0.50958    0.27878      0.88515  41.04s\n",
      "    430     0.13933     0.50726    0.27468      0.88226  41.10s\n",
      "    431     0.14237     0.50029    0.28458      0.88359  41.22s\n",
      "    432     0.13930     0.50693    0.27480      0.88504  40.92s\n",
      "    433     0.14045     0.49597    0.28319      0.88682  41.06s\n",
      "    434     0.14347     0.51522    0.27847      0.88315  41.22s\n",
      "    435     0.14314     0.50416    0.28391      0.88693  41.22s\n",
      "    436     0.14037     0.51095    0.27472      0.88493  40.86s\n",
      "    437     0.14173     0.50172    0.28248      0.88648  41.25s\n",
      "    438     \u001b[36m0.13760\u001b[0m     0.50500    0.27247      0.88504  41.24s\n",
      "    439     \u001b[36m0.13602\u001b[0m     0.51918    0.26199      0.88404  41.39s\n",
      "    440     0.14240     0.51747    0.27519      0.88759  41.16s\n",
      "    441     0.13701     0.51513    0.26596      0.88304  41.72s\n",
      "    442     0.14401     0.49053    0.29358      0.88648  40.84s\n",
      "    443     0.13945     0.50411    0.27663      0.88604  41.05s\n",
      "    444     \u001b[36m0.13486\u001b[0m     0.51620    0.26126      0.88559  41.31s\n",
      "    445     0.13858     0.50060    0.27683      0.88715  41.35s\n",
      "    446     0.13759     0.53382    0.25775      0.88404  41.03s\n",
      "    447     0.14013     0.50733    0.27622      0.88493  41.06s\n",
      "    448     0.13967     0.52676    0.26515      0.88626  41.65s\n",
      "    449     \u001b[36m0.13444\u001b[0m     0.51704    0.26002      0.88648  41.14s\n",
      "    450     0.14426     0.51282    0.28132      0.88615  41.05s\n",
      "    451     0.13725     0.50921    0.26953      0.88637  41.06s\n",
      "    452     0.13609     0.52911    0.25721      0.88770  41.54s\n",
      "    453     0.14081     0.51547    0.27317      0.88604  41.30s\n",
      "    454     0.13542     0.51224    0.26437      0.88559  41.10s\n",
      "    455     \u001b[36m0.13246\u001b[0m     0.52894    0.25043      0.88448  41.17s\n",
      "    456     0.13705     0.52065    0.26322      0.88415  41.26s\n",
      "    457     0.13407     0.53402    0.25106      0.88515  41.24s\n",
      "    458     0.13455     0.52460    0.25648      0.88493  41.11s\n",
      "    459     0.13250     0.52213    0.25378      0.88604  41.38s\n",
      "    460     0.13680     0.50974    0.26837      0.88459  41.19s\n",
      "    461     0.14521     0.52381    0.27721      0.88415  41.03s\n",
      "    462     0.13971     0.53716    0.26009      0.88282  41.11s\n",
      "    463     0.13956     0.52029    0.26823      0.88615  41.34s\n",
      "    464     0.13503     0.53023    0.25467      0.88793  41.13s\n",
      "    465     0.13538     0.54357    0.24906      0.88515  41.28s\n",
      "    466     0.13821     0.52398    0.26376      0.88626  41.55s\n",
      "    467     0.13552     0.52747    0.25692      0.88715  42.35s\n",
      "    468     0.13963     0.51833    0.26938      0.88637  41.47s\n",
      "    469     0.13692     0.53775    0.25461      0.88615  41.44s\n",
      "    470     0.13847     0.52667    0.26292      0.88493  41.77s\n",
      "    471     0.14058     0.53633    0.26211      0.88826  41.17s\n",
      "    472     0.13376     0.53501    0.25001      0.88670  41.37s\n",
      "    473     \u001b[36m0.13176\u001b[0m     0.52718    0.24993      0.88515  41.34s\n",
      "    474     0.13494     0.52780    0.25566      0.88726  41.07s\n",
      "    475     0.13484     0.55348    0.24362      0.88548  41.29s\n",
      "    476     0.13245     0.54034    0.24513      0.88737  41.34s\n",
      "    477     0.13611     0.53283    0.25544      0.88570  41.41s\n",
      "    478     0.13349     0.55027    0.24259      0.88548  41.12s\n",
      "    479     0.13230     0.53623    0.24672      0.88548  41.25s\n",
      "    480     0.13184     0.54052    0.24391      0.88704  41.23s\n",
      "    481     0.13585     0.52467    0.25893      0.88570  41.41s\n",
      "    482     0.13251     0.55032    0.24079      0.88826  41.38s\n",
      "    483     0.13556     0.54395    0.24922      0.88670  41.13s\n",
      "    484     \u001b[36m0.13024\u001b[0m     0.54238    0.24013      0.88615  41.44s\n"
     ]
    },
    {
     "name": "stdout",
     "output_type": "stream",
     "text": [
      "    485     0.13424     0.53440    0.25119      0.88459  41.15s\n",
      "    486     0.13337     0.54875    0.24305      0.88559  41.19s\n",
      "    487     \u001b[36m0.12948\u001b[0m     0.55174    0.23467      0.88682  41.36s\n",
      "    488     0.13602     0.53965    0.25206      0.88437  41.45s\n",
      "    489     0.13195     0.54053    0.24412      0.88704  41.19s\n",
      "    490     \u001b[36m0.12927\u001b[0m     0.56327    0.22950      0.88482  41.20s\n",
      "    491     0.13157     0.53810    0.24451      0.88315  41.40s\n",
      "    492     \u001b[36m0.12695\u001b[0m     0.55535    0.22859      0.88626  41.00s\n",
      "    493     0.13320     0.53746    0.24784      0.88759  41.55s\n",
      "    494     0.12847     0.55467    0.23161      0.88482  41.18s\n",
      "    495     0.13536     0.53947    0.25091      0.88504  41.37s\n",
      "    496     0.13299     0.53243    0.24979      0.88259  41.22s\n",
      "    497     0.13165     0.54834    0.24009      0.88693  41.45s\n",
      "    498     0.13258     0.52703    0.25157      0.88515  41.35s\n",
      "    499     0.13274     0.55949    0.23726      0.88504  41.72s\n",
      "    500     \u001b[36m0.12672\u001b[0m     0.55088    0.23004      0.88626  41.60s\n",
      "    501     0.12759     0.55797    0.22867      0.88670  41.34s\n",
      "    502     0.12897     0.55986    0.23037      0.88559  41.39s\n",
      "    503     0.13338     0.54007    0.24697      0.88415  41.55s\n",
      "    504     0.12839     0.54841    0.23411      0.88359  41.42s\n",
      "    505     0.13362     0.56216    0.23769      0.88426  41.43s\n",
      "    506     0.13052     0.54839    0.23800      0.88482  41.36s\n",
      "    507     0.12976     0.56236    0.23073      0.88848  41.53s\n",
      "    508     \u001b[36m0.12622\u001b[0m     0.55455    0.22760      0.88604  41.23s\n",
      "    509     0.13260     0.55707    0.23803      0.88359  41.56s\n",
      "    510     0.12838     0.54491    0.23559      0.88482  41.47s\n",
      "    511     0.12974     0.55944    0.23192      0.88582  41.06s\n",
      "    512     0.12886     0.54897    0.23474      0.88482  41.29s\n",
      "    513     0.12833     0.56365    0.22768      0.88537  41.68s\n",
      "    514     0.13567     0.54950    0.24690      0.88337  41.43s\n",
      "    515     0.13535     0.55260    0.24493      0.88471  41.50s\n",
      "    516     0.12779     0.54336    0.23519      0.88593  41.33s\n",
      "    517     0.12849     0.56400    0.22781      0.88293  41.71s\n",
      "    518     0.13227     0.55994    0.23621      0.88482  41.26s\n",
      "    519     0.12950     0.55460    0.23350      0.88337  43.89s\n",
      "    520     0.12937     0.55624    0.23257      0.88648  44.62s\n",
      "    521     0.13226     0.54587    0.24230      0.88504  44.09s\n",
      "    522     \u001b[36m0.12548\u001b[0m     0.56563    0.22185      0.88504  45.65s\n",
      "    523     \u001b[36m0.12535\u001b[0m     0.56981    0.21999      0.88382  43.81s\n",
      "    524     \u001b[36m0.12534\u001b[0m     0.56753    0.22086      0.88670  43.48s\n",
      "    525     0.12903     0.57503    0.22439      0.88359  43.60s\n",
      "    526     0.13469     0.56182    0.23975      0.88382  43.36s\n",
      "    527     0.12760     0.56531    0.22573      0.88515  43.72s\n",
      "    528     0.13107     0.56520    0.23190      0.88404  43.21s\n",
      "    529     0.13069     0.55187    0.23682      0.88448  45.13s\n",
      "    530     0.13046     0.56743    0.22991      0.88482  43.81s\n",
      "    531     0.13438     0.58314    0.23044      0.88304  43.39s\n",
      "    532     0.13323     0.56862    0.23431      0.88204  43.74s\n",
      "    533     0.12961     0.58673    0.22091      0.88293  43.48s\n",
      "    534     0.12811     0.55893    0.22921      0.88393  45.34s\n",
      "    535     0.12613     0.56396    0.22366      0.88493  43.77s\n",
      "    536     \u001b[36m0.11993\u001b[0m     0.57187    0.20972      0.88393  43.41s\n",
      "    537     0.12726     0.56757    0.22421      0.88315  43.68s\n",
      "    538     0.12964     0.58638    0.22108      0.88259  41.47s\n",
      "    539     0.12232     0.56543    0.21633      0.88593  41.39s\n",
      "    540     0.13043     0.57269    0.22776      0.88471  41.49s\n",
      "    541     0.12627     0.56896    0.22193      0.88526  42.07s\n",
      "    542     0.12246     0.58943    0.20776      0.88259  41.23s\n",
      "    543     0.12784     0.57806    0.22115      0.88515  41.54s\n",
      "    544     0.12488     0.58313    0.21415      0.88504  41.39s\n",
      "    545     0.12605     0.58284    0.21627      0.88282  41.35s\n",
      "    546     0.12997     0.56201    0.23126      0.88526  41.41s\n",
      "    547     0.12228     0.59607    0.20515      0.88426  41.69s\n",
      "    548     0.12685     0.57359    0.22115      0.87971  41.48s\n",
      "    549     0.12656     0.56936    0.22228      0.88215  41.50s\n",
      "    550     0.12581     0.59106    0.21286      0.88271  41.55s\n",
      "    551     0.12539     0.58947    0.21272      0.88359  41.26s\n",
      "    552     0.12978     0.56986    0.22773      0.88437  41.39s\n",
      "    553     0.12908     0.58494    0.22067      0.88348  41.56s\n",
      "    554     0.12751     0.57945    0.22005      0.88559  41.52s\n",
      "    555     0.12772     0.57924    0.22049      0.88359  41.50s\n",
      "    556     0.12508     0.60080    0.20819      0.88137  42.72s\n",
      "    557     0.12374     0.59863    0.20670      0.88348  41.51s\n",
      "    558     0.12575     0.59831    0.21018      0.88415  41.77s\n",
      "    559     0.12502     0.57632    0.21692      0.88160  41.44s\n",
      "    560     0.12624     0.58793    0.21472      0.88593  41.63s\n",
      "    561     0.12764     0.59129    0.21587      0.88271  41.51s\n",
      "    562     0.12709     0.58476    0.21733      0.88393  41.60s\n",
      "    563     0.12676     0.58077    0.21827      0.88359  41.90s\n",
      "    564     0.12250     0.57727    0.21221      0.88271  41.58s\n",
      "    565     0.12266     0.58808    0.20858      0.88437  41.62s\n",
      "    566     0.12857     0.59616    0.21567      0.88248  41.67s\n",
      "    567     0.12795     0.58923    0.21715      0.88326  41.51s\n",
      "    568     0.13149     0.57172    0.22998      0.88148  41.49s\n",
      "    569     0.12198     0.58326    0.20914      0.88282  41.74s\n",
      "    570     0.12076     0.60090    0.20096      0.88426  42.04s\n",
      "    571     0.12862     0.58043    0.22160      0.88482  41.63s\n",
      "    572     0.12840     0.58271    0.22035      0.88171  41.61s\n",
      "    573     0.13317     0.58590    0.22729      0.88326  41.73s\n",
      "    574     0.12368     0.58763    0.21046      0.88248  41.35s\n",
      "    575     0.12700     0.58857    0.21578      0.88393  41.51s\n",
      "    576     0.12165     0.59694    0.20379      0.88160  41.72s\n",
      "    577     0.12517     0.59124    0.21171      0.88404  41.54s\n",
      "    578     0.12180     0.58605    0.20783      0.88248  41.55s\n",
      "    579     0.12180     0.59958    0.20315      0.88271  41.79s\n",
      "    580     0.12453     0.57976    0.21480      0.88371  41.51s\n",
      "    581     0.12491     0.57167    0.21850      0.88171  43.53s\n",
      "    582     0.12091     0.57848    0.20901      0.88004  41.56s\n",
      "    583     0.13926     0.57860    0.24069      0.88093  41.47s\n",
      "    584     0.12532     0.58638    0.21372      0.88448  44.83s\n",
      "    585     0.12538     0.58546    0.21415      0.88304  44.13s\n",
      "    586     0.12676     0.57155    0.22178      0.88282  43.67s\n",
      "    587     0.12396     0.59640    0.20784      0.88115  43.86s\n",
      "    588     0.12626     0.59202    0.21327      0.88337  43.69s\n",
      "    589     0.13110     0.57738    0.22706      0.88504  42.37s\n",
      "    590     0.12555     0.60935    0.20603      0.88271  41.55s\n",
      "    591     0.12228     0.57155    0.21395      0.88193  41.59s\n",
      "    592     0.12557     0.59270    0.21186      0.88304  41.43s\n",
      "    593     0.12373     0.60039    0.20607      0.88326  41.38s\n",
      "    594     0.12417     0.59852    0.20745      0.88115  41.66s\n",
      "    595     0.12269     0.58870    0.20840      0.88193  43.31s\n",
      "    596     0.12707     0.59807    0.21247      0.88259  41.70s\n",
      "    597     0.12780     0.59407    0.21513      0.88226  41.63s\n",
      "    598     0.12606     0.58365    0.21599      0.88037  42.00s\n",
      "    599     0.12563     0.58594    0.21441      0.88448  41.90s\n",
      "    600     0.12448     0.56967    0.21851      0.88026  41.57s\n",
      "    601     0.12742     0.59058    0.21575      0.88226  41.80s\n",
      "    602     0.12916     0.56997    0.22660      0.88060  41.84s\n",
      "    603     0.12488     0.59102    0.21130      0.88215  41.46s\n",
      "    604     0.12177     0.58404    0.20851      0.88371  41.63s\n",
      "    605     0.12920     0.59314    0.21783      0.88282  41.69s\n",
      "    606     0.12628     0.58805    0.21474      0.88060  41.74s\n",
      "    607     0.12407     0.59753    0.20764      0.88615  41.74s\n",
      "    608     0.12036     0.58819    0.20464      0.88171  41.49s\n",
      "    609     0.12175     0.59973    0.20301      0.88160  41.39s\n",
      "    610     0.12066     0.58289    0.20701      0.88404  41.61s\n",
      "    611     0.12525     0.58651    0.21355      0.88248  41.65s\n"
     ]
    },
    {
     "name": "stdout",
     "output_type": "stream",
     "text": [
      "    612     0.12067     0.59187    0.20389      0.88382  41.90s\n",
      "    613     0.12178     0.59613    0.20428      0.88437  41.95s\n",
      "    614     0.12263     0.58640    0.20913      0.88371  41.81s\n",
      "    615     0.12221     0.59549    0.20523      0.88482  41.53s\n",
      "    616     0.12452     0.58740    0.21199      0.88282  41.75s\n",
      "    617     0.12440     0.58332    0.21326      0.88060  41.85s\n",
      "    618     0.12603     0.60313    0.20897      0.88182  41.79s\n",
      "    619     0.12573     0.58897    0.21348      0.88282  41.35s\n",
      "    620     0.12384     0.60920    0.20329      0.88171  41.97s\n",
      "    621     0.12619     0.60174    0.20970      0.88515  41.77s\n",
      "    622     0.12475     0.57857    0.21562      0.88437  41.55s\n",
      "    623     0.12231     0.58169    0.21026      0.88326  41.54s\n",
      "    624     0.12481     0.58467    0.21348      0.88248  41.76s\n",
      "    625     0.12304     0.56914    0.21619      0.88271  41.40s\n",
      "    626     0.12639     0.58421    0.21635      0.88004  43.05s\n",
      "    627     0.12424     0.59738    0.20797      0.88215  41.93s\n",
      "    628     0.12142     0.60671    0.20013      0.88104  41.77s\n",
      "    629     0.12295     0.60424    0.20347      0.88104  41.76s\n",
      "    630     0.12531     0.59459    0.21076      0.88148  42.02s\n",
      "    631     0.12651     0.59809    0.21152      0.88126  41.98s\n",
      "    632     0.12739     0.59910    0.21263      0.88137  41.66s\n",
      "    633     0.12317     0.59890    0.20566      0.88248  41.85s\n",
      "    634     0.12274     0.59687    0.20563      0.88160  41.27s\n",
      "    635     0.12706     0.58501    0.21720      0.88315  41.49s\n",
      "    636     0.12296     0.60671    0.20267      0.88060  41.54s\n",
      "    637     0.12683     0.59553    0.21297      0.88204  41.71s\n",
      "    638     0.12764     0.59625    0.21407      0.88071  41.31s\n",
      "    639     0.12636     0.60289    0.20960      0.88226  41.71s\n",
      "    640     0.12882     0.59280    0.21731      0.88126  41.49s\n",
      "    641     0.12359     0.60257    0.20510      0.88271  41.43s\n",
      "    642     0.12735     0.60074    0.21199      0.88137  41.72s\n",
      "    643     0.13130     0.59963    0.21897      0.88004  41.92s\n",
      "    644     0.12613     0.60053    0.21004      0.88248  41.49s\n",
      "    645     0.12724     0.61626    0.20648      0.88015  41.77s\n",
      "    646     0.12830     0.59503    0.21561      0.88359  41.78s\n",
      "    647     0.12287     0.61166    0.20088      0.88315  41.86s\n",
      "    648     0.12434     0.59497    0.20899      0.88582  41.52s\n",
      "    649     0.12883     0.58959    0.21850      0.88315  41.45s\n",
      "    650     0.12745     0.59149    0.21548      0.88404  41.71s\n",
      "    651     0.12255     0.62817    0.19508      0.88259  41.45s\n",
      "    652     0.12485     0.62459    0.19989      0.88004  41.64s\n",
      "    653     0.12443     0.60553    0.20549      0.88493  41.61s\n",
      "    654     0.12354     0.62639    0.19723      0.88437  41.65s\n",
      "    655     0.12646     0.60916    0.20760      0.88348  41.53s\n",
      "    656     \u001b[36m0.11677\u001b[0m     0.61305    0.19047      0.87982  41.34s\n",
      "    657     0.11943     0.61467    0.19430      0.88171  41.56s\n",
      "    658     0.11974     0.61926    0.19336      0.88626  41.41s\n",
      "    659     0.11984     0.60448    0.19825      0.88371  41.41s\n",
      "    660     0.12505     0.59137    0.21145      0.88326  41.48s\n",
      "    661     0.12326     0.61983    0.19885      0.88459  41.31s\n",
      "    662     0.12083     0.61181    0.19750      0.88648  41.61s\n",
      "    663     0.12209     0.64825    0.18834      0.88504  41.01s\n",
      "    664     0.12211     0.63401    0.19260      0.88582  41.39s\n",
      "    665     0.12682     0.62184    0.20394      0.88704  41.64s\n",
      "    666     0.12581     0.63545    0.19798      0.88482  41.07s\n",
      "    667     0.12354     0.61781    0.19996      0.88648  41.62s\n",
      "    668     0.12121     0.62732    0.19322      0.88415  41.63s\n",
      "    669     0.12825     0.62046    0.20670      0.88504  41.42s\n",
      "    670     0.12757     0.62665    0.20357      0.88115  41.59s\n",
      "    671     0.12456     0.62328    0.19984      0.88082  41.95s\n",
      "    672     0.12573     0.61001    0.20612      0.88415  41.58s\n",
      "    673     0.12202     0.64466    0.18927      0.88870  41.58s\n",
      "    674     0.12695     0.61486    0.20647      0.88482  41.81s\n",
      "    675     0.12926     0.63673    0.20300      0.88448  41.49s\n",
      "    676     0.13046     0.62986    0.20712      0.88693  41.50s\n",
      "    677     0.12664     0.62466    0.20273      0.88526  41.47s\n",
      "    678     0.12245     0.63466    0.19294      0.88204  41.79s\n",
      "    679     0.12391     0.63515    0.19509      0.88815  41.44s\n",
      "    680     0.12316     0.61657    0.19976      0.88570  41.77s\n",
      "    681     0.12253     0.63090    0.19422      0.88248  41.46s\n",
      "    682     0.11832     0.63856    0.18529      0.88237  41.56s\n",
      "    683     0.11862     0.62822    0.18882      0.88426  41.50s\n",
      "    684     0.11958     0.63495    0.18834      0.88637  41.77s\n",
      "    685     0.12317     0.62482    0.19713      0.88626  41.56s\n",
      "    686     0.12021     0.63850    0.18827      0.88326  41.69s\n",
      "    687     0.11777     0.65606    0.17951      0.88371  41.95s\n",
      "    688     0.12189     0.63792    0.19108      0.88304  41.96s\n",
      "    689     0.12167     0.63563    0.19142      0.88315  41.58s\n",
      "    690     0.11894     0.63843    0.18630      0.88526  41.27s\n",
      "    691     0.12237     0.62935    0.19443      0.88371  41.59s\n",
      "    692     0.12247     0.63847    0.19182      0.88471  41.37s\n",
      "    693     0.11850     0.62585    0.18934      0.88570  41.63s\n",
      "    694     0.12276     0.63250    0.19409      0.88237  41.60s\n",
      "    695     0.12038     0.63832    0.18859      0.88271  41.57s\n",
      "    696     0.11776     0.62408    0.18869      0.88593  41.59s\n",
      "    697     0.11791     0.64028    0.18415      0.88171  41.74s\n",
      "    698     0.11797     0.64124    0.18397      0.88315  41.55s\n",
      "    699     0.11692     0.64381    0.18160      0.88315  41.77s\n",
      "    700     \u001b[36m0.11537\u001b[0m     0.64758    0.17816      0.88382  41.92s\n",
      "    701     0.11672     0.65282    0.17880      0.88482  41.58s\n",
      "    702     0.11775     0.65235    0.18049      0.88471  41.98s\n",
      "    703     \u001b[36m0.11465\u001b[0m     0.64501    0.17775      0.88682  41.68s\n",
      "    704     0.11526     0.65041    0.17722      0.88171  41.94s\n",
      "    705     \u001b[36m0.11421\u001b[0m     0.64980    0.17577      0.88315  41.71s\n",
      "    706     0.11439     0.61884    0.18485      0.88615  41.61s\n",
      "    707     0.11499     0.62873    0.18289      0.88570  42.29s\n",
      "    708     \u001b[36m0.11293\u001b[0m     0.65297    0.17294      0.88326  41.57s\n",
      "    709     0.11538     0.64427    0.17908      0.88537  41.60s\n",
      "    710     0.11390     0.64475    0.17666      0.88615  41.54s\n",
      "    711     \u001b[36m0.11244\u001b[0m     0.66428    0.16926      0.88237  41.56s\n",
      "    712     \u001b[36m0.11197\u001b[0m     0.65714    0.17039      0.88482  41.70s\n",
      "    713     0.11302     0.64145    0.17619      0.88604  41.63s\n",
      "    714     0.11316     0.65904    0.17170      0.88559  41.66s\n",
      "    715     \u001b[36m0.11135\u001b[0m     0.64995    0.17132      0.88471  41.74s\n",
      "    716     0.11527     0.65460    0.17609      0.88493  41.76s\n",
      "    717     0.11436     0.64847    0.17636      0.88415  41.93s\n",
      "    718     0.11535     0.65485    0.17614      0.88582  41.74s\n",
      "    719     0.11884     0.64058    0.18552      0.88404  41.82s\n",
      "    720     0.11941     0.66255    0.18022      0.88493  41.65s\n",
      "    721     0.11609     0.64275    0.18061      0.88382  42.06s\n",
      "    722     0.11562     0.64588    0.17901      0.88315  41.80s\n",
      "    723     0.11745     0.64671    0.18161      0.88337  41.57s\n",
      "    724     0.11840     0.66250    0.17872      0.88570  41.45s\n",
      "    725     0.11547     0.65833    0.17539      0.88404  41.87s\n",
      "    726     0.11676     0.64854    0.18003      0.88670  41.94s\n",
      "    727     0.11476     0.63623    0.18038      0.88371  41.57s\n",
      "    728     0.11237     0.66320    0.16943      0.88459  41.68s\n",
      "    729     0.11621     0.63455    0.18313      0.88415  42.26s\n",
      "    730     0.11693     0.67235    0.17392      0.88515  41.85s\n",
      "    731     0.11365     0.65038    0.17474      0.88304  41.97s\n",
      "    732     0.11818     0.67476    0.17514      0.88093  41.75s\n",
      "    733     0.11578     0.67828    0.17069      0.88426  41.43s\n",
      "    734     0.11346     0.65723    0.17263      0.88482  41.54s\n",
      "    735     0.11296     0.66032    0.17106      0.88359  41.54s\n",
      "    736     0.11386     0.68691    0.16576      0.88693  41.74s\n",
      "    737     0.11585     0.65975    0.17560      0.88670  41.70s\n",
      "    738     0.11776     0.66006    0.17841      0.88548  41.92s\n"
     ]
    },
    {
     "name": "stdout",
     "output_type": "stream",
     "text": [
      "    739     0.11770     0.65935    0.17851      0.88782  41.84s\n",
      "    740     0.11913     0.63633    0.18721      0.88648  41.92s\n",
      "    741     0.11525     0.66649    0.17292      0.88881  41.97s\n",
      "    742     0.11272     0.66929    0.16842      0.88759  41.69s\n",
      "    743     0.11761     0.68284    0.17224      0.88559  41.77s\n",
      "    744     0.11248     0.70189    0.16025      0.88448  41.64s\n",
      "    745     0.11459     0.68174    0.16809      0.88515  41.98s\n",
      "    746     0.11463     0.66830    0.17153      0.87982  41.54s\n",
      "    747     0.11651     0.66110    0.17623      0.88293  41.83s\n",
      "    748     0.11597     0.65365    0.17742      0.88793  41.76s\n",
      "    749     0.11263     0.68129    0.16533      0.88848  41.78s\n",
      "    750     0.11380     0.68658    0.16575      0.88615  41.82s\n",
      "    751     0.11665     0.67131    0.17377      0.88637  41.88s\n",
      "    752     0.11369     0.68086    0.16697      0.88471  43.27s\n",
      "    753     0.11608     0.67091    0.17301      0.88570  41.99s\n",
      "    754     0.11559     0.66903    0.17277      0.88637  42.27s\n",
      "    755     0.11619     0.67922    0.17107      0.88693  41.99s\n",
      "    756     0.11327     0.66084    0.17140      0.88548  41.64s\n",
      "    757     0.11139     0.69239    0.16087      0.88770  42.35s\n",
      "    758     0.11405     0.68589    0.16628      0.88626  42.32s\n",
      "    759     0.11330     0.67465    0.16793      0.88426  41.95s\n",
      "    760     0.11267     0.67416    0.16713      0.88526  42.15s\n",
      "    761     0.11388     0.66843    0.17036      0.88459  42.57s\n",
      "    762     0.11195     0.69309    0.16153      0.88382  41.96s\n",
      "    763     0.11193     0.69347    0.16141      0.88415  41.72s\n",
      "    764     0.11671     0.65316    0.17869      0.88726  41.90s\n",
      "    765     0.11184     0.66911    0.16715      0.88593  41.99s\n",
      "    766     0.11140     0.66007    0.16878      0.88459  42.06s\n",
      "    767     \u001b[36m0.11015\u001b[0m     0.67507    0.16317      0.88382  41.84s\n",
      "    768     0.11066     0.68102    0.16249      0.88493  41.97s\n",
      "    769     0.11311     0.67946    0.16647      0.88293  41.80s\n",
      "    770     0.11173     0.66381    0.16832      0.88393  41.93s\n",
      "    771     0.11202     0.67806    0.16521      0.88493  42.32s\n",
      "    772     0.11393     0.66433    0.17149      0.88315  42.05s\n",
      "    773     0.11522     0.68744    0.16760      0.88304  42.16s\n",
      "    774     0.11495     0.68507    0.16779      0.88637  42.35s\n",
      "    775     0.11259     0.66900    0.16829      0.88437  41.98s\n",
      "    776     0.11338     0.65925    0.17198      0.88426  42.19s\n",
      "    777     0.11143     0.67975    0.16393      0.88537  41.89s\n",
      "    778     0.11029     0.68160    0.16181      0.88204  41.88s\n",
      "    779     0.11132     0.67458    0.16502      0.88337  41.94s\n",
      "    780     0.11168     0.67878    0.16453      0.88393  42.05s\n",
      "    781     0.11550     0.69062    0.16724      0.88493  41.75s\n",
      "    782     0.11576     0.66775    0.17337      0.88504  41.97s\n",
      "    783     0.11489     0.67898    0.16921      0.88237  41.95s\n",
      "    784     0.11136     0.65908    0.16896      0.88215  41.85s\n",
      "    785     0.11454     0.68782    0.16652      0.88471  41.77s\n",
      "    786     0.11188     0.68361    0.16365      0.88148  42.18s\n",
      "    787     0.11187     0.66737    0.16763      0.88193  41.83s\n",
      "    788     0.11401     0.66207    0.17220      0.88259  41.64s\n",
      "    789     0.11511     0.70484    0.16331      0.88259  41.91s\n",
      "    790     0.11122     0.68536    0.16227      0.88548  42.19s\n",
      "    791     0.11681     0.68155    0.17139      0.88326  41.86s\n",
      "    792     0.11301     0.67632    0.16710      0.88493  41.90s\n",
      "    793     0.11442     0.67254    0.17014      0.88337  43.19s\n",
      "    794     0.11645     0.66213    0.17586      0.88193  41.96s\n",
      "    795     0.11521     0.67742    0.17008      0.88271  41.97s\n",
      "    796     0.11552     0.69010    0.16740      0.88415  42.17s\n",
      "    797     0.11117     0.69847    0.15916      0.88426  42.25s\n",
      "    798     \u001b[36m0.10960\u001b[0m     0.68798    0.15930      0.88371  41.91s\n",
      "    799     0.11168     0.68620    0.16275      0.88271  42.15s\n",
      "    800     \u001b[36m0.10827\u001b[0m     0.68880    0.15719      0.88171  42.30s\n",
      "    801     0.11454     0.70554    0.16235      0.88404  41.76s\n",
      "    802     0.11382     0.68596    0.16592      0.88415  42.39s\n",
      "    803     0.11544     0.67035    0.17220      0.88715  41.87s\n",
      "    804     0.11438     0.68770    0.16632      0.88437  42.48s\n",
      "    805     0.11154     0.69107    0.16140      0.88448  45.29s\n"
     ]
    },
    {
     "data": {
      "text/plain": [
       "NeuralNet(X_tensor_type=None,\n",
       "     batch_iterator_test=<nolearn.lasagne.base.BatchIterator object at 0x000000000B1AA400>,\n",
       "     batch_iterator_train=<nolearn.lasagne.base.BatchIterator object at 0x000000000B38D9B0>,\n",
       "     check_input=True, custom_scores=None,\n",
       "     layers=[(<class 'lasagne.layers.input.InputLayer'>, {'shape': (None, 1, 28, 28)}), (<class 'lasagne.layers.conv.Conv2DLayer'>, {'filter_size': 5, 'W': <lasagne.init.GlorotUniform object at 0x000000000B852198>, 'num_filters': 30}), (<class 'lasagne.layers.pool.MaxPool2DLayer'>, {'pool_size': 2}), (<c...rs.dense.DenseLayer'>, {'num_units': 10, 'nonlinearity': <function softmax at 0x000000000AC1EB38>})],\n",
       "     loss=None, max_epochs=1000, more_params={},\n",
       "     objective=<function objective at 0x000000000B1ACC18>,\n",
       "     objective_loss_function=<function categorical_crossentropy at 0x000000000AF3C668>,\n",
       "     on_batch_finished=[],\n",
       "     on_epoch_finished=[<__main__.AdjustVariable object at 0x000000000B5FA0F0>, <__main__.AdjustVariable object at 0x000000000B5FA128>, <nolearn.lasagne.handlers.PrintLog instance at 0x000000000B5F4788>],\n",
       "     on_training_finished=[],\n",
       "     on_training_started=[<nolearn.lasagne.handlers.PrintLayerInfo instance at 0x000000000B5F47C8>],\n",
       "     regression=False, scores_train=[], scores_valid=[],\n",
       "     train_split=<nolearn.lasagne.base.TrainSplit object at 0x000000000B1AA438>,\n",
       "     update=<function nesterov_momentum at 0x000000000AF3CDD8>,\n",
       "     update_learning_rate=<TensorType(float32, scalar)>,\n",
       "     update_momentum=<TensorType(float32, scalar)>,\n",
       "     use_label_encoder=False, verbose=1,\n",
       "     y_tensor_type=TensorType(int32, vector))"
      ]
     },
     "execution_count": 23,
     "metadata": {},
     "output_type": "execute_result"
    }
   ],
   "source": [
    "net0.fit(X_train, y_train)\n"
   ]
  },
  {
   "cell_type": "code",
   "execution_count": 24,
   "metadata": {},
   "outputs": [
    {
     "name": "stdout",
     "output_type": "stream",
     "text": [
      "('Tiempo red neuronal convulcionada:', 33286.352852932476, ' sg ')\n"
     ]
    }
   ],
   "source": [
    "fin = timer() - comienzo\n",
    "print(\"Tiempo red neuronal convulcionada:\",fin, \" sg \")"
   ]
  },
  {
   "cell_type": "markdown",
   "metadata": {},
   "source": [
    "### Validación de Red"
   ]
  },
  {
   "cell_type": "code",
   "execution_count": 25,
   "metadata": {
    "collapsed": true
   },
   "outputs": [],
   "source": [
    "X_test = X_test.astype(np.float32)\n",
    "y_test = y_test.astype(np.int32)"
   ]
  },
  {
   "cell_type": "code",
   "execution_count": 26,
   "metadata": {},
   "outputs": [
    {
     "name": "stdout",
     "output_type": "stream",
     "text": [
      "             precision    recall  f1-score   support\n",
      "\n",
      "T-shirt/top       0.77      0.86      0.81      1486\n",
      "    Trouser       0.99      0.97      0.98      1546\n",
      "   Pullover       0.82      0.83      0.82      1499\n",
      "      Dress       0.89      0.88      0.88      1484\n",
      "       Coat       0.80      0.83      0.82      1515\n",
      "     Sandal       0.96      0.97      0.96      1493\n",
      "      Shirt       0.72      0.62      0.66      1505\n",
      "    Sneaker       0.94      0.93      0.94      1476\n",
      "        Bag       0.96      0.96      0.96      1500\n",
      " Ankle boot       0.95      0.96      0.96      1496\n",
      "\n",
      "avg / total       0.88      0.88      0.88     15000\n",
      "\n"
     ]
    }
   ],
   "source": [
    "CLASSES = {\n",
    "    0: \"T-shirt/top\",\n",
    "    1: \"Trouser\",\n",
    "    2: \"Pullover\",\n",
    "    3: \"Dress\",\n",
    "    4: \"Coat\",\n",
    "    5: \"Sandal\",\n",
    "    6: \"Shirt\",\n",
    "    7: \"Sneaker\",\n",
    "    8: \"Bag\",\n",
    "    9: \"Ankle boot\"\n",
    "}\n",
    "\n",
    "classes = [x for x in CLASSES.values()]\n",
    "\n",
    "print(classification_report(y_test, net0.predict(X_test), target_names=classes))"
   ]
  },
  {
   "cell_type": "code",
   "execution_count": 27,
   "metadata": {},
   "outputs": [
    {
     "name": "stdout",
     "output_type": "stream",
     "text": [
      "Normalized confusion matrix\n"
     ]
    },
    {
     "data": {
      "image/png": "[encoded data removed]",
      "text/plain": [
       "<matplotlib.figure.Figure at 0xdd40080>"
      ]
     },
     "metadata": {},
     "output_type": "display_data"
    }
   ],
   "source": [
    "plot_matrix(net0, X_test, y_test)"
   ]
  },
  {
   "cell_type": "code",
   "execution_count": 28,
   "metadata": {},
   "outputs": [
    {
     "data": {
      "text/plain": [
       "<module 'matplotlib.pyplot' from 'C:\\Users\\fdman\\Anaconda3\\envs\\py27\\lib\\site-packages\\matplotlib\\pyplot.pyc'>"
      ]
     },
     "execution_count": 28,
     "metadata": {},
     "output_type": "execute_result"
    },
    {
     "data": {
      "image/png": "[encoded data removed]",
      "text/plain": [
       "<matplotlib.figure.Figure at 0xe1f5f60>"
      ]
     },
     "metadata": {},
     "output_type": "display_data"
    }
   ],
   "source": [
    "visualize.plot_loss(net0)"
   ]
  },
  {
   "cell_type": "code",
   "execution_count": 29,
   "metadata": {},
   "outputs": [
    {
     "name": "stderr",
     "output_type": "stream",
     "text": [
      "C:\\Users\\fdman\\Anaconda3\\envs\\py27\\lib\\site-packages\\matplotlib\\pyplot.py:523: RuntimeWarning: More than 20 figures have been opened. Figures created through the pyplot interface (`matplotlib.pyplot.figure`) are retained until explicitly closed and may consume too much memory. (To control this warning, see the rcParam `figure.max_open_warning`).\n",
      "  max_open_warning, RuntimeWarning)\n"
     ]
    },
    {
     "data": {
      "text/plain": [
       "<module 'matplotlib.pyplot' from 'C:\\Users\\fdman\\Anaconda3\\envs\\py27\\lib\\site-packages\\matplotlib\\pyplot.pyc'>"
      ]
     },
     "execution_count": 29,
     "metadata": {},
     "output_type": "execute_result"
    },
    {
     "data": {
      "image/png": "[encoded data removed]",
      "text/plain": [
       "<matplotlib.figure.Figure at 0xdc2fbe0>"
      ]
     },
     "metadata": {},
     "output_type": "display_data"
    },
    {
     "data": {
      "image/png": "[encoded data removed]",
      "text/plain": [
       "<matplotlib.figure.Figure at 0xded3438>"
      ]
     },
     "metadata": {},
     "output_type": "display_data"
    },
    {
     "data": {
      "image/png": "[encoded data removed]",
      "text/plain": [
       "<matplotlib.figure.Figure at 0xf6c9198>"
      ]
     },
     "metadata": {},
     "output_type": "display_data"
    },
    {
     "data": {
      "image/png": "[encoded data removed]",
      "text/plain": [
       "<matplotlib.figure.Figure at 0xdfce358>"
      ]
     },
     "metadata": {},
     "output_type": "display_data"
    },
    {
     "data": {
      "image/png": "[encoded data removed]",
      "text/plain": [
       "<matplotlib.figure.Figure at 0x11678940>"
      ]
     },
     "metadata": {},
     "output_type": "display_data"
    },
    {
     "data": {
      "image/png": "[encoded data removed]",
      "text/plain": [
       "<matplotlib.figure.Figure at 0x12116d30>"
      ]
     },
     "metadata": {},
     "output_type": "display_data"
    },
    {
     "data": {
      "image/png": "[encoded data removed]",
      "text/plain": [
       "<matplotlib.figure.Figure at 0x12c190f0>"
      ]
     },
     "metadata": {},
     "output_type": "display_data"
    },
    {
     "data": {
      "image/png": "[encoded data removed]",
      "text/plain": [
       "<matplotlib.figure.Figure at 0x1378ec50>"
      ]
     },
     "metadata": {},
     "output_type": "display_data"
    },
    {
     "data": {
      "image/png": "[encoded data removed]",
      "text/plain": [
       "<matplotlib.figure.Figure at 0x1434ad30>"
      ]
     },
     "metadata": {},
     "output_type": "display_data"
    },
    {
     "data": {
      "image/png": "[encoded data removed]",
      "text/plain": [
       "<matplotlib.figure.Figure at 0x1cd98a20>"
      ]
     },
     "metadata": {},
     "output_type": "display_data"
    },
    {
     "data": {
      "image/png": "[encoded data removed]",
      "text/plain": [
       "<matplotlib.figure.Figure at 0x21bcf400>"
      ]
     },
     "metadata": {},
     "output_type": "display_data"
    },
    {
     "data": {
      "image/png": "[encoded data removed]",
      "text/plain": [
       "<matplotlib.figure.Figure at 0x22761940>"
      ]
     },
     "metadata": {},
     "output_type": "display_data"
    },
    {
     "data": {
      "image/png": "[encoded data removed]",
      "text/plain": [
       "<matplotlib.figure.Figure at 0x232b3240>"
      ]
     },
     "metadata": {},
     "output_type": "display_data"
    },
    {
     "data": {
      "image/png": "[encoded data removed]",
      "text/plain": [
       "<matplotlib.figure.Figure at 0x23e16780>"
      ]
     },
     "metadata": {},
     "output_type": "display_data"
    },
    {
     "data": {
      "image/png": "[encoded data removed]",
      "text/plain": [
       "<matplotlib.figure.Figure at 0x249f8c50>"
      ]
     },
     "metadata": {},
     "output_type": "display_data"
    },
    {
     "data": {
      "image/png": "[encoded data removed]",
      "text/plain": [
       "<matplotlib.figure.Figure at 0x255a6240>"
      ]
     },
     "metadata": {},
     "output_type": "display_data"
    },
    {
     "data": {
      "image/png": "[encoded data removed]",
      "text/plain": [
       "<matplotlib.figure.Figure at 0x260eb8d0>"
      ]
     },
     "metadata": {},
     "output_type": "display_data"
    },
    {
     "data": {
      "image/png": "[encoded data removed]",
      "text/plain": [
       "<matplotlib.figure.Figure at 0x26c99550>"
      ]
     },
     "metadata": {},
     "output_type": "display_data"
    },
    {
     "data": {
      "image/png": "[encoded data removed]",
      "text/plain": [
       "<matplotlib.figure.Figure at 0x2756aa90>"
      ]
     },
     "metadata": {},
     "output_type": "display_data"
    },
    {
     "data": {
      "image/png": "[encoded data removed]",
      "text/plain": [
       "<matplotlib.figure.Figure at 0x283adda0>"
      ]
     },
     "metadata": {},
     "output_type": "display_data"
    },
    {
     "data": {
      "image/png": "[encoded data removed]",
      "text/plain": [
       "<matplotlib.figure.Figure at 0x28f662b0>"
      ]
     },
     "metadata": {},
     "output_type": "display_data"
    },
    {
     "data": {
      "image/png": "[encoded data removed]",
      "text/plain": [
       "<matplotlib.figure.Figure at 0x298df320>"
      ]
     },
     "metadata": {},
     "output_type": "display_data"
    },
    {
     "data": {
      "image/png": "[encoded data removed]",
      "text/plain": [
       "<matplotlib.figure.Figure at 0x2a69be80>"
      ]
     },
     "metadata": {},
     "output_type": "display_data"
    },
    {
     "data": {
      "image/png": "[encoded data removed]",
      "text/plain": [
       "<matplotlib.figure.Figure at 0x2b1b7d30>"
      ]
     },
     "metadata": {},
     "output_type": "display_data"
    },
    {
     "data": {
      "image/png": "[encoded data removed]",
      "text/plain": [
       "<matplotlib.figure.Figure at 0x2bd79240>"
      ]
     },
     "metadata": {},
     "output_type": "display_data"
    },
    {
     "data": {
      "image/png": "[encoded data removed]",
      "text/plain": [
       "<matplotlib.figure.Figure at 0x2c91f8d0>"
      ]
     },
     "metadata": {},
     "output_type": "display_data"
    },
    {
     "data": {
      "image/png": "[encoded data removed]",
      "text/plain": [
       "<matplotlib.figure.Figure at 0x2d4f5550>"
      ]
     },
     "metadata": {},
     "output_type": "display_data"
    },
    {
     "data": {
      "image/png": "[encoded data removed]",
      "text/plain": [
       "<matplotlib.figure.Figure at 0x2de5da58>"
      ]
     },
     "metadata": {},
     "output_type": "display_data"
    },
    {
     "data": {
      "image/png": "[encoded data removed]",
      "text/plain": [
       "<matplotlib.figure.Figure at 0x2eb8e240>"
      ]
     },
     "metadata": {},
     "output_type": "display_data"
    },
    {
     "data": {
      "image/png": "[encoded data removed]",
      "text/plain": [
       "<matplotlib.figure.Figure at 0x2f752470>"
      ]
     },
     "metadata": {},
     "output_type": "display_data"
    },
    {
     "data": {
      "image/png": "[encoded data removed]",
      "text/plain": [
       "<matplotlib.figure.Figure at 0x30031748>"
      ]
     },
     "metadata": {},
     "output_type": "display_data"
    },
    {
     "data": {
      "image/png": "[encoded data removed]",
      "text/plain": [
       "<matplotlib.figure.Figure at 0x30f59fd0>"
      ]
     },
     "metadata": {},
     "output_type": "display_data"
    }
   ],
   "source": [
    "X = X_test[6].reshape(-1, 1, 28, 28)\n",
    "\n",
    "visualize.plot_occlusion(net0, X, target=[1])\n",
    "visualize.plot_conv_activity(net0.layers_['conv2d3'], X)\n",
    "visualize.plot_conv_weights(layer=net0.layers_[3])"
   ]
  },
  {
   "cell_type": "code",
   "execution_count": null,
   "metadata": {
    "collapsed": true
   },
   "outputs": [],
   "source": []
  }
 ],
 "metadata": {
  "kernelspec": {
   "display_name": "Python 2",
   "language": "python",
   "name": "python2"
  },
  "language_info": {
   "codemirror_mode": {
    "name": "ipython",
    "version": 2
   },
   "file_extension": ".py",
   "mimetype": "text/x-python",
   "name": "python",
   "nbconvert_exporter": "python",
   "pygments_lexer": "ipython2",
   "version": "2.7.14"
  }
 },
 "nbformat": 4,
 "nbformat_minor": 2
}
