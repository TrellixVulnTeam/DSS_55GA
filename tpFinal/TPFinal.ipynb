{
 "cells": [
  {
   "cell_type": "code",
   "execution_count": 1,
   "metadata": {
    "collapsed": true
   },
   "outputs": [],
   "source": [
    "from sklearn.metrics import classification_report, confusion_matrix\n",
    "from utils import mnist_reader\n",
    "\n",
    "import matplotlib.pyplot as plt\n",
    "import numpy as np\n",
    "import pandas as pd\n",
    "import itertools\n"
   ]
  },
  {
   "cell_type": "code",
   "execution_count": 2,
   "metadata": {
    "collapsed": true
   },
   "outputs": [],
   "source": [
    "\n",
    "def show_image(pixels, label, color =\"gray\"):\n",
    "    pixels = pixels.reshape((28,28))\n",
    "    plt.imshow(pixels, cmap=color)\n",
    "    plt.show()\n",
    "    \n",
    "\n",
    "def plot_confusion_matrix(cm, classes, normalize=False, title='Confusion matrix', cmap=plt.cm.Blues):\n",
    "    \"\"\"\n",
    "    This function prints and plots the confusion matrix.\n",
    "    Normalization can be applied by setting `normalize=True`.\n",
    "    \"\"\"\n",
    "    if normalize:\n",
    "        cm = cm.astype('float') / cm.sum(axis=1)[:, np.newaxis]\n",
    "        print(\"Normalized confusion matrix\")\n",
    "    else:\n",
    "        print('Confusion matrix, without normalization')\n",
    "\n",
    "    print(cm)\n",
    "\n",
    "    plt.imshow(cm, interpolation='nearest', cmap=cmap)\n",
    "    plt.title(title)\n",
    "    plt.colorbar()\n",
    "    tick_marks = np.arange(len(classes))\n",
    "    plt.xticks(tick_marks, classes, rotation=45)\n",
    "    plt.yticks(tick_marks, classes)\n",
    "\n",
    "    fmt = '.2f' if normalize else 'd'\n",
    "    thresh = cm.max() / 2.\n",
    "    for i, j in itertools.product(range(cm.shape[0]), range(cm.shape[1])):\n",
    "        plt.text(j, i, format(cm[i, j], fmt),\n",
    "                 horizontalalignment=\"center\",\n",
    "                 color=\"white\" if cm[i, j] > thresh else \"black\")\n",
    "\n",
    "    plt.tight_layout()\n",
    "    plt.ylabel('True label')\n",
    "    plt.xlabel('Predicted label')\n",
    "    "
   ]
  },
  {
   "cell_type": "code",
   "execution_count": 3,
   "metadata": {
    "collapsed": true
   },
   "outputs": [],
   "source": [
    "\n",
    "X_train, y_train = mnist_reader.load_mnist('data/fashion', kind='train')\n",
    "X_test, y_test = mnist_reader.load_mnist('data/fashion', kind='t10k')\n",
    "\n",
    "class_names = np.unique(y_test)\n"
   ]
  },
  {
   "cell_type": "code",
   "execution_count": null,
   "metadata": {
    "collapsed": true
   },
   "outputs": [],
   "source": [
    "print \"X_train = %d \\n y_train = %d\"%(len(X_train), len(y_train))\n",
    "print \"X_test = %d \\n y_test = %d\"%(len(X_test), len(y_test))"
   ]
  },
  {
   "cell_type": "code",
   "execution_count": 8,
   "metadata": {},
   "outputs": [
    {
     "data": {
      "text/plain": [
       "(60000, 784)"
      ]
     },
     "execution_count": 8,
     "metadata": {},
     "output_type": "execute_result"
    }
   ],
   "source": [
    "X_train.shape"
   ]
  },
  {
   "cell_type": "code",
   "execution_count": 9,
   "metadata": {},
   "outputs": [
    {
     "data": {
      "image/png": "[encoded data removed]",
      "text/plain": [
       "<matplotlib.figure.Figure at 0x2634effbb70>"
      ]
     },
     "metadata": {},
     "output_type": "display_data"
    }
   ],
   "source": [
    "show_image(X_train[0], y_test[0])"
   ]
  },
  {
   "cell_type": "code",
   "execution_count": 9,
   "metadata": {},
   "outputs": [
    {
     "data": {
      "text/plain": [
       "0.10000000000000001"
      ]
     },
     "execution_count": 9,
     "metadata": {},
     "output_type": "execute_result"
    }
   ],
   "source": [
    "from sklearn.dummy import DummyClassifier\n",
    "from sklearn.svm import SVC\n",
    "\n",
    "clf = DummyClassifier(strategy='prior',random_state=0)\n",
    "clf.fit(X_train, y_train)\n",
    "clf.score(X_test, y_test)\n"
   ]
  },
  {
   "cell_type": "markdown",
   "metadata": {},
   "source": [
    "## Greatshearch ##\n",
    "El siguiente link tiene un ejemplo de greatshearch para svc. Se definen distintos parametros y se printea cual de las combinaciones de ellos es la mas optima. Es un procesos costoso que habria que hacer algun dia D:\n",
    "\n",
    "http://scikit-learn.org/0.18/auto_examples/model_selection/grid_search_digits.html"
   ]
  },
  {
   "cell_type": "code",
   "execution_count": 10,
   "metadata": {},
   "outputs": [
    {
     "data": {
      "text/plain": [
       "SVC(C=1.0, cache_size=200, class_weight=None, coef0=0.0,\n",
       "  decision_function_shape='ovr', degree=2, gamma='auto', kernel='poly',\n",
       "  max_iter=-1, probability=False, random_state=None, shrinking=True,\n",
       "  tol=0.001, verbose=False)"
      ]
     },
     "execution_count": 10,
     "metadata": {},
     "output_type": "execute_result"
    }
   ],
   "source": [
    "### Entrenamos la maquina SVM ###\n",
    "from sklearn import svm\n",
    "\n",
    "svc = svm.SVC(kernel='poly', degree=2, C=1.0)\n",
    "svc.fit(X_train, y_train)  \n"
   ]
  },
  {
   "cell_type": "code",
   "execution_count": 8,
   "metadata": {},
   "outputs": [
    {
     "name": "stdout",
     "output_type": "stream",
     "text": [
      "Confusion matrix, without normalization\n",
      "[[844   1  19  19   6   2 102   0   7   0]\n",
      " [  2 981   5   8   3   0   1   0   0   0]\n",
      " [ 32   3 826  12  68   0  58   0   1   0]\n",
      " [ 42   8  23 865  26   0  30   0   6   0]\n",
      " [  3   1  99  40 804   0  48   0   5   0]\n",
      " [  1   0   0   1   0 965   0  16   2  15]\n",
      " [144   1  90  26  69   0 663   0   7   0]\n",
      " [  0   0   0   0   0  20   0 954   0  26]\n",
      " [  7   0   9   4   3   3  10   2 962   0]\n",
      " [  0   1   0   0   0  11   1  25   1 961]]\n"
     ]
    },
    {
     "data": {
      "image/png": "[encoded data removed]",
      "text/plain": [
       "<matplotlib.figure.Figure at 0x7fb7f679b9d0>"
      ]
     },
     "metadata": {},
     "output_type": "display_data"
    },
    {
     "name": "stdout",
     "output_type": "stream",
     "text": [
      "             precision    recall  f1-score   support\n",
      "\n",
      "          0       0.79      0.84      0.81      1000\n",
      "          1       0.98      0.98      0.98      1000\n",
      "          2       0.77      0.83      0.80      1000\n",
      "          3       0.89      0.86      0.88      1000\n",
      "          4       0.82      0.80      0.81      1000\n",
      "          5       0.96      0.96      0.96      1000\n",
      "          6       0.73      0.66      0.69      1000\n",
      "          7       0.96      0.95      0.96      1000\n",
      "          8       0.97      0.96      0.97      1000\n",
      "          9       0.96      0.96      0.96      1000\n",
      "\n",
      "avg / total       0.88      0.88      0.88     10000\n",
      "\n"
     ]
    }
   ],
   "source": [
    "### Clasificamos SVM ###\n",
    "y_predict = svc.predict(X_test)\n",
    "cnf_matrix = confusion_matrix(y_test, y_predict)\n",
    "\n",
    "plt.figure()\n",
    "plot_confusion_matrix(cnf_matrix, classes=class_names,title='Confusion matrix, without normalization')\n",
    "plt.show()\n",
    "\n",
    "print(classification_report(y_test, y_predict))"
   ]
  },
  {
   "cell_type": "code",
   "execution_count": 4,
   "metadata": {},
   "outputs": [
    {
     "data": {
      "text/plain": [
       "RandomForestClassifier(bootstrap=True, class_weight=None, criterion='gini',\n",
       "            max_depth=None, max_features='auto', max_leaf_nodes=None,\n",
       "            min_impurity_decrease=0.0, min_impurity_split=None,\n",
       "            min_samples_leaf=1, min_samples_split=2,\n",
       "            min_weight_fraction_leaf=0.0, n_estimators=10, n_jobs=1,\n",
       "            oob_score=False, random_state=None, verbose=0,\n",
       "            warm_start=False)"
      ]
     },
     "execution_count": 4,
     "metadata": {},
     "output_type": "execute_result"
    }
   ],
   "source": [
    "### Entrenamos la maquina RandomForest ###\n",
    "from sklearn.ensemble import RandomForestClassifier\n",
    "\n",
    "rf = RandomForestClassifier() # Creando el modelo\n",
    "rf.fit(X_train, y_train) # Ajustando el modelo\n"
   ]
  },
  {
   "cell_type": "code",
   "execution_count": 5,
   "metadata": {},
   "outputs": [
    {
     "name": "stdout",
     "output_type": "stream",
     "text": [
      "Confusion matrix, without normalization\n",
      "[[841   0  18  32   2   1  96   0  10   0]\n",
      " [  9 957   6  20   2   0   5   0   1   0]\n",
      " [ 13   0 799  14 103   0  68   0   3   0]\n",
      " [ 34   8  20 887  23   0  26   0   2   0]\n",
      " [  5   2 147  50 750   0  44   0   2   0]\n",
      " [  0   0   0   2   0 955   0  34   1   8]\n",
      " [187   1 137  30  93   0 534   0  18   0]\n",
      " [  0   0   0   0   0  27   0 924   0  49]\n",
      " [  1   2  12   4   4   3   7   6 961   0]\n",
      " [  1   0   1   0   0  14   0  44   1 939]]\n"
     ]
    },
    {
     "data": {
      "image/png": "[encoded data removed]",
      "text/plain": [
       "<matplotlib.figure.Figure at 0x7fb7fbcbd490>"
      ]
     },
     "metadata": {},
     "output_type": "display_data"
    },
    {
     "name": "stdout",
     "output_type": "stream",
     "text": [
      "             precision    recall  f1-score   support\n",
      "\n",
      "          0       0.77      0.84      0.80      1000\n",
      "          1       0.99      0.96      0.97      1000\n",
      "          2       0.70      0.80      0.75      1000\n",
      "          3       0.85      0.89      0.87      1000\n",
      "          4       0.77      0.75      0.76      1000\n",
      "          5       0.95      0.95      0.95      1000\n",
      "          6       0.68      0.53      0.60      1000\n",
      "          7       0.92      0.92      0.92      1000\n",
      "          8       0.96      0.96      0.96      1000\n",
      "          9       0.94      0.94      0.94      1000\n",
      "\n",
      "avg / total       0.85      0.85      0.85     10000\n",
      "\n"
     ]
    }
   ],
   "source": [
    "### Clasificamos RandomForest ###\n",
    "predict = rf.predict(X_test)\n",
    "cnf_matrix = confusion_matrix(y_test, predict)\n",
    "\n",
    "plt.figure()\n",
    "plot_confusion_matrix(cnf_matrix, classes=class_names,title='Confusion matrix, without normalization')\n",
    "plt.show()\n",
    "\n",
    "print(classification_report(y_test, predict, class_names))"
   ]
  },
  {
   "cell_type": "code",
   "execution_count": null,
   "metadata": {
    "collapsed": true
   },
   "outputs": [],
   "source": [
    "# MEDIMOS PREDICCION DE SVC\n",
    "from sklearn.metrics import f1_score\n",
    "\n",
    "f1_score(y_test, y_predict, average='macro')  \n",
    "f1_score(y_test, y_predict, average='micro')  \n",
    "f1_score(y_test, y_predict, average='weighted')  \n",
    "f1_score(y_test, y_predict, average=None)"
   ]
  },
  {
   "cell_type": "code",
   "execution_count": 4,
   "metadata": {
    "collapsed": true
   },
   "outputs": [],
   "source": [
    "from sklearn.neural_network import MLPClassifier\n",
    "from timeit import default_timer as timer\n",
    "redNeuronal = MLPClassifier(max_iter=1000, hidden_layer_sizes=(100,250,500,1000))\n",
    "#La cantidad de iteraciones = 1000\n",
    "#Capas ocultas = [10,25,50,100]"
   ]
  },
  {
   "cell_type": "code",
   "execution_count": 46,
   "metadata": {},
   "outputs": [
    {
     "name": "stdout",
     "output_type": "stream",
     "text": [
      "Tiempo red neuronal: 1963.616588751342  segundos\n"
     ]
    }
   ],
   "source": [
    "comienzo = timer()\n",
    "redNeuronal.fit(X_train, y_train)\n",
    "fin = timer() - comienzo\n",
    "print(\"Tiempo red neuronal:\",fin, \" segundos\")"
   ]
  },
  {
   "cell_type": "code",
   "execution_count": 47,
   "metadata": {},
   "outputs": [
    {
     "name": "stdout",
     "output_type": "stream",
     "text": [
      "Entrenado\n",
      "0.8719\n"
     ]
    }
   ],
   "source": [
    "indicador = redNeuronal.score(X_test, y_test)\n",
    "if indicador > 0.5 and indicador < 1:\n",
    "    print(\"Entrenado\")\n",
    "else:\n",
    "    if indicador == 1.0:\n",
    "        print(\"Sobreentrenado\")\n",
    "    else:\n",
    "        print(\"Falta entrenamiento\")\n",
    "print (indicador)"
   ]
  },
  {
   "cell_type": "code",
   "execution_count": 48,
   "metadata": {},
   "outputs": [
    {
     "name": "stdout",
     "output_type": "stream",
     "text": [
      "Confusion matrix, without normalization\n",
      "[[852   1  17  16   3   2 102   0   7   0]\n",
      " [ 11 967   3  12   5   0   1   0   1   0]\n",
      " [ 25   0 735   9 115   0 115   0   1   0]\n",
      " [ 28  11   6 870  47   1  30   0   6   1]\n",
      " [  2   0  69  26 772   1 128   0   2   0]\n",
      " [  1   0   0   0   0 974   0  16   1   8]\n",
      " [159   3  70  15  52   0 697   0   4   0]\n",
      " [  0   0   0   0   0  23   0 962   0  15]\n",
      " [ 11   0   9   4   6   4   7   4 955   0]\n",
      " [  1   0   0   0   0  14   0  49   1 935]]\n"
     ]
    },
    {
     "data": {
      "image/png": "[encoded data removed]",
      "text/plain": [
       "<matplotlib.figure.Figure at 0x20f96f93b38>"
      ]
     },
     "metadata": {},
     "output_type": "display_data"
    },
    {
     "name": "stdout",
     "output_type": "stream",
     "text": [
      "             precision    recall  f1-score   support\n",
      "\n",
      "          0       0.78      0.85      0.82      1000\n",
      "          1       0.98      0.97      0.98      1000\n",
      "          2       0.81      0.73      0.77      1000\n",
      "          3       0.91      0.87      0.89      1000\n",
      "          4       0.77      0.77      0.77      1000\n",
      "          5       0.96      0.97      0.96      1000\n",
      "          6       0.65      0.70      0.67      1000\n",
      "          7       0.93      0.96      0.95      1000\n",
      "          8       0.98      0.95      0.97      1000\n",
      "          9       0.97      0.94      0.95      1000\n",
      "\n",
      "avg / total       0.87      0.87      0.87     10000\n",
      "\n"
     ]
    }
   ],
   "source": [
    "predict = redNeuronal.predict(X_test)\n",
    "cnf_matrix = confusion_matrix(y_test, predict)\n",
    "\n",
    "plt.figure()\n",
    "plot_confusion_matrix(cnf_matrix, classes=class_names,title='Confusion matrix red neuronal, sin normalization')\n",
    "plt.show()\n",
    "\n",
    "print(classification_report(y_test, predict, class_names))"
   ]
  },
  {
   "cell_type": "code",
   "execution_count": 5,
   "metadata": {
    "collapsed": true
   },
   "outputs": [],
   "source": [
    "from lasagne.layers import InputLayer, Conv2DLayer, DropoutLayer, MaxPool2DLayer, DenseLayer\n",
    "from lasagne.nonlinearities import rectify"
   ]
  },
  {
   "cell_type": "code",
   "execution_count": 6,
   "metadata": {},
   "outputs": [
    {
     "name": "stderr",
     "output_type": "stream",
     "text": [
      "C:\\Users\\fdman\\Anaconda3\\lib\\site-packages\\sklearn\\cross_validation.py:41: DeprecationWarning: This module was deprecated in version 0.18 in favor of the model_selection module into which all the refactored classes and functions are moved. Also note that the interface of the new CV iterators are different from that of this module. This module will be removed in 0.20.\n",
      "  \"This module will be removed in 0.20.\", DeprecationWarning)\n"
     ]
    }
   ],
   "source": [
    "import theano\n",
    "import lasagne\n",
    "from lasagne.updates import nesterov_momentum\n",
    "from nolearn.lasagne import NeuralNet\n",
    "from lasagne.layers import InputLayer, Conv2DLayer, DropoutLayer,MaxPool2DLayer, DenseLayer\n",
    "from lasagne.objectives import categorical_crossentropy\n",
    "from nolearn.lasagne import BatchIterator"
   ]
  },
  {
   "cell_type": "code",
   "execution_count": 7,
   "metadata": {
    "collapsed": true
   },
   "outputs": [],
   "source": [
    "def create_net(max_epochs):\n",
    "    return NeuralNet(\n",
    "        layers=[\n",
    "                (InputLayer, {'shape': (None, 1, 28, 28)}), #cantidad, canal(monocromatico),col,filas\n",
    "               (Conv2DLayer, {'num_filters': 7, 'filter_size': 4, 'W': lasagne.init.GlorotUniform()}),\n",
    "                (MaxPool2DLayer, {'pool_size': 2}),\n",
    "                #(Conv2DLayer, {'num_filters': 16, 'filter_size': 1, 'W': lasagne.init.GlorotUniform()}),\n",
    "                #(MaxPool2DLayer, {'pool_size': 2}),\n",
    "                (DenseLayer, {'num_units': 3, 'nonlinearity': lasagne.nonlinearities.softmax}),\n",
    "                #(DropoutLayer, {'p': 0.5}),\n",
    "                #(DenseLayer, {'num_units': 3, 'nonlinearity': lasagne.nonlinearities.softmax}),\n",
    "\n",
    "        ],\n",
    "        update=nesterov_momentum,\n",
    "        update_learning_rate=0.03,\n",
    "        update_momentum=0.9,\n",
    "        regression=False,\n",
    "        objective_loss_function=categorical_crossentropy,\n",
    "        #batch_iterator_train=BatchIterator(batch_size=512),\n",
    "        #on_epoch_finished=[\n",
    "        #    AdjustVariable('update_learning_rate', start=0.03, stop=0.001),\n",
    "        #    AdjustVariable('update_momentum', start=0.9, stop=0.9999)  # ,\n",
    "        #],\n",
    "        max_epochs=max_epochs,\n",
    "        verbose=1)"
   ]
  },
  {
   "cell_type": "code",
   "execution_count": 8,
   "metadata": {},
   "outputs": [
    {
     "name": "stdout",
     "output_type": "stream",
     "text": [
      "(60000, 784)\n",
      "(60000,)\n",
      "(60000, 1, 28, 28)\n",
      "(28, 28)\n"
     ]
    },
    {
     "data": {
      "image/png": "[encoded data removed]",
      "text/plain": [
       "<matplotlib.figure.Figure at 0x208598733c8>"
      ]
     },
     "metadata": {},
     "output_type": "display_data"
    }
   ],
   "source": [
    "\n",
    "from sklearn.cross_validation import train_test_split\n",
    "\n",
    "\n",
    "print (X_train.shape)\n",
    "print (y_train.shape)\n",
    "x = X_train.reshape(60000, 1, 28, 28)\n",
    "print(x.shape)\n",
    "print(x[0,0].shape)\n",
    "show_image(x[0,0],'hola')"
   ]
  },
  {
   "cell_type": "code",
   "execution_count": 15,
   "metadata": {
    "scrolled": true
   },
   "outputs": [
    {
     "name": "stdout",
     "output_type": "stream",
     "text": [
      "# Neural Network with 14245 learnable parameters\n",
      "\n",
      "## Layer information\n",
      "\n",
      "  #  name        size\n",
      "---  ----------  -------\n",
      "  0  input0      1x28x28\n",
      "  1  conv2d1     7x25x25\n",
      "  2  maxpool2d2  7x12x12\n",
      "  3  dense3      14\n",
      "\n",
      "  epoch    trn loss    val loss    trn/val    valid acc  dur\n",
      "-------  ----------  ----------  ---------  -----------  ------\n",
      "      1  \u001b[36m2440.98854\u001b[0m  \u001b[32m1402.57605\u001b[0m    1.74036      0.15858  10.26s\n",
      "      2  \u001b[36m1286.59236\u001b[0m  \u001b[32m1191.65546\u001b[0m    1.07967      0.25242  12.19s\n",
      "      3  \u001b[36m1121.59236\u001b[0m  \u001b[32m1066.23482\u001b[0m    1.05192      0.27508  10.48s\n",
      "      4  \u001b[36m1012.52595\u001b[0m   \u001b[32m969.34426\u001b[0m    1.04455      0.28142  11.18s\n",
      "      5   \u001b[36m925.63231\u001b[0m   \u001b[32m891.96985\u001b[0m    1.03774      0.30908  11.73s\n",
      "      6   \u001b[36m854.13203\u001b[0m   \u001b[32m825.84360\u001b[0m    1.03425      0.32067  11.20s\n",
      "      7   \u001b[36m793.97960\u001b[0m   \u001b[32m772.28111\u001b[0m    1.02810      0.37192  12.64s\n",
      "      8   \u001b[36m751.07422\u001b[0m   \u001b[32m738.93193\u001b[0m    1.01643      0.39292  12.90s\n",
      "      9   \u001b[36m719.70024\u001b[0m   \u001b[32m709.00877\u001b[0m    1.01508      0.39242  10.85s\n",
      "     10   \u001b[36m691.49827\u001b[0m   \u001b[32m682.39928\u001b[0m    1.01333      0.40317  11.83s\n",
      "Tiempo red neuronal convulcionada: 116.26465194990612  segundos con epoch: 10\n"
     ]
    }
   ],
   "source": [
    "epoch = 10\n",
    "net = create_net(epoch)\n",
    "comienzo = timer()\n",
    "net.fit(x, y_train)\n",
    "fin = timer() - comienzo\n",
    "print(\"Tiempo red neuronal convulcionada:\",fin, \" segundos con epoch:\",epoch)\n"
   ]
  },
  {
   "cell_type": "code",
   "execution_count": 10,
   "metadata": {
    "collapsed": true
   },
   "outputs": [],
   "source": [
    "from sklearn.metrics import classification_report\n",
    "from sklearn.metrics import confusion_matrix\n",
    "from nolearn.lasagne import visualize"
   ]
  },
  {
   "cell_type": "code",
   "execution_count": 11,
   "metadata": {},
   "outputs": [
    {
     "name": "stdout",
     "output_type": "stream",
     "text": [
      "(10000,)\n"
     ]
    }
   ],
   "source": [
    "X_test.shape\n",
    "XTEST = X_test.reshape(10000,1,28,28)\n",
    "XTEST.shape\n",
    "print(y_test.shape)"
   ]
  },
  {
   "cell_type": "code",
   "execution_count": 12,
   "metadata": {},
   "outputs": [
    {
     "name": "stdout",
     "output_type": "stream",
     "text": [
      "             precision    recall  f1-score   support\n",
      "\n",
      "          0       0.02      0.01      0.01      1000\n",
      "          1       0.12      0.19      0.15      1000\n",
      "          2       0.24      0.28      0.26      1000\n",
      "          3       0.19      0.30      0.23      1000\n",
      "          4       0.00      0.00      0.00      1000\n",
      "          5       0.03      0.02      0.02      1000\n",
      "          6       0.13      0.52      0.21      1000\n",
      "          7       0.00      0.00      0.00      1000\n",
      "          8       0.00      0.00      0.00      1000\n",
      "          9       0.23      0.17      0.19      1000\n",
      "\n",
      "avg / total       0.10      0.15      0.11     10000\n",
      "\n"
     ]
    },
    {
     "name": "stderr",
     "output_type": "stream",
     "text": [
      "C:\\Users\\fdman\\Anaconda3\\lib\\site-packages\\sklearn\\metrics\\classification.py:1135: UndefinedMetricWarning: Precision and F-score are ill-defined and being set to 0.0 in labels with no predicted samples.\n",
      "  'precision', 'predicted', average, warn_for)\n"
     ]
    }
   ],
   "source": [
    "print (classification_report(y_test, net.predict(XTEST)))\n"
   ]
  },
  {
   "cell_type": "code",
   "execution_count": 13,
   "metadata": {
    "collapsed": true
   },
   "outputs": [],
   "source": [
    "import matplotlib\n",
    "import matplotlib.pyplot as plt\n",
    "import matplotlib.cm as cm"
   ]
  },
  {
   "cell_type": "code",
   "execution_count": 16,
   "metadata": {},
   "outputs": [
    {
     "data": {
      "text/plain": [
       "<module 'matplotlib.pyplot' from 'C:\\\\Users\\\\fdman\\\\Anaconda3\\\\lib\\\\site-packages\\\\matplotlib\\\\pyplot.py'>"
      ]
     },
     "execution_count": 16,
     "metadata": {},
     "output_type": "execute_result"
    },
    {
     "data": {
      "image/png": "[encoded data removed]",
      "text/plain": [
       "<matplotlib.figure.Figure at 0x2084fc4fdd8>"
      ]
     },
     "metadata": {},
     "output_type": "display_data"
    }
   ],
   "source": [
    "%matplotlib inline\n",
    "visualize.plot_loss(net)"
   ]
  }
 ],
 "metadata": {
  "kernelspec": {
   "display_name": "Python 3",
   "language": "python",
   "name": "python3"
  },
  "language_info": {
   "codemirror_mode": {
    "name": "ipython",
    "version": 3
   },
   "file_extension": ".py",
   "mimetype": "text/x-python",
   "name": "python",
   "nbconvert_exporter": "python",
   "pygments_lexer": "ipython3",
   "version": "3.6.1"
  }
 },
 "nbformat": 4,
 "nbformat_minor": 2
}
