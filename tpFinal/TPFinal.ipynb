{
 "cells": [
  {
   "cell_type": "code",
   "execution_count": 1,
   "metadata": {
    "collapsed": true
   },
   "outputs": [],
   "source": [
    "from sklearn.metrics import classification_report, confusion_matrix\n",
    "from utils import mnist_reader\n",
    "\n",
    "import matplotlib.pyplot as plt\n",
    "import numpy as np\n",
    "import pandas as pd\n",
    "import itertools\n"
   ]
  },
  {
   "cell_type": "code",
   "execution_count": 2,
   "metadata": {
    "collapsed": true
   },
   "outputs": [],
   "source": [
    "\n",
    "def show_image(pixels, label, color =\"gray\"):\n",
    "    pixels = pixels.reshape((28,28))\n",
    "    plt.imshow(pixels, cmap=color)\n",
    "    plt.show()\n",
    "    \n",
    "\n",
    "def plot_confusion_matrix(cm, classes, normalize=False, title='Confusion matrix', cmap=plt.cm.Blues):\n",
    "    \"\"\"\n",
    "    This function prints and plots the confusion matrix.\n",
    "    Normalization can be applied by setting `normalize=True`.\n",
    "    \"\"\"\n",
    "    if normalize:\n",
    "        cm = cm.astype('float') / cm.sum(axis=1)[:, np.newaxis]\n",
    "        print(\"Normalized confusion matrix\")\n",
    "    else:\n",
    "        print('Confusion matrix, without normalization')\n",
    "\n",
    "    print(cm)\n",
    "\n",
    "    plt.imshow(cm, interpolation='nearest', cmap=cmap)\n",
    "    plt.title(title)\n",
    "    plt.colorbar()\n",
    "    tick_marks = np.arange(len(classes))\n",
    "    plt.xticks(tick_marks, classes, rotation=45)\n",
    "    plt.yticks(tick_marks, classes)\n",
    "\n",
    "    fmt = '.2f' if normalize else 'd'\n",
    "    thresh = cm.max() / 2.\n",
    "    for i, j in itertools.product(range(cm.shape[0]), range(cm.shape[1])):\n",
    "        plt.text(j, i, format(cm[i, j], fmt),\n",
    "                 horizontalalignment=\"center\",\n",
    "                 color=\"white\" if cm[i, j] > thresh else \"black\")\n",
    "\n",
    "    plt.tight_layout()\n",
    "    plt.ylabel('True label')\n",
    "    plt.xlabel('Predicted label')\n",
    "    "
   ]
  },
  {
   "cell_type": "code",
   "execution_count": 3,
   "metadata": {
    "collapsed": true
   },
   "outputs": [],
   "source": [
    "\n",
    "X_train, y_train = mnist_reader.load_mnist('data/fashion', kind='train')\n",
    "X_test, y_test = mnist_reader.load_mnist('data/fashion', kind='t10k')\n",
    "\n",
    "class_names = np.unique(y_test)\n"
   ]
  },
  {
   "cell_type": "code",
   "execution_count": null,
   "metadata": {
    "collapsed": true
   },
   "outputs": [],
   "source": [
    "print \"X_train = %d \\n y_train = %d\"%(len(X_train), len(y_train))\n",
    "print \"X_test = %d \\n y_test = %d\"%(len(X_test), len(y_test))"
   ]
  },
  {
   "cell_type": "code",
   "execution_count": null,
   "metadata": {},
   "outputs": [],
   "source": [
    "X_train.shape"
   ]
  },
  {
   "cell_type": "code",
   "execution_count": null,
   "metadata": {},
   "outputs": [],
   "source": [
    "show_image(X_train[0], y_test[0])"
   ]
  },
  {
   "cell_type": "code",
   "execution_count": null,
   "metadata": {},
   "outputs": [],
   "source": [
    "from sklearn.dummy import DummyClassifier\n",
    "from sklearn.svm import SVC\n",
    "\n",
    "clf = DummyClassifier(strategy='prior',random_state=0)\n",
    "clf.fit(X_train, y_train)\n",
    "clf.score(X_test, y_test)\n"
   ]
  },
  {
   "cell_type": "markdown",
   "metadata": {},
   "source": [
    "## Greatshearch ##\n",
    "El siguiente link tiene un ejemplo de greatshearch para svc. Se definen distintos parametros y se printea cual de las combinaciones de ellos es la mas optima. Es un procesos costoso que habria que hacer algun dia D:\n",
    "\n",
    "http://scikit-learn.org/0.18/auto_examples/model_selection/grid_search_digits.html"
   ]
  },
  {
   "cell_type": "code",
   "execution_count": null,
   "metadata": {},
   "outputs": [],
   "source": [
    "### Entrenamos la maquina SVM ###\n",
    "from sklearn import svm\n",
    "\n",
    "svc = svm.SVC(kernel='poly', degree=2, C=1.0)\n",
    "svc.fit(X_train, y_train)  \n"
   ]
  },
  {
   "cell_type": "code",
   "execution_count": null,
   "metadata": {},
   "outputs": [],
   "source": [
    "### Clasificamos SVM ###\n",
    "y_predict = svc.predict(X_test)\n",
    "cnf_matrix = confusion_matrix(y_test, y_predict)\n",
    "\n",
    "plt.figure()\n",
    "plot_confusion_matrix(cnf_matrix, classes=class_names,title='Confusion matrix, without normalization')\n",
    "plt.show()\n",
    "\n",
    "print(classification_report(y_test, y_predict))"
   ]
  },
  {
   "cell_type": "code",
   "execution_count": null,
   "metadata": {},
   "outputs": [],
   "source": [
    "### Entrenamos la maquina RandomForest ###\n",
    "from sklearn.ensemble import RandomForestClassifier\n",
    "\n",
    "rf = RandomForestClassifier() # Creando el modelo\n",
    "rf.fit(X_train, y_train) # Ajustando el modelo\n"
   ]
  },
  {
   "cell_type": "code",
   "execution_count": null,
   "metadata": {},
   "outputs": [],
   "source": [
    "### Clasificamos RandomForest ###\n",
    "predict = rf.predict(X_test)\n",
    "cnf_matrix = confusion_matrix(y_test, predict)\n",
    "\n",
    "plt.figure()\n",
    "plot_confusion_matrix(cnf_matrix, classes=class_names,title='Confusion matrix, without normalization')\n",
    "plt.show()\n",
    "\n",
    "print(classification_report(y_test, predict, class_names))"
   ]
  },
  {
   "cell_type": "code",
   "execution_count": null,
   "metadata": {
    "collapsed": true
   },
   "outputs": [],
   "source": [
    "# MEDIMOS PREDICCION DE SVC\n",
    "from sklearn.metrics import f1_score\n",
    "\n",
    "f1_score(y_test, y_predict, average='macro')  \n",
    "f1_score(y_test, y_predict, average='micro')  \n",
    "f1_score(y_test, y_predict, average='weighted')  \n",
    "f1_score(y_test, y_predict, average=None)"
   ]
  },
  {
   "cell_type": "code",
   "execution_count": 4,
   "metadata": {
    "collapsed": true
   },
   "outputs": [],
   "source": [
    "from sklearn.neural_network import MLPClassifier\n",
    "from timeit import default_timer as timer\n",
    "redNeuronal = MLPClassifier(max_iter=1000, hidden_layer_sizes=(100,250,500,1000))\n",
    "#La cantidad de iteraciones = 1000\n",
    "#Capas ocultas = [10,25,50,100]"
   ]
  },
  {
   "cell_type": "code",
   "execution_count": null,
   "metadata": {},
   "outputs": [],
   "source": [
    "comienzo = timer()\n",
    "redNeuronal.fit(X_train, y_train)\n",
    "fin = timer() - comienzo\n",
    "print(\"Tiempo red neuronal:\",fin, \" segundos\")"
   ]
  },
  {
   "cell_type": "code",
   "execution_count": null,
   "metadata": {},
   "outputs": [],
   "source": [
    "indicador = redNeuronal.score(X_test, y_test)\n",
    "if indicador > 0.5 and indicador < 1:\n",
    "    print(\"Entrenado\")\n",
    "else:\n",
    "    if indicador == 1.0:\n",
    "        print(\"Sobreentrenado\")\n",
    "    else:\n",
    "        print(\"Falta entrenamiento\")\n",
    "print (indicador)"
   ]
  },
  {
   "cell_type": "code",
   "execution_count": null,
   "metadata": {},
   "outputs": [],
   "source": [
    "predict = redNeuronal.predict(X_test)\n",
    "cnf_matrix = confusion_matrix(y_test, predict)\n",
    "\n",
    "plt.figure()\n",
    "plot_confusion_matrix(cnf_matrix, classes=class_names,title='Confusion matrix red neuronal, sin normalization')\n",
    "plt.show()\n",
    "\n",
    "print(classification_report(y_test, predict, class_names))"
   ]
  },
  {
   "cell_type": "code",
   "execution_count": 5,
   "metadata": {
    "collapsed": true
   },
   "outputs": [],
   "source": [
    "from lasagne.layers import InputLayer, Conv2DLayer, DropoutLayer, MaxPool2DLayer, DenseLayer\n",
    "from lasagne.nonlinearities import rectify"
   ]
  },
  {
   "cell_type": "code",
   "execution_count": 6,
   "metadata": {},
   "outputs": [
    {
     "name": "stderr",
     "output_type": "stream",
     "text": [
      "C:\\Users\\fdman\\Anaconda3\\lib\\site-packages\\sklearn\\cross_validation.py:41: DeprecationWarning: This module was deprecated in version 0.18 in favor of the model_selection module into which all the refactored classes and functions are moved. Also note that the interface of the new CV iterators are different from that of this module. This module will be removed in 0.20.\n",
      "  \"This module will be removed in 0.20.\", DeprecationWarning)\n"
     ]
    }
   ],
   "source": [
    "import theano\n",
    "import lasagne\n",
    "from lasagne.updates import nesterov_momentum\n",
    "from nolearn.lasagne import NeuralNet\n",
    "from lasagne.layers import InputLayer, Conv2DLayer, DropoutLayer,MaxPool2DLayer, DenseLayer\n",
    "from lasagne.objectives import categorical_crossentropy\n",
    "from nolearn.lasagne import BatchIterator"
   ]
  },
  {
   "cell_type": "code",
   "execution_count": 7,
   "metadata": {
    "collapsed": true
   },
   "outputs": [],
   "source": [
    "def create_net(max_epochs):\n",
    "    return NeuralNet(\n",
    "        layers=[\n",
    "                (InputLayer, {'shape': (None, 1, 28, 28)}), #cantidad, canal(monocromatico),col,filas\n",
    "               (Conv2DLayer, {'num_filters':10, 'filter_size': 3, 'W': lasagne.init.GlorotUniform()}),\n",
    "                (MaxPool2DLayer, {'pool_size': 2}),\n",
    "                (Conv2DLayer, {'num_filters':5, 'filter_size': 2, 'W': lasagne.init.GlorotUniform()}),\n",
    "                (MaxPool2DLayer, {'pool_size': 2}),\n",
    "                (DenseLayer, {'num_units': 1000, 'nonlinearity': lasagne.nonlinearities.rectify}),\n",
    "                (DropoutLayer, {'p': 0.5}),\n",
    "                (DenseLayer, {'num_units': 10, 'nonlinearity': lasagne.nonlinearities.softmax}),\n",
    "\n",
    "                \n",
    "\n",
    "        ],\n",
    "        update=nesterov_momentum,\n",
    "        update_learning_rate=0.03,\n",
    "        update_momentum=0.9,\n",
    "        regression=False,\n",
    "        objective_loss_function=categorical_crossentropy,\n",
    "        #batch_iterator_train=BatchIterator(batch_size=512),\n",
    "        #on_epoch_finished=[\n",
    "        #    AdjustVariable('update_learning_rate', start=0.03, stop=0.001),\n",
    "        #    AdjustVariable('update_momentum', start=0.9, stop=0.9999)  # ,\n",
    "        #],\n",
    "        max_epochs=max_epochs,\n",
    "        verbose=1)"
   ]
  },
  {
   "cell_type": "code",
   "execution_count": 8,
   "metadata": {},
   "outputs": [
    {
     "name": "stdout",
     "output_type": "stream",
     "text": [
      "(60000, 784)\n",
      "(60000,)\n",
      "(60000, 1, 28, 28)\n",
      "(28, 28)\n"
     ]
    },
    {
     "data": {
      "image/png": "[encoded data removed]",
      "text/plain": [
       "<matplotlib.figure.Figure at 0x1ee4ee87320>"
      ]
     },
     "metadata": {},
     "output_type": "display_data"
    }
   ],
   "source": [
    "\n",
    "from sklearn.cross_validation import train_test_split\n",
    "\n",
    "\n",
    "print (X_train.shape)\n",
    "print (y_train.shape)\n",
    "x = X_train.reshape(60000, 1, 28, 28)\n",
    "print(x.shape)\n",
    "print(x[0,0].shape)\n",
    "show_image(x[0,0],'hola')"
   ]
  },
  {
   "cell_type": "markdown",
   "metadata": {},
   "source": [
    "# RED NEURONAL CONVULCIONADA"
   ]
  },
  {
   "cell_type": "code",
   "execution_count": 10,
   "metadata": {
    "scrolled": true
   },
   "outputs": [
    {
     "name": "stdout",
     "output_type": "stream",
     "text": [
      "# Neural Network with 191315 learnable parameters\n",
      "\n",
      "## Layer information\n",
      "\n",
      "  #  name        size\n",
      "---  ----------  --------\n",
      "  0  input0      1x28x28\n",
      "  1  conv2d1     10x26x26\n",
      "  2  maxpool2d2  10x13x13\n",
      "  3  conv2d3     5x12x12\n",
      "  4  maxpool2d4  5x6x6\n",
      "  5  dense5      1000\n",
      "  6  dropout6    1000\n",
      "  7  dense7      10\n",
      "\n",
      "  epoch    trn loss    val loss     trn/val    valid acc  dur\n",
      "-------  ----------  ----------  ----------  -----------  ------\n",
      "      1  \u001b[36m2234.56476\u001b[0m     \u001b[32m1.11293\u001b[0m  2007.82858      0.56083  21.50s\n",
      "      2     \u001b[36m1.31625\u001b[0m     \u001b[32m1.08114\u001b[0m    1.21747      0.57625  21.78s\n",
      "      3     \u001b[36m1.27732\u001b[0m     1.08295    1.17949      0.56300  22.50s\n",
      "      4     \u001b[36m1.25630\u001b[0m     \u001b[32m1.04512\u001b[0m    1.20205      0.58975  22.65s\n",
      "      5     \u001b[36m1.24203\u001b[0m     \u001b[32m1.03755\u001b[0m    1.19708      0.57925  22.58s\n",
      "      6     \u001b[36m1.23835\u001b[0m     1.04070    1.18992      0.58008  22.97s\n",
      "      7     \u001b[36m1.22889\u001b[0m     \u001b[32m1.02424\u001b[0m    1.19980      0.59408  23.34s\n",
      "      8     \u001b[36m1.21125\u001b[0m     1.03220    1.17347      0.59258  23.82s\n",
      "      9     1.21258     \u001b[32m1.00015\u001b[0m    1.21240      0.59500  23.50s\n",
      "     10     \u001b[36m1.20907\u001b[0m     1.00816    1.19929      0.58600  22.72s\n",
      "     11     \u001b[36m1.20562\u001b[0m     \u001b[32m0.97725\u001b[0m    1.23369      0.62458  22.57s\n",
      "     12     \u001b[36m1.19964\u001b[0m     \u001b[32m0.97400\u001b[0m    1.23166      0.60192  22.63s\n",
      "     13     1.21551     1.00721    1.20681      0.60892  22.56s\n",
      "     14     1.20783     \u001b[32m0.96697\u001b[0m    1.24909      0.63358  22.52s\n",
      "     15     1.20940     0.97029    1.24643      0.62883  23.31s\n",
      "     16     1.20582     0.97939    1.23120      0.61767  22.51s\n",
      "     17     1.20307     0.98640    1.21966      0.62158  22.45s\n",
      "     18     1.21088     \u001b[32m0.93417\u001b[0m    1.29621      0.63800  22.61s\n",
      "     19     \u001b[36m1.19496\u001b[0m     \u001b[32m0.92827\u001b[0m    1.28730      0.63575  22.66s\n",
      "     20     \u001b[36m1.18195\u001b[0m     0.93680    1.26169      0.64642  22.76s\n",
      "     21     1.19057     0.95109    1.25180      0.61933  22.53s\n",
      "     22     1.18600     0.94317    1.25745      0.63950  22.56s\n",
      "     23     \u001b[36m1.17871\u001b[0m     0.98445    1.19733      0.62308  23.81s\n",
      "     24     1.18688     \u001b[32m0.92253\u001b[0m    1.28655      0.64717  22.94s\n",
      "     25     \u001b[36m1.16057\u001b[0m     0.93515    1.24105      0.62575  22.69s\n",
      "     26     1.16237     0.94875    1.22517      0.62517  22.98s\n",
      "     27     1.16998     \u001b[32m0.91617\u001b[0m    1.27704      0.64683  23.38s\n",
      "     28     \u001b[36m1.15595\u001b[0m     \u001b[32m0.90626\u001b[0m    1.27552      0.65017  23.43s\n",
      "     29     \u001b[36m1.15446\u001b[0m     0.91448    1.26241      0.64367  22.84s\n",
      "     30     \u001b[36m1.14864\u001b[0m     0.91943    1.24930      0.63400  22.47s\n",
      "     31     1.15229     0.95683    1.20428      0.62525  22.83s\n",
      "     32     1.15357     0.91858    1.25582      0.64758  22.63s\n",
      "     33     \u001b[36m1.14439\u001b[0m     \u001b[32m0.87873\u001b[0m    1.30233      0.64758  22.76s\n",
      "     34     \u001b[36m1.13874\u001b[0m     0.88803    1.28231      0.65033  22.82s\n",
      "     35     \u001b[36m1.13407\u001b[0m     0.89596    1.26576      0.64783  22.58s\n",
      "     36     1.13950     0.88534    1.28708      0.65133  22.69s\n",
      "     37     \u001b[36m1.12690\u001b[0m     0.90019    1.25184      0.64633  22.89s\n",
      "     38     1.12800     0.89434    1.26126      0.64800  22.67s\n",
      "     39     \u001b[36m1.12466\u001b[0m     0.89275    1.25976      0.63983  22.74s\n",
      "     40     1.13245     0.91252    1.24101      0.64567  22.72s\n",
      "     41     1.13353     0.92500    1.22543      0.62883  22.96s\n",
      "     42     1.16064     0.99598    1.16532      0.58900  22.90s\n",
      "     43     1.13620     0.89749    1.26598      0.63708  22.56s\n",
      "     44     \u001b[36m1.11358\u001b[0m     0.89160    1.24897      0.64167  22.71s\n",
      "     45     1.11522     0.88517    1.25989      0.65133  22.94s\n",
      "     46     1.11549     0.88029    1.26719      0.65567  22.34s\n",
      "     47     1.12065     0.91833    1.22031      0.62617  22.27s\n",
      "     48     1.15174     0.90920    1.26676      0.64150  22.80s\n",
      "     49     1.15365     0.89726    1.28575      0.63267  22.54s\n",
      "     50     1.12697     0.89780    1.25527      0.64658  22.96s\n",
      "     51     \u001b[36m1.11021\u001b[0m     0.89429    1.24144      0.63792  22.68s\n",
      "     52     \u001b[36m1.10905\u001b[0m     0.88782    1.24918      0.63350  22.20s\n",
      "     53     1.12051     0.89209    1.25606      0.62458  24.12s\n",
      "     54     1.12606     0.91629    1.22893      0.62908  22.69s\n",
      "     55     1.11489     0.88536    1.25926      0.64633  22.94s\n",
      "     56     \u001b[36m1.10427\u001b[0m     \u001b[32m0.87807\u001b[0m    1.25762      0.63908  22.62s\n",
      "     57     1.11121     \u001b[32m0.86178\u001b[0m    1.28943      0.64408  22.65s\n",
      "     58     \u001b[36m1.09525\u001b[0m     0.87089    1.25762      0.65358  22.87s\n",
      "     59     1.10661     0.89139    1.24143      0.64842  22.70s\n",
      "     60     1.13150     0.88480    1.27881      0.64625  22.65s\n",
      "     61     1.10199     0.87136    1.26467      0.65642  22.91s\n",
      "     62     1.10780     0.86504    1.28064      0.66508  22.77s\n",
      "     63     \u001b[36m1.09335\u001b[0m     \u001b[32m0.85764\u001b[0m    1.27484      0.65558  22.88s\n",
      "     64     \u001b[36m1.08068\u001b[0m     \u001b[32m0.84433\u001b[0m    1.27992      0.65250  22.57s\n",
      "     65     1.09259     0.84596    1.29154      0.64383  22.66s\n",
      "     66     1.08676     \u001b[32m0.83965\u001b[0m    1.29431      0.66308  22.90s\n",
      "     67     1.09619     0.84503    1.29722      0.66608  22.80s\n",
      "     68     1.09172     \u001b[32m0.83412\u001b[0m    1.30883      0.67175  23.39s\n",
      "     69     1.08560     0.84488    1.28492      0.66300  22.88s\n",
      "     70     1.08958     0.85058    1.28098      0.66608  22.66s\n",
      "     71     1.09831     0.84695    1.29678      0.67625  22.89s\n",
      "     72     1.08916     0.84489    1.28912      0.67000  22.65s\n",
      "     73     1.10068     0.85497    1.28739      0.65683  22.60s\n",
      "     74     1.09189     \u001b[32m0.83088\u001b[0m    1.31413      0.66975  22.79s\n",
      "     75     1.09439     \u001b[32m0.82762\u001b[0m    1.32234      0.67825  22.65s\n",
      "     76     1.09287     0.85648    1.27599      0.67567  22.69s\n",
      "     77     1.08686     0.84291    1.28942      0.67183  22.80s\n",
      "     78     1.08456     0.85564    1.26754      0.67008  22.72s\n",
      "     79     1.09463     0.85281    1.28355      0.66483  22.64s\n",
      "     80     1.08789     0.85195    1.27693      0.67183  22.82s\n",
      "     81     1.08929     0.86787    1.25513      0.66458  22.67s\n",
      "     82     1.11802     0.86727    1.28912      0.65383  22.92s\n",
      "     83     1.09375     0.85180    1.28404      0.67175  22.65s\n",
      "     84     1.09369     0.85318    1.28190      0.65808  23.00s\n",
      "     85     1.08295     0.85479    1.26693      0.66583  22.68s\n",
      "     86     1.08411     0.84292    1.28614      0.66567  22.72s\n",
      "     87     \u001b[36m1.07907\u001b[0m     \u001b[32m0.82644\u001b[0m    1.30569      0.68317  22.81s\n",
      "     88     1.08031     0.85395    1.26508      0.66317  22.72s\n",
      "     89     1.08872     0.83528    1.30341      0.67167  22.97s\n",
      "     90     1.08134     0.84238    1.28367      0.66875  22.76s\n",
      "     91     1.08284     \u001b[32m0.82420\u001b[0m    1.31381      0.67842  22.74s\n",
      "     92     1.08250     0.83982    1.28896      0.67808  22.70s\n",
      "     93     \u001b[36m1.07864\u001b[0m     0.84897    1.27053      0.66458  22.84s\n",
      "     94     \u001b[36m1.07844\u001b[0m     \u001b[32m0.81888\u001b[0m    1.31697      0.68283  22.69s\n",
      "     95     1.08387     0.82104    1.32013      0.68200  22.54s\n",
      "     96     \u001b[36m1.07572\u001b[0m     0.83491    1.28842      0.67475  22.77s\n",
      "     97     1.08151     0.82826    1.30576      0.67500  22.42s\n",
      "     98     1.08227     0.85723    1.26251      0.66917  22.65s\n",
      "     99     1.07583     0.83559    1.28752      0.66867  22.71s\n",
      "    100     1.07992     0.85313    1.26584      0.67117  22.62s\n",
      "Tiempo red neuronal convulcionada: 2278.503986137751  segundos con epoch: 100\n"
     ]
    }
   ],
   "source": [
    "net = None\n",
    "epoch = 100\n",
    "net = create_net(epoch)\n",
    "comienzo = timer()\n",
    "net.fit(x, y_train)\n",
    "fin = timer() - comienzo\n",
    "print(\"Tiempo red neuronal convulcionada:\",fin, \" segundos con epoch:\",epoch)\n"
   ]
  },
  {
   "cell_type": "code",
   "execution_count": null,
   "metadata": {
    "collapsed": true
   },
   "outputs": [],
   "source": [
    "from sklearn.metrics import classification_report\n",
    "from sklearn.metrics import confusion_matrix\n",
    "from nolearn.lasagne import visualize"
   ]
  },
  {
   "cell_type": "code",
   "execution_count": null,
   "metadata": {},
   "outputs": [],
   "source": [
    "X_test.shape\n",
    "XTEST = X_test.reshape(10000,1,28,28)\n",
    "XTEST.shape\n",
    "print(y_test.shape)"
   ]
  },
  {
   "cell_type": "code",
   "execution_count": null,
   "metadata": {},
   "outputs": [],
   "source": [
    "print (classification_report(y_test, net.predict(XTEST)))\n"
   ]
  },
  {
   "cell_type": "code",
   "execution_count": null,
   "metadata": {
    "collapsed": true
   },
   "outputs": [],
   "source": [
    "import matplotlib\n",
    "import matplotlib.pyplot as plt\n",
    "import matplotlib.cm as cm"
   ]
  },
  {
   "cell_type": "code",
   "execution_count": null,
   "metadata": {},
   "outputs": [],
   "source": [
    "%matplotlib inline\n",
    "visualize.plot_loss(net)"
   ]
  }
 ],
 "metadata": {
  "kernelspec": {
   "display_name": "Python 3",
   "language": "python",
   "name": "python3"
  },
  "language_info": {
   "codemirror_mode": {
    "name": "ipython",
    "version": 3
   },
   "file_extension": ".py",
   "mimetype": "text/x-python",
   "name": "python",
   "nbconvert_exporter": "python",
   "pygments_lexer": "ipython3",
   "version": "3.6.1"
  }
 },
 "nbformat": 4,
 "nbformat_minor": 2
}
