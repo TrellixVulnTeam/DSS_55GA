{
 "cells": [
  {
   "cell_type": "code",
   "execution_count": 1,
   "metadata": {
    "collapsed": true
   },
   "outputs": [],
   "source": [
    "from sklearn.metrics import classification_report, confusion_matrix\n",
    "from utils import mnist_reader\n",
    "\n",
    "import matplotlib.pyplot as plt\n",
    "import numpy as np\n",
    "import pandas as pd\n",
    "import itertools\n"
   ]
  },
  {
   "cell_type": "code",
   "execution_count": 2,
   "metadata": {
    "collapsed": true
   },
   "outputs": [],
   "source": [
    "\n",
    "def show_image(pixels, label, color =\"gray\"):\n",
    "    pixels = pixels.reshape((28,28))\n",
    "    plt.imshow(pixels, cmap=color)\n",
    "    plt.show()\n",
    "    \n",
    "\n",
    "def plot_confusion_matrix(cm, classes, normalize=False, title='Confusion matrix', cmap=plt.cm.Blues):\n",
    "    \"\"\"\n",
    "    This function prints and plots the confusion matrix.\n",
    "    Normalization can be applied by setting `normalize=True`.\n",
    "    \"\"\"\n",
    "    if normalize:\n",
    "        cm = cm.astype('float') / cm.sum(axis=1)[:, np.newaxis]\n",
    "        print(\"Normalized confusion matrix\")\n",
    "    else:\n",
    "        print('Confusion matrix, without normalization')\n",
    "\n",
    "    print(cm)\n",
    "\n",
    "    plt.imshow(cm, interpolation='nearest', cmap=cmap)\n",
    "    plt.title(title)\n",
    "    plt.colorbar()\n",
    "    tick_marks = np.arange(len(classes))\n",
    "    plt.xticks(tick_marks, classes, rotation=45)\n",
    "    plt.yticks(tick_marks, classes)\n",
    "\n",
    "    fmt = '.2f' if normalize else 'd'\n",
    "    thresh = cm.max() / 2.\n",
    "    for i, j in itertools.product(range(cm.shape[0]), range(cm.shape[1])):\n",
    "        plt.text(j, i, format(cm[i, j], fmt),\n",
    "                 horizontalalignment=\"center\",\n",
    "                 color=\"white\" if cm[i, j] > thresh else \"black\")\n",
    "\n",
    "    plt.tight_layout()\n",
    "    plt.ylabel('True label')\n",
    "    plt.xlabel('Predicted label')\n",
    "    "
   ]
  },
  {
   "cell_type": "code",
   "execution_count": 3,
   "metadata": {
    "collapsed": true
   },
   "outputs": [],
   "source": [
    "\n",
    "X_train, y_train = mnist_reader.load_mnist('data/fashion', kind='train')\n",
    "X_test, y_test = mnist_reader.load_mnist('data/fashion', kind='t10k')\n",
    "\n",
    "class_names = np.unique(y_test)\n"
   ]
  },
  {
   "cell_type": "code",
   "execution_count": null,
   "metadata": {
    "collapsed": true
   },
   "outputs": [],
   "source": [
    "print \"X_train = %d \\n y_train = %d\"%(len(X_train), len(y_train))\n",
    "print \"X_test = %d \\n y_test = %d\"%(len(X_test), len(y_test))"
   ]
  },
  {
   "cell_type": "code",
   "execution_count": 4,
   "metadata": {},
   "outputs": [
    {
     "data": {
      "text/plain": [
       "(60000, 784)"
      ]
     },
     "execution_count": 4,
     "metadata": {},
     "output_type": "execute_result"
    }
   ],
   "source": [
    "X_train.shape"
   ]
  },
  {
   "cell_type": "code",
   "execution_count": 6,
   "metadata": {},
   "outputs": [
    {
     "data": {
      "image/png": "[encoded data removed]",
      "text/plain": [
       "<matplotlib.figure.Figure at 0x1729f699828>"
      ]
     },
     "metadata": {},
     "output_type": "display_data"
    }
   ],
   "source": [
    "show_image(X_train[0], y_test[0])"
   ]
  },
  {
   "cell_type": "code",
   "execution_count": null,
   "metadata": {
    "collapsed": true
   },
   "outputs": [],
   "source": [
    "from sklearn.dummy import DummyClassifier\n",
    "from sklearn.svm import SVC\n",
    "\n",
    "clf = DummyClassifier(strategy='prior',random_state=0)\n",
    "clf.fit(X_train, y_train)\n",
    "clf.score(X_test, y_test)\n"
   ]
  },
  {
   "cell_type": "markdown",
   "metadata": {},
   "source": [
    "## Gridshearch ##\n",
    "El siguiente link tiene un ejemplo de gridshearch para svc. Se definen distintos parametros y se printea cual de las combinaciones de ellos es la mas optima. Es un procesos costoso que habria que hacer algun dia D:\n",
    "\n",
    "http://scikit-learn.org/0.18/auto_examples/model_selection/grid_search_digits.html"
   ]
  },
  {
   "cell_type": "code",
   "execution_count": null,
   "metadata": {
    "collapsed": true
   },
   "outputs": [],
   "source": [
    "### Entrenamos la maquina SVM ###\n",
    "from sklearn import svm\n",
    "\n",
    "svc = svm.SVC(kernel='poly', degree=2, C=1.0)\n",
    "svc.fit(X_train, y_train)  \n"
   ]
  },
  {
   "cell_type": "code",
   "execution_count": null,
   "metadata": {
    "collapsed": true
   },
   "outputs": [],
   "source": [
    "### Clasificamos SVM ###\n",
    "y_predict = svc.predict(X_test)\n",
    "cnf_matrix = confusion_matrix(y_test, y_predict)\n",
    "\n",
    "plt.figure()\n",
    "plot_confusion_matrix(cnf_matrix, classes=class_names,title='Confusion matrix, without normalization')\n",
    "plt.show()\n",
    "\n",
    "print(classification_report(y_test, y_predict))"
   ]
  },
  {
   "cell_type": "code",
   "execution_count": null,
   "metadata": {
    "collapsed": true
   },
   "outputs": [],
   "source": [
    "### Entrenamos la maquina RandomForest ###\n",
    "from sklearn.ensemble import RandomForestClassifier\n",
    "\n",
    "rf = RandomForestClassifier() # Creando el modelo\n",
    "rf.fit(X_train, y_train) # Ajustando el modelo\n"
   ]
  },
  {
   "cell_type": "code",
   "execution_count": null,
   "metadata": {
    "collapsed": true
   },
   "outputs": [],
   "source": [
    "### Clasificamos RandomForest ###\n",
    "predict = rf.predict(X_test)\n",
    "cnf_matrix = confusion_matrix(y_test, predict)\n",
    "\n",
    "plt.figure()\n",
    "plot_confusion_matrix(cnf_matrix, classes=class_names,title='Confusion matrix, without normalization')\n",
    "plt.show()\n",
    "\n",
    "print(classification_report(y_test, predict, class_names))"
   ]
  },
  {
   "cell_type": "code",
   "execution_count": null,
   "metadata": {
    "collapsed": true
   },
   "outputs": [],
   "source": [
    "# MEDIMOS PREDICCION DE SVC\n",
    "from sklearn.metrics import f1_score\n",
    "\n",
    "f1_score(y_test, y_predict, average='macro')  \n",
    "f1_score(y_test, y_predict, average='micro')  \n",
    "f1_score(y_test, y_predict, average='weighted')  \n",
    "f1_score(y_test, y_predict, average=None)"
   ]
  },
  {
   "cell_type": "code",
   "execution_count": 7,
   "metadata": {
    "collapsed": true
   },
   "outputs": [],
   "source": [
    "from sklearn.neural_network import MLPClassifier\n",
    "from timeit import default_timer as timer\n",
    "redNeuronal = MLPClassifier(max_iter=1000, hidden_layer_sizes=(100,250,500,1000))\n",
    "#La cantidad de iteraciones = 1000\n",
    "#Capas ocultas = [10,25,50,100]"
   ]
  },
  {
   "cell_type": "code",
   "execution_count": 8,
   "metadata": {},
   "outputs": [
    {
     "name": "stdout",
     "output_type": "stream",
     "text": [
      "Tiempo red neuronal: 1378.283702848854  segundos\n"
     ]
    }
   ],
   "source": [
    "comienzo = timer()\n",
    "redNeuronal.fit(X_train, y_train)\n",
    "fin = timer() - comienzo\n",
    "print(\"Tiempo red neuronal:\",fin, \" segundos\")"
   ]
  },
  {
   "cell_type": "code",
   "execution_count": 9,
   "metadata": {},
   "outputs": [
    {
     "name": "stdout",
     "output_type": "stream",
     "text": [
      "Entrenado\n",
      "0.8704\n"
     ]
    }
   ],
   "source": [
    "indicador = redNeuronal.score(X_test, y_test)\n",
    "if indicador > 0.5 and indicador < 1:\n",
    "    print(\"Entrenado\")\n",
    "else:\n",
    "    if indicador == 1.0:\n",
    "        print(\"Sobreentrenado\")\n",
    "    else:\n",
    "        print(\"Falta entrenamiento\")\n",
    "print (indicador)"
   ]
  },
  {
   "cell_type": "code",
   "execution_count": 10,
   "metadata": {},
   "outputs": [
    {
     "name": "stdout",
     "output_type": "stream",
     "text": [
      "Confusion matrix, without normalization\n",
      "[[805   2  16  28   3   0 137   0   9   0]\n",
      " [  7 969   3  17   2   0   1   0   1   0]\n",
      " [ 16   1 750  18 118   0  92   0   4   1]\n",
      " [ 20  15  11 895  27   0  29   0   3   0]\n",
      " [  2   1  87  44 788   0  73   0   5   0]\n",
      " [  0   0   0   0   0 913   0  43   3  41]\n",
      " [118   1  75  49  67   0 677   0  13   0]\n",
      " [  0   0   0   0   0   5   0 975   0  20]\n",
      " [  5   0   3   3   1   1   6   3 978   0]\n",
      " [  0   0   0   0   1   1   1  42   1 954]]\n"
     ]
    },
    {
     "data": {
      "image/png": "[encoded data removed]",
      "text/plain": [
       "<matplotlib.figure.Figure at 0x1729f92a4e0>"
      ]
     },
     "metadata": {},
     "output_type": "display_data"
    },
    {
     "name": "stdout",
     "output_type": "stream",
     "text": [
      "             precision    recall  f1-score   support\n",
      "\n",
      "          0       0.83      0.81      0.82      1000\n",
      "          1       0.98      0.97      0.97      1000\n",
      "          2       0.79      0.75      0.77      1000\n",
      "          3       0.85      0.90      0.87      1000\n",
      "          4       0.78      0.79      0.79      1000\n",
      "          5       0.99      0.91      0.95      1000\n",
      "          6       0.67      0.68      0.67      1000\n",
      "          7       0.92      0.97      0.95      1000\n",
      "          8       0.96      0.98      0.97      1000\n",
      "          9       0.94      0.95      0.95      1000\n",
      "\n",
      "avg / total       0.87      0.87      0.87     10000\n",
      "\n"
     ]
    }
   ],
   "source": [
    "predict = redNeuronal.predict(X_test)\n",
    "cnf_matrix = confusion_matrix(y_test, predict)\n",
    "\n",
    "plt.figure()\n",
    "plot_confusion_matrix(cnf_matrix, classes=class_names,title='Confusion matrix red neuronal, sin normalization')\n",
    "plt.show()\n",
    "\n",
    "print(classification_report(y_test, predict, class_names))"
   ]
  },
  {
   "cell_type": "code",
   "execution_count": 11,
   "metadata": {
    "collapsed": true
   },
   "outputs": [],
   "source": [
    "from lasagne.layers import InputLayer, Conv2DLayer, DropoutLayer, MaxPool2DLayer, DenseLayer\n",
    "from lasagne.nonlinearities import rectify"
   ]
  },
  {
   "cell_type": "code",
   "execution_count": 12,
   "metadata": {},
   "outputs": [
    {
     "name": "stderr",
     "output_type": "stream",
     "text": [
      "C:\\Users\\fdman\\Anaconda3\\lib\\site-packages\\sklearn\\cross_validation.py:41: DeprecationWarning: This module was deprecated in version 0.18 in favor of the model_selection module into which all the refactored classes and functions are moved. Also note that the interface of the new CV iterators are different from that of this module. This module will be removed in 0.20.\n",
      "  \"This module will be removed in 0.20.\", DeprecationWarning)\n"
     ]
    }
   ],
   "source": [
    "import theano\n",
    "import lasagne\n",
    "from lasagne.updates import nesterov_momentum\n",
    "from nolearn.lasagne import NeuralNet\n",
    "from lasagne.layers import InputLayer, Conv2DLayer, DropoutLayer,MaxPool2DLayer, DenseLayer\n",
    "from lasagne.objectives import categorical_crossentropy\n",
    "from nolearn.lasagne import BatchIterator"
   ]
  },
  {
   "cell_type": "code",
   "execution_count": 13,
   "metadata": {
    "collapsed": true
   },
   "outputs": [],
   "source": [
    "def create_net(max_epochs):\n",
    "    return NeuralNet(\n",
    "        layers=[\n",
    "                (InputLayer, {'shape': (None, 1, 28, 28)}), #cantidad, canal(monocromatico),col,filas\n",
    "               (Conv2DLayer, {'num_filters':10, 'filter_size': 3, 'W': lasagne.init.GlorotUniform()}),\n",
    "                (MaxPool2DLayer, {'pool_size': 2}),\n",
    "                (Conv2DLayer, {'num_filters':5, 'filter_size': 2, 'W': lasagne.init.GlorotUniform()}),\n",
    "                (MaxPool2DLayer, {'pool_size': 2}),\n",
    "                (DenseLayer, {'num_units': 1000, 'nonlinearity': lasagne.nonlinearities.rectify}),\n",
    "                (DropoutLayer, {'p': 0.5}),\n",
    "                (DenseLayer, {'num_units': 10, 'nonlinearity': lasagne.nonlinearities.softmax}),\n",
    "\n",
    "                \n",
    "\n",
    "        ],\n",
    "        update=nesterov_momentum,\n",
    "        update_learning_rate=0.03,\n",
    "        update_momentum=0.9,\n",
    "        regression=False,\n",
    "        objective_loss_function=categorical_crossentropy,\n",
    "        #batch_iterator_train=BatchIterator(batch_size=512),\n",
    "        #on_epoch_finished=[\n",
    "        #    AdjustVariable('update_learning_rate', start=0.03, stop=0.001),\n",
    "        #    AdjustVariable('update_momentum', start=0.9, stop=0.9999)  # ,\n",
    "        #],\n",
    "        max_epochs=max_epochs,\n",
    "        verbose=1)"
   ]
  },
  {
   "cell_type": "code",
   "execution_count": 14,
   "metadata": {},
   "outputs": [
    {
     "name": "stdout",
     "output_type": "stream",
     "text": [
      "(60000, 784)\n",
      "(60000,)\n",
      "(60000, 1, 28, 28)\n",
      "(28, 28)\n"
     ]
    },
    {
     "data": {
      "image/png": "[encoded data removed]",
      "text/plain": [
       "<matplotlib.figure.Figure at 0x172a148b6a0>"
      ]
     },
     "metadata": {},
     "output_type": "display_data"
    }
   ],
   "source": [
    "\n",
    "from sklearn.cross_validation import train_test_split\n",
    "\n",
    "\n",
    "print (X_train.shape)\n",
    "print (y_train.shape)\n",
    "x = X_train.reshape(60000, 1, 28, 28)\n",
    "print(x.shape)\n",
    "print(x[0,0].shape)\n",
    "show_image(x[0,0],'hola')"
   ]
  },
  {
   "cell_type": "markdown",
   "metadata": {},
   "source": [
    "# RED NEURONAL CONVOLUCIONAL"
   ]
  },
  {
   "cell_type": "code",
   "execution_count": 15,
   "metadata": {
    "scrolled": true
   },
   "outputs": [
    {
     "name": "stdout",
     "output_type": "stream",
     "text": [
      "# Neural Network with 191315 learnable parameters\n",
      "\n",
      "## Layer information\n",
      "\n",
      "  #  name        size\n",
      "---  ----------  --------\n",
      "  0  input0      1x28x28\n",
      "  1  conv2d1     10x26x26\n",
      "  2  maxpool2d2  10x13x13\n",
      "  3  conv2d3     5x12x12\n",
      "  4  maxpool2d4  5x6x6\n",
      "  5  dense5      1000\n",
      "  6  dropout6    1000\n",
      "  7  dense7      10\n",
      "\n",
      "  epoch    trn loss    val loss    trn/val    valid acc  dur\n",
      "-------  ----------  ----------  ---------  -----------  ------\n",
      "      1  \u001b[36m5034.81746\u001b[0m    \u001b[32m73.27088\u001b[0m   68.71512      0.58917  22.56s\n",
      "      2    \u001b[36m46.91986\u001b[0m    \u001b[32m21.29783\u001b[0m    2.20303      0.62625  22.40s\n",
      "      3    \u001b[36m19.82881\u001b[0m    \u001b[32m12.20503\u001b[0m    1.62464      0.63875  22.28s\n",
      "      4    \u001b[36m12.41990\u001b[0m     \u001b[32m8.46012\u001b[0m    1.46805      0.65292  22.36s\n",
      "      5     \u001b[36m9.39869\u001b[0m     \u001b[32m5.97007\u001b[0m    1.57430      0.66583  22.21s\n",
      "      6     \u001b[36m6.80660\u001b[0m     \u001b[32m4.49938\u001b[0m    1.51278      0.67033  22.08s\n",
      "      7     \u001b[36m5.03962\u001b[0m     \u001b[32m3.67244\u001b[0m    1.37228      0.67167  22.13s\n",
      "      8     \u001b[36m4.42576\u001b[0m     \u001b[32m3.16728\u001b[0m    1.39734      0.67608  22.06s\n",
      "      9     \u001b[36m3.71046\u001b[0m     \u001b[32m2.74606\u001b[0m    1.35120      0.67733  22.29s\n",
      "     10     \u001b[36m3.39507\u001b[0m     \u001b[32m2.48633\u001b[0m    1.36549      0.68308  21.85s\n",
      "     11     \u001b[36m2.75437\u001b[0m     \u001b[32m2.14398\u001b[0m    1.28470      0.68700  21.95s\n",
      "     12     \u001b[36m2.62667\u001b[0m     \u001b[32m1.93042\u001b[0m    1.36067      0.69142  21.90s\n",
      "     13     \u001b[36m2.21988\u001b[0m     \u001b[32m1.78053\u001b[0m    1.24675      0.69083  21.80s\n",
      "     14     \u001b[36m2.15574\u001b[0m     \u001b[32m1.62043\u001b[0m    1.33035      0.69933  21.88s\n",
      "     15     \u001b[36m1.99687\u001b[0m     \u001b[32m1.57906\u001b[0m    1.26460      0.69783  22.06s\n",
      "     16     \u001b[36m1.82547\u001b[0m     \u001b[32m1.51951\u001b[0m    1.20135      0.70142  22.02s\n",
      "     17     \u001b[36m1.71935\u001b[0m     \u001b[32m1.44414\u001b[0m    1.19057      0.70467  21.96s\n",
      "     18     \u001b[36m1.55452\u001b[0m     \u001b[32m1.40601\u001b[0m    1.10563      0.70300  22.00s\n",
      "     19     \u001b[36m1.45044\u001b[0m     \u001b[32m1.38519\u001b[0m    1.04711      0.70517  22.13s\n",
      "     20     \u001b[36m1.43148\u001b[0m     \u001b[32m1.35562\u001b[0m    1.05596      0.71025  22.19s\n",
      "     21     \u001b[36m1.38025\u001b[0m     \u001b[32m1.26384\u001b[0m    1.09211      0.70642  21.94s\n",
      "     22     \u001b[36m1.37952\u001b[0m     1.29923    1.06180      0.70900  22.01s\n",
      "     23     \u001b[36m1.23158\u001b[0m     1.30320    0.94504      0.71342  22.13s\n",
      "     24     \u001b[36m1.19019\u001b[0m     1.26739    0.93909      0.72050  22.09s\n",
      "     25     1.31169     \u001b[32m1.26286\u001b[0m    1.03866      0.71475  21.93s\n",
      "     26     1.40485     \u001b[32m1.23109\u001b[0m    1.14115      0.71933  22.04s\n",
      "     27     \u001b[36m1.14455\u001b[0m     \u001b[32m1.21652\u001b[0m    0.94084      0.71667  22.09s\n",
      "     28     \u001b[36m1.12963\u001b[0m     \u001b[32m1.19960\u001b[0m    0.94167      0.72000  21.99s\n",
      "     29     \u001b[36m1.08542\u001b[0m     1.20891    0.89785      0.72192  22.11s\n",
      "     30     1.09873     \u001b[32m1.13947\u001b[0m    0.96424      0.72217  22.09s\n",
      "     31     1.13533     1.14495    0.99160      0.72592  22.05s\n",
      "     32     \u001b[36m1.05232\u001b[0m     1.14251    0.92106      0.72508  22.02s\n",
      "     33     1.06952     \u001b[32m1.12690\u001b[0m    0.94908      0.72933  22.02s\n",
      "     34     \u001b[36m1.00990\u001b[0m     1.13462    0.89008      0.72533  22.81s\n",
      "     35     \u001b[36m0.97796\u001b[0m     1.14756    0.85220      0.72250  23.08s\n",
      "     36     0.98082     \u001b[32m1.10580\u001b[0m    0.88698      0.72525  22.36s\n",
      "     37     \u001b[36m0.96600\u001b[0m     1.12830    0.85616      0.72958  21.91s\n",
      "     38     \u001b[36m0.93643\u001b[0m     \u001b[32m1.10522\u001b[0m    0.84728      0.72825  23.02s\n",
      "     39     \u001b[36m0.89399\u001b[0m     \u001b[32m1.08400\u001b[0m    0.82471      0.73158  22.06s\n",
      "     40     \u001b[36m0.88355\u001b[0m     1.12336    0.78652      0.73158  21.99s\n",
      "     41     0.98363     1.09975    0.89441      0.73308  22.16s\n",
      "     42     0.93400     1.12117    0.83306      0.73142  22.23s\n",
      "     43     0.93108     1.10532    0.84236      0.73000  21.87s\n",
      "     44     0.89219     1.09573    0.81424      0.73158  21.95s\n",
      "     45     \u001b[36m0.86668\u001b[0m     \u001b[32m1.06691\u001b[0m    0.81232      0.73233  22.04s\n",
      "     46     0.88072     1.09571    0.80379      0.73175  21.78s\n",
      "     47     0.88960     1.09480    0.81257      0.73300  22.31s\n",
      "     48     \u001b[36m0.85544\u001b[0m     1.06723    0.80155      0.73500  22.10s\n",
      "     49     0.87993     \u001b[32m1.05668\u001b[0m    0.83273      0.73250  22.13s\n",
      "     50     0.88507     1.07007    0.82711      0.73850  22.25s\n",
      "     51     0.89709     1.06112    0.84541      0.73742  22.18s\n",
      "     52     \u001b[36m0.80645\u001b[0m     1.07976    0.74688      0.73192  22.05s\n",
      "     53     0.82303     1.06503    0.77277      0.74258  22.11s\n",
      "     54     0.82260     1.07383    0.76605      0.73783  22.10s\n",
      "     55     0.81932     1.08018    0.75851      0.73600  22.00s\n",
      "     56     \u001b[36m0.78096\u001b[0m     1.06378    0.73414      0.73800  22.07s\n",
      "     57     0.80009     \u001b[32m1.04366\u001b[0m    0.76662      0.74150  22.12s\n",
      "     58     \u001b[36m0.77813\u001b[0m     \u001b[32m1.01473\u001b[0m    0.76684      0.74208  22.00s\n",
      "     59     0.78244     1.02374    0.76430      0.73992  22.14s\n",
      "     60     \u001b[36m0.76543\u001b[0m     1.03128    0.74221      0.73750  21.98s\n",
      "     61     0.79930     1.02639    0.77874      0.73842  22.16s\n",
      "     62     0.78113     1.02746    0.76025      0.74325  22.00s\n",
      "     63     0.80625     1.03143    0.78168      0.73950  22.34s\n",
      "     64     0.78509     1.08057    0.72655      0.74175  21.90s\n",
      "     65     \u001b[36m0.74587\u001b[0m     1.04022    0.71703      0.74400  21.84s\n",
      "     66     0.77547     1.02155    0.75911      0.74008  22.05s\n",
      "     67     \u001b[36m0.74379\u001b[0m     1.02500    0.72564      0.74283  22.22s\n",
      "     68     0.78747     1.06624    0.73855      0.74325  22.01s\n",
      "     69     0.78063     1.04723    0.74542      0.74417  22.02s\n",
      "     70     \u001b[36m0.73404\u001b[0m     1.04620    0.70162      0.74408  22.45s\n",
      "     71     0.74703     1.02380    0.72967      0.74442  22.05s\n",
      "     72     \u001b[36m0.73186\u001b[0m     1.01501    0.72104      0.74533  22.05s\n",
      "     73     \u001b[36m0.72232\u001b[0m     1.04846    0.68894      0.74617  22.34s\n",
      "     74     0.73276     1.04164    0.70347      0.74567  21.93s\n",
      "     75     0.72739     1.04310    0.69734      0.74308  22.14s\n",
      "     76     0.74549     1.02621    0.72645      0.74550  22.09s\n",
      "     77     0.75425     1.04060    0.72483      0.74425  22.13s\n",
      "     78     0.74026     1.01569    0.72882      0.74833  22.16s\n",
      "     79     \u001b[36m0.70061\u001b[0m     1.05618    0.66335      0.74525  22.11s\n",
      "     80     0.70310     1.02899    0.68329      0.74592  22.10s\n",
      "     81     0.71732     1.04788    0.68455      0.74850  22.29s\n",
      "     82     0.72055     1.01998    0.70643      0.74642  22.02s\n",
      "     83     0.71056     \u001b[32m1.01009\u001b[0m    0.70346      0.74925  22.13s\n",
      "     84     0.75447     1.04433    0.72245      0.74867  22.11s\n",
      "     85     \u001b[36m0.69095\u001b[0m     \u001b[32m0.99334\u001b[0m    0.69559      0.74833  22.05s\n",
      "     86     0.70147     1.01462    0.69136      0.75008  22.10s\n",
      "     87     0.69874     1.00757    0.69349      0.74742  22.07s\n",
      "     88     0.69661     1.00384    0.69394      0.74825  22.14s\n",
      "     89     0.74745     1.03868    0.71962      0.74667  22.02s\n",
      "     90     0.70165     1.00993    0.69475      0.74883  22.20s\n",
      "     91     0.72276     1.04605    0.69094      0.75275  22.40s\n",
      "     92     0.73230     1.04839    0.69850      0.74808  22.23s\n",
      "     93     0.72139     1.04003    0.69362      0.75058  22.07s\n",
      "     94     0.69986     1.03145    0.67853      0.74783  22.00s\n",
      "     95     0.69806     1.02283    0.68248      0.74958  22.34s\n",
      "     96     0.70151     1.02546    0.68409      0.75250  22.06s\n",
      "     97     0.69894     1.00727    0.69389      0.74542  22.00s\n",
      "     98     \u001b[36m0.67416\u001b[0m     1.02687    0.65652      0.75192  21.91s\n",
      "     99     0.67925     1.00910    0.67312      0.75492  21.95s\n",
      "    100     0.69502     1.00652    0.69052      0.74767  22.02s\n",
      "Tiempo red neuronal convulcionada: 2214.4532593846147  segundos con epoch: 100\n"
     ]
    }
   ],
   "source": [
    "net = None\n",
    "epoch = 100\n",
    "net = create_net(epoch)\n",
    "comienzo = timer()\n",
    "net.fit(x, y_train)\n",
    "fin = timer() - comienzo\n",
    "print(\"Tiempo red neuronal convulcionada:\",fin, \" segundos con epoch:\",epoch)\n"
   ]
  },
  {
   "cell_type": "code",
   "execution_count": 16,
   "metadata": {
    "collapsed": true
   },
   "outputs": [],
   "source": [
    "from sklearn.metrics import classification_report\n",
    "from sklearn.metrics import confusion_matrix\n",
    "from nolearn.lasagne import visualize"
   ]
  },
  {
   "cell_type": "code",
   "execution_count": 17,
   "metadata": {},
   "outputs": [
    {
     "name": "stdout",
     "output_type": "stream",
     "text": [
      "(10000,)\n"
     ]
    }
   ],
   "source": [
    "X_test.shape\n",
    "XTEST = X_test.reshape(10000,1,28,28)\n",
    "XTEST.shape\n",
    "print(y_test.shape)"
   ]
  },
  {
   "cell_type": "code",
   "execution_count": 18,
   "metadata": {},
   "outputs": [
    {
     "name": "stdout",
     "output_type": "stream",
     "text": [
      "             precision    recall  f1-score   support\n",
      "\n",
      "          0       0.75      0.79      0.77      1000\n",
      "          1       0.91      0.90      0.90      1000\n",
      "          2       0.52      0.56      0.54      1000\n",
      "          3       0.75      0.77      0.76      1000\n",
      "          4       0.56      0.62      0.59      1000\n",
      "          5       0.90      0.78      0.83      1000\n",
      "          6       0.39      0.28      0.33      1000\n",
      "          7       0.82      0.85      0.83      1000\n",
      "          8       0.91      0.95      0.93      1000\n",
      "          9       0.86      0.95      0.90      1000\n",
      "\n",
      "avg / total       0.74      0.74      0.74     10000\n",
      "\n"
     ]
    }
   ],
   "source": [
    "print (classification_report(y_test, net.predict(XTEST)))\n"
   ]
  },
  {
   "cell_type": "code",
   "execution_count": 19,
   "metadata": {
    "collapsed": true
   },
   "outputs": [],
   "source": [
    "import matplotlib\n",
    "import matplotlib.pyplot as plt\n",
    "import matplotlib.cm as cm"
   ]
  },
  {
   "cell_type": "code",
   "execution_count": 20,
   "metadata": {},
   "outputs": [
    {
     "data": {
      "text/plain": [
       "<module 'matplotlib.pyplot' from 'C:\\\\Users\\\\fdman\\\\Anaconda3\\\\lib\\\\site-packages\\\\matplotlib\\\\pyplot.py'>"
      ]
     },
     "execution_count": 20,
     "metadata": {},
     "output_type": "execute_result"
    },
    {
     "data": {
      "image/png": "[encoded data removed]",
      "text/plain": [
       "<matplotlib.figure.Figure at 0x172a2d51f60>"
      ]
     },
     "metadata": {},
     "output_type": "display_data"
    }
   ],
   "source": [
    "%matplotlib inline\n",
    "visualize.plot_loss(net)"
   ]
  },
  {
   "cell_type": "code",
   "execution_count": 23,
   "metadata": {},
   "outputs": [],
   "source": [
    "import pickle\n",
    "with open('clasificadorNET.pickle', 'wb') as f:\n",
    "        pickle.dump(net, f, -1)"
   ]
  },
  {
   "cell_type": "code",
   "execution_count": 25,
   "metadata": {},
   "outputs": [],
   "source": [
    "net2 = None\n",
    "with open('clasificadorNET.pickle', 'rb') as f:\n",
    "       net2 = pickle.load(f)"
   ]
  },
  {
   "cell_type": "code",
   "execution_count": 35,
   "metadata": {},
   "outputs": [
    {
     "name": "stdout",
     "output_type": "stream",
     "text": [
      "9\n",
      "2\n",
      "1\n"
     ]
    }
   ],
   "source": [
    "print(y_test[0])\n",
    "print (y_test[1])\n",
    "print (y_test[2])"
   ]
  },
  {
   "cell_type": "code",
   "execution_count": 33,
   "metadata": {},
   "outputs": [
    {
     "data": {
      "text/plain": [
       "array([9, 0, 1, ..., 3, 0, 5], dtype=int64)"
      ]
     },
     "execution_count": 33,
     "metadata": {},
     "output_type": "execute_result"
    }
   ],
   "source": [
    "net2.predict(x)"
   ]
  }
 ],
 "metadata": {
  "kernelspec": {
   "display_name": "Python 3",
   "language": "python",
   "name": "python3"
  },
  "language_info": {
   "codemirror_mode": {
    "name": "ipython",
    "version": 3
   },
   "file_extension": ".py",
   "mimetype": "text/x-python",
   "name": "python",
   "nbconvert_exporter": "python",
   "pygments_lexer": "ipython3",
   "version": "3.6.1"
  }
 },
 "nbformat": 4,
 "nbformat_minor": 2
}
