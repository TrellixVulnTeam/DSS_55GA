{
 "cells": [
  {
   "cell_type": "code",
   "execution_count": 1,
   "metadata": {
    "collapsed": true
   },
   "outputs": [],
   "source": [
    "import sqlalchemy as alchemy\n",
    "from sqlalchemy.ext.declarative import declarative_base\n",
    "from sqlalchemy import Column, Integer, String, Date, Float, BigInteger\n",
    "import matplotlib.pyplot as plt\n",
    "import pandas as pd \n",
    "%matplotlib inline"
   ]
  },
  {
   "cell_type": "markdown",
   "metadata": {},
   "source": [
    "# Conexion con la base de datos tp32"
   ]
  },
  {
   "cell_type": "code",
   "execution_count": 2,
   "metadata": {},
   "outputs": [
    {
     "name": "stdout",
     "output_type": "stream",
     "text": [
      "2017-09-05 14:34:08,314 INFO sqlalchemy.engine.base.Engine select version()\n",
      "2017-09-05 14:34:08,316 INFO sqlalchemy.engine.base.Engine {}\n",
      "2017-09-05 14:34:08,325 INFO sqlalchemy.engine.base.Engine select current_schema()\n",
      "2017-09-05 14:34:08,327 INFO sqlalchemy.engine.base.Engine {}\n",
      "2017-09-05 14:34:08,334 INFO sqlalchemy.engine.base.Engine SELECT CAST('test plain returns' AS VARCHAR(60)) AS anon_1\n",
      "2017-09-05 14:34:08,337 INFO sqlalchemy.engine.base.Engine {}\n",
      "2017-09-05 14:34:08,339 INFO sqlalchemy.engine.base.Engine SELECT CAST('test unicode returns' AS VARCHAR(60)) AS anon_1\n",
      "2017-09-05 14:34:08,344 INFO sqlalchemy.engine.base.Engine {}\n",
      "2017-09-05 14:34:08,347 INFO sqlalchemy.engine.base.Engine show standard_conforming_strings\n",
      "2017-09-05 14:34:08,349 INFO sqlalchemy.engine.base.Engine {}\n",
      "2017-09-05 14:34:08,357 INFO sqlalchemy.engine.base.Engine commit\n",
      "2017-09-05 14:34:08,360 INFO sqlalchemy.engine.base.Engine {}\n",
      "2017-09-05 14:34:08,363 INFO sqlalchemy.engine.base.Engine create database tp32\n",
      "2017-09-05 14:34:08,365 INFO sqlalchemy.engine.base.Engine {}\n",
      "2017-09-05 14:34:08,377 INFO sqlalchemy.engine.base.Engine ROLLBACK\n",
      "(psycopg2.ProgrammingError) database \"tp32\" already exists\n",
      " [SQL: 'create database tp32']\n"
     ]
    }
   ],
   "source": [
    "NOMBRE_DB = \"tp32\"\n",
    "USUARIO_DB = 'postgres' #gaston\n",
    "PASSWORD_DB = 'postgres' #gastonm1\n",
    "url_db = 'postgresql+psycopg2://%s:%s@localhost:5432/%s'%(USUARIO_DB, PASSWORD_DB,'')\n",
    "\n",
    "engine = alchemy.create_engine(url_db, echo=True)\n",
    "try:\n",
    "    conn = engine.connect()\n",
    "    conn.execute(\"commit\")\n",
    "    conn.execute(\"create database \" + NOMBRE_DB)\n",
    "    conn.close()\n",
    "except Exception as e:\n",
    "    print str(e)\n",
    "url_db = 'postgresql+psycopg2://%s:%s@localhost:5432/%s'%(USUARIO_DB, PASSWORD_DB, NOMBRE_DB)\n",
    "engine = alchemy.create_engine(url_db, echo=True)\n"
   ]
  },
  {
   "cell_type": "markdown",
   "metadata": {},
   "source": [
    "# Definicion de tablas\n",
    "![Inmobilitaria](diagramas/Inmobiliaria.png)\n"
   ]
  },
  {
   "cell_type": "code",
   "execution_count": 3,
   "metadata": {
    "collapsed": true
   },
   "outputs": [],
   "source": [
    "Base = declarative_base()\n",
    "class Customer(Base):\n",
    "    __tablename__ = 'Customer'\n",
    "    \n",
    "    IDCust = Column(Integer, primary_key=True)\n",
    "    Name = Column(String)\n",
    "    Surname = Column(String)\n",
    "    Address = Column(String)\n",
    "    City = Column(String)\n",
    "    Phone = Column(String)\n",
    "    Budget = Column(Float)\n",
    "    Office = Column(String)\n",
    "\n",
    "class Estate(Base):\n",
    "    __tablename__ = 'Estate'\n",
    "    \n",
    "    IDEstate = Column(Integer, primary_key=True)\n",
    "    Category = Column(String)\n",
    "    Area = Column(String)\n",
    "    City = Column(String)\n",
    "    Province = Column(String)\n",
    "    Rooms = Column(Integer)\n",
    "    Bedrooms = Column(Integer)\n",
    "    Garage = Column(String)\n",
    "    Meters = Column(Integer)\n",
    "\n",
    "class Visit(Base):\n",
    "    __tablename__ = 'Visit'\n",
    "    \n",
    "    IDVisit = Column(Integer, primary_key=True)\n",
    "    Date = Column(Date)\n",
    "    Duration = Column(Integer)\n",
    "\n",
    "class Sale(Base):\n",
    "    __tablename__ = 'Sale'\n",
    "    \n",
    "    IDSale = Column(Integer, primary_key=True)\n",
    "    Date = Column(Date)\n",
    "    AgreedPrice = Column(Float)\n",
    "    Price = Column(Float)\n",
    "    Status = Column(String)\n",
    "    Time = Column(Integer)\n",
    "\n",
    "class Agenda(Base):\n",
    "    __tablename__ = 'Agenda'\n",
    "    \n",
    "    IDAgenda = Column(Integer, primary_key=True)\n",
    "    Data = Column(String)\n",
    "    Hour = Column(String)\n",
    "    ClienteName = Column(String)\n",
    "\n",
    "class Inmobiliaria(Base):\n",
    "    __tablename__ = 'Inmobiliaria'\n",
    "    \n",
    "    ID = Column(Integer, primary_key=True)\n",
    "    IDEstate = Column(Integer)\n",
    "    IDCust = Column(Integer)\n",
    "    IDVisit = Column(Integer)\n",
    "    IDSale = Column(Integer)\n",
    "    IDAgenda = Column(Integer)\n",
    "    Date = Column(Date)"
   ]
  },
  {
   "cell_type": "code",
   "execution_count": 4,
   "metadata": {},
   "outputs": [
    {
     "name": "stdout",
     "output_type": "stream",
     "text": [
      "2017-09-05 14:34:08,655 INFO sqlalchemy.engine.base.Engine select version()\n",
      "2017-09-05 14:34:08,657 INFO sqlalchemy.engine.base.Engine {}\n",
      "2017-09-05 14:34:08,666 INFO sqlalchemy.engine.base.Engine select current_schema()\n",
      "2017-09-05 14:34:08,668 INFO sqlalchemy.engine.base.Engine {}\n",
      "2017-09-05 14:34:08,674 INFO sqlalchemy.engine.base.Engine SELECT CAST('test plain returns' AS VARCHAR(60)) AS anon_1\n",
      "2017-09-05 14:34:08,676 INFO sqlalchemy.engine.base.Engine {}\n",
      "2017-09-05 14:34:08,680 INFO sqlalchemy.engine.base.Engine SELECT CAST('test unicode returns' AS VARCHAR(60)) AS anon_1\n",
      "2017-09-05 14:34:08,682 INFO sqlalchemy.engine.base.Engine {}\n",
      "2017-09-05 14:34:08,685 INFO sqlalchemy.engine.base.Engine show standard_conforming_strings\n",
      "2017-09-05 14:34:08,687 INFO sqlalchemy.engine.base.Engine {}\n",
      "2017-09-05 14:34:08,691 INFO sqlalchemy.engine.base.Engine select relname from pg_class c join pg_namespace n on n.oid=c.relnamespace where pg_catalog.pg_table_is_visible(c.oid) and relname=%(name)s\n",
      "2017-09-05 14:34:08,697 INFO sqlalchemy.engine.base.Engine {'name': u'Customer'}\n",
      "2017-09-05 14:34:08,704 INFO sqlalchemy.engine.base.Engine select relname from pg_class c join pg_namespace n on n.oid=c.relnamespace where pg_catalog.pg_table_is_visible(c.oid) and relname=%(name)s\n",
      "2017-09-05 14:34:08,717 INFO sqlalchemy.engine.base.Engine {'name': u'Inmobiliaria'}\n",
      "2017-09-05 14:34:08,720 INFO sqlalchemy.engine.base.Engine select relname from pg_class c join pg_namespace n on n.oid=c.relnamespace where pg_catalog.pg_table_is_visible(c.oid) and relname=%(name)s\n",
      "2017-09-05 14:34:08,722 INFO sqlalchemy.engine.base.Engine {'name': u'Estate'}\n",
      "2017-09-05 14:34:08,725 INFO sqlalchemy.engine.base.Engine select relname from pg_class c join pg_namespace n on n.oid=c.relnamespace where pg_catalog.pg_table_is_visible(c.oid) and relname=%(name)s\n",
      "2017-09-05 14:34:08,728 INFO sqlalchemy.engine.base.Engine {'name': u'Visit'}\n",
      "2017-09-05 14:34:08,734 INFO sqlalchemy.engine.base.Engine select relname from pg_class c join pg_namespace n on n.oid=c.relnamespace where pg_catalog.pg_table_is_visible(c.oid) and relname=%(name)s\n",
      "2017-09-05 14:34:08,735 INFO sqlalchemy.engine.base.Engine {'name': u'Sale'}\n",
      "2017-09-05 14:34:08,738 INFO sqlalchemy.engine.base.Engine select relname from pg_class c join pg_namespace n on n.oid=c.relnamespace where pg_catalog.pg_table_is_visible(c.oid) and relname=%(name)s\n",
      "2017-09-05 14:34:08,739 INFO sqlalchemy.engine.base.Engine {'name': u'Agenda'}\n"
     ]
    }
   ],
   "source": [
    "Base.metadata.create_all(engine)"
   ]
  },
  {
   "cell_type": "markdown",
   "metadata": {},
   "source": [
    "# Carga de datos\n",
    " ### Mocks -> [Mockaroo](https://www.mockaroo.com/)\n"
   ]
  },
  {
   "cell_type": "code",
   "execution_count": 5,
   "metadata": {},
   "outputs": [
    {
     "ename": "SyntaxError",
     "evalue": "EOL while scanning string literal (<ipython-input-5-79f65ece2c88>, line 11)",
     "output_type": "error",
     "traceback": [
      "\u001b[0;36m  File \u001b[0;32m\"<ipython-input-5-79f65ece2c88>\"\u001b[0;36m, line \u001b[0;32m11\u001b[0m\n\u001b[0;31m    df_wine = pd.DataFrame.from_csv(datos_wine,sep=',')\"\"\"\"\u001b[0m\n\u001b[0m                                                           \n^\u001b[0m\n\u001b[0;31mSyntaxError\u001b[0m\u001b[0;31m:\u001b[0m EOL while scanning string literal\n"
     ]
    }
   ],
   "source": [
    "\"\"\"\"datos_customer = 'data/MOCK_DATA-customer.csv'\n",
    "datos_class = 'data/MOCK_DATA-class.csv'\n",
    "datos_order = 'data/MOCK_DATA-order.csv'\n",
    "datos_time = 'data/MOCK_DATA-time.csv'\n",
    "datos_wine = 'data/MOCK_DATA-wine.csv'\n",
    "\n",
    "df_customer = pd.DataFrame.from_csv(datos_customer,sep=',')\n",
    "df_class = pd.DataFrame.from_csv(datos_class,sep=',')\n",
    "df_order = pd.DataFrame.from_csv(datos_order,sep=',')\n",
    "df_time = pd.DataFrame.from_csv(datos_time,sep=',')\n",
    "df_wine = pd.DataFrame.from_csv(datos_wine,sep=',')\"\"\"\""
   ]
  },
  {
   "cell_type": "code",
   "execution_count": null,
   "metadata": {
    "collapsed": true
   },
   "outputs": [],
   "source": [
    "# transforma los datos en sql, y los inserta.\n",
    "\"\"\"\"df_customer.to_sql(\"Customer\", con=engine, if_exists='replace')\n",
    "df_class.to_sql(\"ClaseVino\", con=engine, if_exists='replace')\n",
    "df_order.to_sql(\"Order\", con=engine, if_exists='replace')\n",
    "df_time.to_sql(\"Timestamp\", con=engine, if_exists='replace')\n",
    "df_wine.to_sql(\"Wine\", con=engine, if_exists='replace')\"\"\"\"\n"
   ]
  },
  {
   "cell_type": "markdown",
   "metadata": {
    "collapsed": true
   },
   "source": [
    "# Consultas"
   ]
  },
  {
   "cell_type": "markdown",
   "metadata": {},
   "source": [
    "### 1- ¿Que tipo de propiedad se vendio por el precio mas alto con respecto a cada ciudad y meses?"
   ]
  },
  {
   "cell_type": "code",
   "execution_count": null,
   "metadata": {
    "collapsed": true
   },
   "outputs": [],
   "source": []
  },
  {
   "cell_type": "markdown",
   "metadata": {},
   "source": [
    "### 2- ¿Quien ha comprado un piso con el precio mas alto con respecto a cada mes?"
   ]
  },
  {
   "cell_type": "code",
   "execution_count": null,
   "metadata": {
    "collapsed": true
   },
   "outputs": [],
   "source": []
  },
  {
   "cell_type": "markdown",
   "metadata": {},
   "source": [
    "### 3- ¿Cual es la duracion media de visitas en las propiedades de cada categorıa?"
   ]
  },
  {
   "cell_type": "code",
   "execution_count": null,
   "metadata": {
    "collapsed": true
   },
   "outputs": [],
   "source": []
  }
 ],
 "metadata": {
  "kernelspec": {
   "display_name": "Python 2",
   "language": "python",
   "name": "python2"
  },
  "language_info": {
   "codemirror_mode": {
    "name": "ipython",
    "version": 2
   },
   "file_extension": ".py",
   "mimetype": "text/x-python",
   "name": "python",
   "nbconvert_exporter": "python",
   "pygments_lexer": "ipython2",
   "version": "2.7.12"
  }
 },
 "nbformat": 4,
 "nbformat_minor": 2
}
