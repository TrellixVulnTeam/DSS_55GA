{
 "cells": [
  {
   "cell_type": "markdown",
   "metadata": {},
   "source": [
    "# TP 5\n",
    "\n",
    "## 1.1. Preprocesamiento de datos\n",
    "###  1. A la hora de preparar los datos antes de ser entrenados existen tres acciones basicas a realizar, explique en que consiste cada una de las siguientes y como se implementarian en Python:\n",
    "  - a) Mean subtraction\n",
    "  - b) Normalization\n",
    "  - c) Scaling\n"
   ]
  },
  {
   "cell_type": "markdown",
   "metadata": {},
   "source": [
    "## 1.1.1.a Mean subtraction\n"
   ]
  },
  {
   "cell_type": "markdown",
   "metadata": {},
   "source": [
    "## 1.1.1.b Normalization\n",
    "https://docs.microsoft.com/es-es/azure/machine-learning/team-data-science-process/prepare-data\n",
    "\n",
    "La normalización de datos escala los valores numéricos a un intervalo especificado. \n",
    "Entre los métodos de normalización de datos más conocidos se incluyen:\n",
    "  - Normalización mínima-máxima\n",
    "  - Normalización de puntuación z\n",
    "  - Escalado decimal"
   ]
  },
  {
   "cell_type": "markdown",
   "metadata": {},
   "source": [
    "### Normalización mínima maxima\n",
    "http://scikit-learn.org/stable/modules/generated/sklearn.preprocessing.MinMaxScaler.html\n",
    "\n",
    "Transforma linealmente los datos a un intervalo, por ejemplo, entre 0 y 1, donde el valor mímino se escala a 0 y el máximo a 1.\n"
   ]
  },
  {
   "cell_type": "code",
   "execution_count": 38,
   "metadata": {},
   "outputs": [
    {
     "data": {
      "text/plain": [
       "array([[ 0.  ,  0.  ],\n",
       "       [ 0.25,  0.25],\n",
       "       [ 0.5 ,  0.5 ],\n",
       "       [ 1.  ,  1.  ]])"
      ]
     },
     "execution_count": 38,
     "metadata": {},
     "output_type": "execute_result"
    }
   ],
   "source": [
    "from sklearn.preprocessing import MinMaxScaler\n",
    "\n",
    "data = [[-1, 2], [-0.5, 6], [0, 10], [1, 18]]\n",
    "\n",
    "scaler = MinMaxScaler()\n",
    "\n",
    "scaler.fit(data)\n",
    "\n",
    "MinMaxScaler(copy=True, feature_range=(0, 1))\n",
    "\n",
    "scaler.data_max_\n",
    "\n",
    "scaler.transform(data)\n"
   ]
  },
  {
   "cell_type": "markdown",
   "metadata": {},
   "source": [
    "### Normalización de puntuación z\n",
    "https://docs.scipy.org/doc/scipy-0.14.0/reference/generated/scipy.stats.mstats.zscore.html\n",
    "\n",
    "Escale los datos en función de la desviación estándar y media: divida la diferencia entre los datos y la media por la desviación estándar."
   ]
  },
  {
   "cell_type": "code",
   "execution_count": 24,
   "metadata": {},
   "outputs": [
    {
     "data": {
      "text/plain": [
       "array([ 1.12724554, -1.2469956 , -0.05542642,  1.09231569,  1.16645923,\n",
       "       -0.8558472 ,  0.57858329,  0.67480514, -1.14879659, -1.33234306])"
      ]
     },
     "execution_count": 24,
     "metadata": {},
     "output_type": "execute_result"
    }
   ],
   "source": [
    "a = np.array([ 0.7972,  0.0767,  0.4383,  0.7866,  0.8091,  0.1954,\n",
    "                   0.6307, 0.6599,  0.1065,  0.0508])\n",
    "from scipy import stats\n",
    "stats.zscore(a)"
   ]
  },
  {
   "cell_type": "markdown",
   "metadata": {},
   "source": [
    "### Escalado decimal\n",
    "Escala los datos moviendo la coma decimal del valor del atributo."
   ]
  },
  {
   "cell_type": "markdown",
   "metadata": {},
   "source": [
    "## 1.1.1.c Scaling\n",
    "Es una  técnica que se basa en redimensionar la frecuencia de muestreo de un  valor mayor  a un  valor menor. De esta manera podría usarse una  regla  de decisión  de acuerdo a la cantidad de información  contenida  en  la frecuencia mayor  dentro de cada intervalo de la frecuencia menor para elegir si la observación será una medida de  tendencia  de las observaciones  existentes o se  considerará un vacío  en la información. \n",
    "\n",
    "El scaling [http://scikit-learn.org] es un tipo de estandarización alternativa en la que existe un rango de valores situados entre un valor mínimo y máximo dado, a menudo entre cero y uno, o de manera que el valor absoluto máximo de cada característica se escala al tamaño de la unidad. Esto se puede lograr usando MinMaxScaler o MaxAbsScaler, respectivamente.\n"
   ]
  },
  {
   "cell_type": "code",
   "execution_count": 2,
   "metadata": {},
   "outputs": [],
   "source": [
    "import numpy as np\n",
    "from sklearn import preprocessing"
   ]
  },
  {
   "cell_type": "code",
   "execution_count": 3,
   "metadata": {
    "collapsed": true
   },
   "outputs": [],
   "source": [
    "x = np.array([\n",
    "    [1,2,3],\n",
    "    [2,1,2],\n",
    "    [5,4,3],\n",
    "    [10,100,15]\n",
    "])"
   ]
  },
  {
   "cell_type": "code",
   "execution_count": 4,
   "metadata": {},
   "outputs": [
    {
     "data": {
      "text/plain": [
       "array([[  1,   2,   3],\n",
       "       [  2,   1,   2],\n",
       "       [  5,   4,   3],\n",
       "       [ 10, 100,  15]])"
      ]
     },
     "execution_count": 4,
     "metadata": {},
     "output_type": "execute_result"
    }
   ],
   "source": [
    "x"
   ]
  },
  {
   "cell_type": "code",
   "execution_count": 5,
   "metadata": {},
   "outputs": [
    {
     "name": "stderr",
     "output_type": "stream",
     "text": [
      "/usr/local/lib/python2.7/dist-packages/sklearn/utils/validation.py:444: DataConversionWarning: Data with input dtype int64 was converted to float64 by MinMaxScaler.\n",
      "  warnings.warn(msg, DataConversionWarning)\n"
     ]
    },
    {
     "data": {
      "text/plain": [
       "array([[ 0.        ,  0.01010101,  0.07692308],\n",
       "       [ 0.11111111,  0.        ,  0.        ],\n",
       "       [ 0.44444444,  0.03030303,  0.07692308],\n",
       "       [ 1.        ,  1.        ,  1.        ]])"
      ]
     },
     "execution_count": 5,
     "metadata": {},
     "output_type": "execute_result"
    }
   ],
   "source": [
    "min_max_scaler = preprocessing.MinMaxScaler()\n",
    "x = min_max_scaler.fit_transform(x)\n",
    "x"
   ]
  },
  {
   "cell_type": "markdown",
   "metadata": {},
   "source": [
    "### 1.2. Introduccion a aprendizaje automatico\n",
    "##### 1 - Dentro del aprendizaje automatico, contamos con varias áreas de aplicación, entre ellas podemos encontrar: clasificación, regresiones, clustering y reducción de dimensiones. Explique que problemas resuelven los métodos que se encuentran dentro de estas áreas, explique un método dentro de cada una de ellas y de una posible aplicación.\n",
    "##### 2 - La cantidad de datos disponibles para entrenamiento pueden condicionar la elección de algún método sobre otro? y el tipo de dato?\n",
    "##### 3 - En la implementación cual es el pipe utilizado para analizar datos con una SVM? Explique parametros y función de cada paso."
   ]
  },
  {
   "attachments": {
    "image.png": {
     "image/png": "[encoded data removed]"
    }
   },
   "cell_type": "markdown",
   "metadata": {},
   "source": [
    "![image.png](attachment:image.png)"
   ]
  },
  {
   "cell_type": "markdown",
   "metadata": {},
   "source": [
    "### 1-2-1 Clasificación: \n",
    "Un sistema de clasificación predice una categoría. Los modelos de clasificación organizan los datos de entrada en categorías. \n",
    "\n",
    "• Bagging: Se basa en perturbar la composición de los datos del conjunto de aprendizaje. Con cada conjunto de datos se entrena un clasificador base y entonces se obtiene la respuesta final para una nueva instancia, mediante un esquema de votación en el que intervienen todos los clasificadores entrenados (por ejemplo, voto por mayoría) • Este procedimiento reduce la porción del error en la precisión del clasificador que se  puede imputar a la variabilidad asociada a los conjuntos de entrenamiento\n",
    "• Boosting: En este caso se trata de entrenar distintos clasificadores que complementen a otros. Un primer clasificador se entrona, y las instancias  sobre las que este clasificador comete errores, se les adjudica un peso mayor que los ejemplos clasificados correctamente. Entonces, un nuevo clasificador (posiblemente diferente) se entrena con los mismos datos de\n",
    "entrenamiento pero centrándose en los ejemplos con más peso, y así, sucesivamente.\n",
    "\n",
    "Algunos algoritmos habituales para realizar la clasificación son: máquina de vectores de soporte (SVM), árboles de decisión boosted y bagged, k-vecino más cercano, clasificadores bayesianos (Naïve Bayes), análisis discriminante, regresión logística y redes neuronales.\n",
    "\n",
    "Ejemplo:\n",
    "Un ejemplo de aplicación sería catalogar imágenes para generar álbumes en base a coordenadas.\n",
    "Las aplicaciones más habituales son las imágenes médicas, el reconocimiento de voz y la calificación crediticia."
   ]
  },
  {
   "cell_type": "markdown",
   "metadata": {},
   "source": [
    "### 1-2-1 Regresión: \n",
    "Regresión simple: Consiste en describir la relación entre las dos variables mediante una recta.\n",
    "Regresión logística: En algunas ocasiones, la variable respuesta no es una variable continua sino que se sabe que tiene una distribución discreta como puede ser una Poisson o una Binomial.\n",
    "Regresión múltiple: Un método multivariado para determinar una ecuación de regresión o predicción para predecir un valor de la variable dependiente a partir de un conjunto de variables independientes.\n",
    "\n",
    "Las técnicas de regresión predicen respuestas continuas; por ejemplo, cambios de temperatura o fluctuaciones en la demanda energética. Las aplicaciones más habituales son la predicción de la carga eléctrica y el trading algorítmico.\n",
    "\n",
    "Los algoritmos más habituales son: modelo lineal, modelo no lineal, regularización, regresión por pasos, árboles de decisión boosted y bagged, redes neuronales y aprendizaje neurodifuso adaptativo.\n",
    "\n",
    "Ejemplos:\n",
    "una regresión predice un número, como por ejemplo cuál va a ser el precio de un artículo, o el número de ventas de determinados pasajes en una aerolínea.\n",
    "Otro ejemplo, determinar el valor de una propiedad en base a atributos.\n",
    "Un grupo de 20 alumnos estuvieron entre 0 y 6 horas estudiando para un examen. Nos preguntamos cómo el número de horas estudiando para un examen afecta la probabilidad del alumno de pasar el examen?"
   ]
  },
  {
   "attachments": {
    "image.png": {
     "image/png": "[encoded data removed]"
    }
   },
   "cell_type": "markdown",
   "metadata": {},
   "source": [
    "### 1-2-1 Clustering: \n",
    "Un cluster es por tanto una colección de objetos que son “similares” entre ellos y “diferentes” a los objetos que pertenecen a otros clusters\n",
    "\n",
    "• Agrupamiento exclusivo: En este caso los datos se agrupan de un modo exclusivo, de modo que si un dato pertenece a un cluster entonces no puede estar incluido en otro. Un ejemplo de este tipo de algoritmos es el algoritmo K‐Means\n",
    "• Agrupamiento solapado: En este caso se utilizan conjuntos difusos para agrupar los datos, de forma que cada punto puede pertenecer a dos o más clusters con diferentes grados de pertenencia. El ejemplo más representativo de este tipo de algoritmos es el algoritmo Fuzzy C‐means\n",
    "• Agrupamiento jerárquico: Este tipo de algoritmos se basa en la unión sucesiva de los dos clusters más próximos. La condición inicial se establece fijando cada dato como un cluster y después de cierto número de iteraciones se consigue un árbol o dendograma, donde cada nivel proporciona un agrupamiento de los datos. Dentro de este tipo se encuentra\n",
    "cualquier versión del algoritmo Hierarchical clustering\n",
    "• Agrupamiento probabilista: En esta caso se utiliza una aproximación completamente probabilista para resolver el problema y el ejemplo más representativo es la mezcla de Gaussianas (Mixture of Gaussians)\n",
    "\n",
    "![image.png](attachment:image.png)\n",
    "\n",
    "Algunos algoritmos habituales para realizar el clustering son: k-means y k-medoids, clustering jerárquico, modelos de mezclas gaussianas, modelos de Markov ocultos, mapas autoorganizados, clustering difuso de c-means y clustering sustractivo."
   ]
  },
  {
   "cell_type": "markdown",
   "metadata": {},
   "source": [
    "Ejemplos de clustering: \n",
    "    Agrupar genes y proteínas con similar funcionalidad.\n",
    "    Agrupar documentos para explorarlos más rápido\n",
    "    Agrupar condiciones climáticas para distribución de los biomas mundiales\n",
    "    "
   ]
  },
  {
   "cell_type": "markdown",
   "metadata": {},
   "source": [
    "### 1-2-1 Reducción de la dimensión:\n",
    "Es el proceso de reducción del número de variables aleatorias que se trate y se puede dividir en selección de función y extracción de función.\n",
    "Los métodos de reducción de dimensionalidad son técnicas algorítmicas que se basan en el mapeado de un conjunto de datos dado en n dimensiones en un subespacio derivado del espacio original de m dimensiones siendo m<n, lo que nos permite encontrar una descripción de los datos a un coste menor. \n",
    "Las técnicas más utilizadas es el PCA --> \n",
    ". El método PSA trata de representar un conjunto de datos en un sub-espacio lineal de dimensionalidad reducida de forma que este aún describe de forma aceptable la varianza de los datos, es decir, que tratamos de encontrar una base lineal que reduzca la dimensionalidad de los datos donde la cantidad de la varianza sea máxima. En términos matemáticos, podemos decir que PCA, intenta encontrar un mapeado lineal M entre dos espacios de coordenadas tal que se maximice la función de coste. \n",
    "\n",
    "El método LLE (acrónimo del inglés Locally linear embedding) es un algoritmo de aprendizaje\n",
    "no supervisado que fue propuesto por . Este algoritmo es capaz de calcular una representación\n",
    "de baja dimensión manteniendo, en la representación de vecindad, suficiente información de cómo estaban los\n",
    "nodos distribuidos en el espacio de entrada.\n",
    "\n",
    "Mapas de difusión:\n",
    "Los mapas de difusión se basan en la definición de Markov de camino  aleatorio en el grafo de los datos. Realizando el camino aleatorio para el número de iteraciones, se mide la proximidad de los puntos de datos obtenidos. En la representación de baja dimensión de los datos las distancias de difusión de las parejas se retienen tan bien como es posible. La idea clave detrás de la difusión de distancias es que se basa en integrar sobre todos los caminos a través del grafo. Los mapas de difusión preservan la proximidad local entre puntos de datos construyendo una representación en forma de grafo de la estructura subyacente. Los vértices o nodos de este gráfico representan los puntos de datos, y los bordes conectando los vértices, representan similitudes entre nodos adyacentes. Si es normalizado adecuadamente, estos pesos de las aristas pueden ser interpretados como la probabilidad de un recorrido concreto sobre el grafo. Después representa el gráfico como una matriz, donde las propiedades espectrales de esta matriz se utilizan para embeber los puntos de datos en un espacio de menor dimensionalidad, habitualmente un espacio tridimensional. Los métodos que utilizan mapas de difusión son por tanto especialmente interesantes cuando nos interesa realizar un estudio profundo de la topología de los datos, para descubrir interrelaciones ocultas o inferir reglas sobre el conjunto a partir del estudio del subespacio reducido.\n",
    "\n",
    "Un ejemplo de la aplicación es el reconocimiento de caras en imágenes, mediante la distinción de variabilidad de las diferentes  caras. \n"
   ]
  },
  {
   "cell_type": "markdown",
   "metadata": {},
   "source": [
    "### 1-2-2\n",
    "Aprendizaje supervisado:\n",
    "En la regresión: Utilice técnicas de regresión si trabaja con un intervalo de datos o si la naturaleza de la respuesta es un número real, como la temperatura o el tiempo que tardará una pieza de equipamiento en fallar.\n",
    "En la clasificación: Utilice la clasificación si sus datos se pueden etiquetar, categorizar o dividir en grupos o clases concretos. \n",
    "\n",
    "si es necesario explorar  datos y se desea entrenar un modelo para localizar una buena representación interna, como la división de datos en clusters debe utilizarse aprendizaje no supervisado. \n",
    "##### Respuesta\n",
    "La cantidad de datos no influye, en la selección del método a aplicar. La mayoría de algoritmos de análisis de datos requieren cerca de 100 ejemplos de datos  de entrenamiento. Los conceptos aprendidos o reglas pueden no ser suficientes si los ejemplos\n",
    "disponibles no son suficientes. \n",
    "Por otro lado los tipos de datos si son indicadores de la selección del método a seleccionar. Los atributos o definiciones de los tipos de datos definen el tipo de aprendizaje."
   ]
  },
  {
   "cell_type": "code",
   "execution_count": 6,
   "metadata": {},
   "outputs": [
    {
     "name": "stdout",
     "output_type": "stream",
     "text": [
      "[0]\n"
     ]
    }
   ],
   "source": [
    "### 1-2-3 imeplementación clasificador SVM en scikit-learn\n",
    "import numpy as np\n",
    "X = np.array([[0, 1,0], [1, 0,0], [1, 1,0], [1, 1,1], [2,2,2], [8,7,3],[9,2,5]]) #Vector de ejemplos\n",
    "y = np.array([0, 0, 0, 1,1,1,1]) #Vector de etiquetas para clasificar\n",
    "from sklearn.svm import SVC # se importa Support Vector Clasificación \n",
    "clf = SVC()\n",
    "clf.fit(X, y) #Ajustar el modelo SVM de acuerdo con los datos de entrenamiento dados\n",
    "SVC(C=1.0, cache_size=200, class_weight=None, coef0=0.0, #Pesos asignados a las características (coeficientes en el problema primario). Esto sólo está disponible en el caso de un núcleo lineal.\n",
    "    decision_function_shape='ovr', degree=3, gamma='auto', kernel='rbf',\n",
    "    max_iter=-1, probability=False, random_state=None, shrinking=True, #max_iter Límite duro de iteraciones dentro del solver, o -1 sin límite., shrinking Si usar la heurística de reducción.\n",
    "    tol=0.001, verbose=True) #Tolerancia para el criterio de parada.\n",
    "print(clf.predict([[0,1,0]])) #Predicción"
   ]
  }
 ],
 "metadata": {
  "kernelspec": {
   "display_name": "Python 2",
   "language": "python",
   "name": "python2"
  },
  "language_info": {
   "codemirror_mode": {
    "name": "ipython",
    "version": 2
   },
   "file_extension": ".py",
   "mimetype": "text/x-python",
   "name": "python",
   "nbconvert_exporter": "python",
   "pygments_lexer": "ipython2",
   "version": "2.7.12"
  }
 },
 "nbformat": 4,
 "nbformat_minor": 2
}
